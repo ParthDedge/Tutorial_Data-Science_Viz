{
  "cells": [
    {
      "cell_type": "markdown",
      "id": "19bdc3e2",
      "metadata": {
        "id": "19bdc3e2"
      },
      "source": [
        "<div style=\"color:white;\n",
        "            display:fill;\n",
        "            border-radius:200px;\n",
        "            background-color:lightblue;\">\n",
        "<img src=\"Data_viz_logo.png\" width=\"350\" height=\"200\">"
      ]
    },
    {
      "cell_type": "markdown",
      "id": "b6477e63",
      "metadata": {
        "id": "b6477e63"
      },
      "source": [
        "<div style=\"color:white;\n",
        "            display:fill;\n",
        "            border-radius:15px;\n",
        "            background-color:#DF6589FF;\n",
        "            font-size:100%;\n",
        "            font-family:Verdana;\n",
        "            letter-spacing:1px\">\n",
        "    <h1 style='padding: 20px;\n",
        "               margin:0px auto 0px auto;\n",
        "              color:white;\n",
        "              text-align:center;'>\n",
        "        Welcome to Data Science Visualization - Parth D\n",
        "    </h1>\n",
        "    </div>"
      ]
    },
    {
      "cell_type": "markdown",
      "id": "8f83f952",
      "metadata": {
        "id": "8f83f952"
      },
      "source": [
        "# <code style=\"background:black;color:orange\">                        Pandas Tutorial\n",
        "    \n",
        "<br><br>"
      ]
    },
    {
      "cell_type": "markdown",
      "id": "2c79baff",
      "metadata": {
        "id": "2c79baff"
      },
      "source": [
        "\n",
        "1. [Pandas](#PANDAS)<br>\n",
        "      1. [Importing dataset and libraries](#1.)<br>\n",
        "      2. [Inspectin dataset](#2.)<br>\n",
        "      3. [Selecting](#3.)<br>\n",
        "      4. [Statistics](#4.)<br>\n",
        "      5. [Filter,Sort and Groupby](#5.)<br>\n",
        "      6. [Update command](#6.)<br>\n",
        "      7. [Handling null values and dropping](#7.)<br>\n",
        "      8. [Workig with date and time](#8.)"
      ]
    },
    {
      "cell_type": "markdown",
      "id": "c1a76a0f",
      "metadata": {
        "id": "c1a76a0f"
      },
      "source": [
        "2. [Matplot](#Matplot)<br>\n",
        "      1. [Basic Plots](#9.)<br>\n",
        "      2. [Plot time related data](#10.)<br>\n",
        "      3. [Implementing on dataset](#11.)<br>\n",
        "      4. [Bar plot](#12.)<br>\n",
        "      5. [Hsitograms](#13.)<br>\n",
        "      6. [Scatterplot](#14.)<br>\n",
        "      7. [Pie Charts](#15.)<br>\n",
        "      8. [Stack Plot](#16.)"
      ]
    },
    {
      "cell_type": "markdown",
      "id": "76bbcb3f",
      "metadata": {
        "id": "76bbcb3f"
      },
      "source": [
        "3. [Seaborn](#Seaborn)<br>\n",
        "      1. [Basic plots](#17.)<br>\n",
        "      2. [Histogram and Density Plots](#18.)<br>\n",
        "      3. [Pairplots](#19.)<br>\n",
        "      4. [Box Plots](#20.)<br>\n",
        "      5. [Joint Plot](#21.)<br>"
      ]
    },
    {
      "cell_type": "markdown",
      "id": "2ab3b6e2",
      "metadata": {
        "id": "2ab3b6e2"
      },
      "source": [
        "# PANDAS"
      ]
    },
    {
      "cell_type": "markdown",
      "id": "5b56a738",
      "metadata": {
        "id": "5b56a738"
      },
      "source": [
        "###  <span style='background:#D7A9E3FF;text-align:center;'> **IMPORTING DATASET AND LIBRARIES** </span>"
      ]
    },
    {
      "cell_type": "markdown",
      "id": "2b27609d",
      "metadata": {
        "id": "2b27609d"
      },
      "source": [
        "<div class=\"alert alert-block alert-success\">\n",
        "<b>import:</b>\n",
        "import statement will import the library and after importing you can use various command present in that library.<br>"
      ]
    },
    {
      "cell_type": "code",
      "execution_count": null,
      "id": "d9e7e39d",
      "metadata": {
        "id": "d9e7e39d"
      },
      "outputs": [],
      "source": [
        "import numpy as np\n",
        "import pandas as pd\n",
        "import datetime as dt"
      ]
    },
    {
      "cell_type": "markdown",
      "id": "5cf0a268",
      "metadata": {
        "id": "5cf0a268"
      },
      "source": [
        "<div class=\"alert alert-block alert-danger\">\n",
        "<b>Your commands won't execute without importing above libraries</b>"
      ]
    },
    {
      "cell_type": "markdown",
      "id": "add3f051",
      "metadata": {
        "id": "add3f051"
      },
      "source": [
        "<br>\n",
        "<div class=\"alert alert-block alert-success\">\n",
        "    <b> df:</b> is a variable name used to define dataframe.<br>\n",
        "    <b>pd.read_csv(filename) </b>: is a function to read csv file and` store it in a form of rows and coloumns commonly known as Dataframe."
      ]
    },
    {
      "cell_type": "code",
      "execution_count": null,
      "id": "d5b8a4e1",
      "metadata": {
        "id": "d5b8a4e1"
      },
      "outputs": [],
      "source": [
        "df= pd.read_csv(\"tips.csv\")"
      ]
    },
    {
      "cell_type": "markdown",
      "id": "65817492",
      "metadata": {
        "id": "65817492"
      },
      "source": [
        "<br>\n",
        "<div class=\"alert alert-block alert-success\">\n",
        "To print Dataframe just write the name of variable where you have stored your dataset"
      ]
    },
    {
      "cell_type": "code",
      "execution_count": null,
      "id": "c3d56058",
      "metadata": {
        "id": "c3d56058",
        "outputId": "56138e3b-ee3a-40c5-e160-4588e29ed1d0"
      },
      "outputs": [
        {
          "data": {
            "text/html": [
              "<div>\n",
              "<style scoped>\n",
              "    .dataframe tbody tr th:only-of-type {\n",
              "        vertical-align: middle;\n",
              "    }\n",
              "\n",
              "    .dataframe tbody tr th {\n",
              "        vertical-align: top;\n",
              "    }\n",
              "\n",
              "    .dataframe thead th {\n",
              "        text-align: right;\n",
              "    }\n",
              "</style>\n",
              "<table border=\"1\" class=\"dataframe\">\n",
              "  <thead>\n",
              "    <tr style=\"text-align: right;\">\n",
              "      <th></th>\n",
              "      <th>total_bill</th>\n",
              "      <th>tip</th>\n",
              "      <th>sex</th>\n",
              "      <th>smoker</th>\n",
              "      <th>day</th>\n",
              "      <th>time</th>\n",
              "      <th>size</th>\n",
              "    </tr>\n",
              "  </thead>\n",
              "  <tbody>\n",
              "    <tr>\n",
              "      <th>0</th>\n",
              "      <td>16.99</td>\n",
              "      <td>1.01</td>\n",
              "      <td>Female</td>\n",
              "      <td>No</td>\n",
              "      <td>Sun</td>\n",
              "      <td>Dinner</td>\n",
              "      <td>2</td>\n",
              "    </tr>\n",
              "    <tr>\n",
              "      <th>1</th>\n",
              "      <td>10.34</td>\n",
              "      <td>1.66</td>\n",
              "      <td>Male</td>\n",
              "      <td>No</td>\n",
              "      <td>Sun</td>\n",
              "      <td>Dinner</td>\n",
              "      <td>3</td>\n",
              "    </tr>\n",
              "    <tr>\n",
              "      <th>2</th>\n",
              "      <td>21.01</td>\n",
              "      <td>3.50</td>\n",
              "      <td>Male</td>\n",
              "      <td>No</td>\n",
              "      <td>Sun</td>\n",
              "      <td>Dinner</td>\n",
              "      <td>3</td>\n",
              "    </tr>\n",
              "    <tr>\n",
              "      <th>3</th>\n",
              "      <td>23.68</td>\n",
              "      <td>3.31</td>\n",
              "      <td>Male</td>\n",
              "      <td>No</td>\n",
              "      <td>Sun</td>\n",
              "      <td>Dinner</td>\n",
              "      <td>2</td>\n",
              "    </tr>\n",
              "    <tr>\n",
              "      <th>4</th>\n",
              "      <td>24.59</td>\n",
              "      <td>3.61</td>\n",
              "      <td>Female</td>\n",
              "      <td>No</td>\n",
              "      <td>Sun</td>\n",
              "      <td>Dinner</td>\n",
              "      <td>4</td>\n",
              "    </tr>\n",
              "    <tr>\n",
              "      <th>...</th>\n",
              "      <td>...</td>\n",
              "      <td>...</td>\n",
              "      <td>...</td>\n",
              "      <td>...</td>\n",
              "      <td>...</td>\n",
              "      <td>...</td>\n",
              "      <td>...</td>\n",
              "    </tr>\n",
              "    <tr>\n",
              "      <th>239</th>\n",
              "      <td>29.03</td>\n",
              "      <td>5.92</td>\n",
              "      <td>Male</td>\n",
              "      <td>No</td>\n",
              "      <td>Sat</td>\n",
              "      <td>Dinner</td>\n",
              "      <td>3</td>\n",
              "    </tr>\n",
              "    <tr>\n",
              "      <th>240</th>\n",
              "      <td>27.18</td>\n",
              "      <td>2.00</td>\n",
              "      <td>Female</td>\n",
              "      <td>Yes</td>\n",
              "      <td>Sat</td>\n",
              "      <td>Dinner</td>\n",
              "      <td>2</td>\n",
              "    </tr>\n",
              "    <tr>\n",
              "      <th>241</th>\n",
              "      <td>22.67</td>\n",
              "      <td>2.00</td>\n",
              "      <td>Male</td>\n",
              "      <td>Yes</td>\n",
              "      <td>Sat</td>\n",
              "      <td>Dinner</td>\n",
              "      <td>2</td>\n",
              "    </tr>\n",
              "    <tr>\n",
              "      <th>242</th>\n",
              "      <td>17.82</td>\n",
              "      <td>1.75</td>\n",
              "      <td>Male</td>\n",
              "      <td>No</td>\n",
              "      <td>Sat</td>\n",
              "      <td>Dinner</td>\n",
              "      <td>2</td>\n",
              "    </tr>\n",
              "    <tr>\n",
              "      <th>243</th>\n",
              "      <td>18.78</td>\n",
              "      <td>3.00</td>\n",
              "      <td>Female</td>\n",
              "      <td>No</td>\n",
              "      <td>Thur</td>\n",
              "      <td>Dinner</td>\n",
              "      <td>2</td>\n",
              "    </tr>\n",
              "  </tbody>\n",
              "</table>\n",
              "<p>244 rows × 7 columns</p>\n",
              "</div>"
            ],
            "text/plain": [
              "     total_bill   tip     sex smoker   day    time  size\n",
              "0         16.99  1.01  Female     No   Sun  Dinner     2\n",
              "1         10.34  1.66    Male     No   Sun  Dinner     3\n",
              "2         21.01  3.50    Male     No   Sun  Dinner     3\n",
              "3         23.68  3.31    Male     No   Sun  Dinner     2\n",
              "4         24.59  3.61  Female     No   Sun  Dinner     4\n",
              "..          ...   ...     ...    ...   ...     ...   ...\n",
              "239       29.03  5.92    Male     No   Sat  Dinner     3\n",
              "240       27.18  2.00  Female    Yes   Sat  Dinner     2\n",
              "241       22.67  2.00    Male    Yes   Sat  Dinner     2\n",
              "242       17.82  1.75    Male     No   Sat  Dinner     2\n",
              "243       18.78  3.00  Female     No  Thur  Dinner     2\n",
              "\n",
              "[244 rows x 7 columns]"
            ]
          },
          "execution_count": 3,
          "metadata": {},
          "output_type": "execute_result"
        }
      ],
      "source": [
        "df"
      ]
    },
    {
      "cell_type": "markdown",
      "id": "7d21177d",
      "metadata": {
        "id": "7d21177d"
      },
      "source": [
        "##### 2."
      ]
    },
    {
      "cell_type": "markdown",
      "id": "4fba44ce",
      "metadata": {
        "id": "4fba44ce"
      },
      "source": [
        "### <span style='background:#D7A9E3FF'> **INSPECTING DATASET** </span>"
      ]
    },
    {
      "cell_type": "markdown",
      "id": "47cae05f",
      "metadata": {
        "id": "47cae05f"
      },
      "source": [
        "<br>\n",
        "<div class=\"alert alert-block alert-success\">\n",
        "Before applying any operation it is very important to have proper knowledge of your Dataset.<br>for this you can use below given functions."
      ]
    },
    {
      "cell_type": "markdown",
      "id": "44949a94",
      "metadata": {
        "id": "44949a94"
      },
      "source": [
        "<br>\n",
        "<div class=\"alert alert-block alert-success\">\n",
        "<b>df.head(n)</b> | First n rows of the DataFrame"
      ]
    },
    {
      "cell_type": "code",
      "execution_count": null,
      "id": "14173631",
      "metadata": {
        "id": "14173631",
        "outputId": "ffad2106-345e-436d-89fd-f940a481dfd1"
      },
      "outputs": [
        {
          "data": {
            "text/html": [
              "<div>\n",
              "<style scoped>\n",
              "    .dataframe tbody tr th:only-of-type {\n",
              "        vertical-align: middle;\n",
              "    }\n",
              "\n",
              "    .dataframe tbody tr th {\n",
              "        vertical-align: top;\n",
              "    }\n",
              "\n",
              "    .dataframe thead th {\n",
              "        text-align: right;\n",
              "    }\n",
              "</style>\n",
              "<table border=\"1\" class=\"dataframe\">\n",
              "  <thead>\n",
              "    <tr style=\"text-align: right;\">\n",
              "      <th></th>\n",
              "      <th>total_bill</th>\n",
              "      <th>tip</th>\n",
              "      <th>sex</th>\n",
              "      <th>smoker</th>\n",
              "      <th>day</th>\n",
              "      <th>time</th>\n",
              "      <th>size</th>\n",
              "    </tr>\n",
              "  </thead>\n",
              "  <tbody>\n",
              "    <tr>\n",
              "      <th>0</th>\n",
              "      <td>16.99</td>\n",
              "      <td>1.01</td>\n",
              "      <td>Female</td>\n",
              "      <td>No</td>\n",
              "      <td>Sun</td>\n",
              "      <td>Dinner</td>\n",
              "      <td>2</td>\n",
              "    </tr>\n",
              "    <tr>\n",
              "      <th>1</th>\n",
              "      <td>10.34</td>\n",
              "      <td>1.66</td>\n",
              "      <td>Male</td>\n",
              "      <td>No</td>\n",
              "      <td>Sun</td>\n",
              "      <td>Dinner</td>\n",
              "      <td>3</td>\n",
              "    </tr>\n",
              "    <tr>\n",
              "      <th>2</th>\n",
              "      <td>21.01</td>\n",
              "      <td>3.50</td>\n",
              "      <td>Male</td>\n",
              "      <td>No</td>\n",
              "      <td>Sun</td>\n",
              "      <td>Dinner</td>\n",
              "      <td>3</td>\n",
              "    </tr>\n",
              "    <tr>\n",
              "      <th>3</th>\n",
              "      <td>23.68</td>\n",
              "      <td>3.31</td>\n",
              "      <td>Male</td>\n",
              "      <td>No</td>\n",
              "      <td>Sun</td>\n",
              "      <td>Dinner</td>\n",
              "      <td>2</td>\n",
              "    </tr>\n",
              "    <tr>\n",
              "      <th>4</th>\n",
              "      <td>24.59</td>\n",
              "      <td>3.61</td>\n",
              "      <td>Female</td>\n",
              "      <td>No</td>\n",
              "      <td>Sun</td>\n",
              "      <td>Dinner</td>\n",
              "      <td>4</td>\n",
              "    </tr>\n",
              "  </tbody>\n",
              "</table>\n",
              "</div>"
            ],
            "text/plain": [
              "   total_bill   tip     sex smoker  day    time  size\n",
              "0       16.99  1.01  Female     No  Sun  Dinner     2\n",
              "1       10.34  1.66    Male     No  Sun  Dinner     3\n",
              "2       21.01  3.50    Male     No  Sun  Dinner     3\n",
              "3       23.68  3.31    Male     No  Sun  Dinner     2\n",
              "4       24.59  3.61  Female     No  Sun  Dinner     4"
            ]
          },
          "execution_count": 4,
          "metadata": {},
          "output_type": "execute_result"
        }
      ],
      "source": [
        "df.head()"
      ]
    },
    {
      "cell_type": "markdown",
      "id": "3285c1ca",
      "metadata": {
        "id": "3285c1ca"
      },
      "source": [
        "<br>\n",
        "<div class=\"alert alert-block alert-success\">\n",
        "<b>df.tail(n)</b> | Last n rows of the DataFrame"
      ]
    },
    {
      "cell_type": "code",
      "execution_count": null,
      "id": "76e607bd",
      "metadata": {
        "id": "76e607bd",
        "outputId": "c419ca59-6bec-4c6c-de8a-b51c2d220c00"
      },
      "outputs": [
        {
          "data": {
            "text/html": [
              "<div>\n",
              "<style scoped>\n",
              "    .dataframe tbody tr th:only-of-type {\n",
              "        vertical-align: middle;\n",
              "    }\n",
              "\n",
              "    .dataframe tbody tr th {\n",
              "        vertical-align: top;\n",
              "    }\n",
              "\n",
              "    .dataframe thead th {\n",
              "        text-align: right;\n",
              "    }\n",
              "</style>\n",
              "<table border=\"1\" class=\"dataframe\">\n",
              "  <thead>\n",
              "    <tr style=\"text-align: right;\">\n",
              "      <th></th>\n",
              "      <th>total_bill</th>\n",
              "      <th>tip</th>\n",
              "      <th>sex</th>\n",
              "      <th>smoker</th>\n",
              "      <th>day</th>\n",
              "      <th>time</th>\n",
              "      <th>size</th>\n",
              "    </tr>\n",
              "  </thead>\n",
              "  <tbody>\n",
              "    <tr>\n",
              "      <th>239</th>\n",
              "      <td>29.03</td>\n",
              "      <td>5.92</td>\n",
              "      <td>Male</td>\n",
              "      <td>No</td>\n",
              "      <td>Sat</td>\n",
              "      <td>Dinner</td>\n",
              "      <td>3</td>\n",
              "    </tr>\n",
              "    <tr>\n",
              "      <th>240</th>\n",
              "      <td>27.18</td>\n",
              "      <td>2.00</td>\n",
              "      <td>Female</td>\n",
              "      <td>Yes</td>\n",
              "      <td>Sat</td>\n",
              "      <td>Dinner</td>\n",
              "      <td>2</td>\n",
              "    </tr>\n",
              "    <tr>\n",
              "      <th>241</th>\n",
              "      <td>22.67</td>\n",
              "      <td>2.00</td>\n",
              "      <td>Male</td>\n",
              "      <td>Yes</td>\n",
              "      <td>Sat</td>\n",
              "      <td>Dinner</td>\n",
              "      <td>2</td>\n",
              "    </tr>\n",
              "    <tr>\n",
              "      <th>242</th>\n",
              "      <td>17.82</td>\n",
              "      <td>1.75</td>\n",
              "      <td>Male</td>\n",
              "      <td>No</td>\n",
              "      <td>Sat</td>\n",
              "      <td>Dinner</td>\n",
              "      <td>2</td>\n",
              "    </tr>\n",
              "    <tr>\n",
              "      <th>243</th>\n",
              "      <td>18.78</td>\n",
              "      <td>3.00</td>\n",
              "      <td>Female</td>\n",
              "      <td>No</td>\n",
              "      <td>Thur</td>\n",
              "      <td>Dinner</td>\n",
              "      <td>2</td>\n",
              "    </tr>\n",
              "  </tbody>\n",
              "</table>\n",
              "</div>"
            ],
            "text/plain": [
              "     total_bill   tip     sex smoker   day    time  size\n",
              "239       29.03  5.92    Male     No   Sat  Dinner     3\n",
              "240       27.18  2.00  Female    Yes   Sat  Dinner     2\n",
              "241       22.67  2.00    Male    Yes   Sat  Dinner     2\n",
              "242       17.82  1.75    Male     No   Sat  Dinner     2\n",
              "243       18.78  3.00  Female     No  Thur  Dinner     2"
            ]
          },
          "execution_count": 5,
          "metadata": {},
          "output_type": "execute_result"
        }
      ],
      "source": [
        "df.tail()"
      ]
    },
    {
      "cell_type": "markdown",
      "id": "d60abfd8",
      "metadata": {
        "id": "d60abfd8"
      },
      "source": [
        "<br>\n",
        "<div class=\"alert alert-block alert-success\">\n",
        "<b>df.shape</b> | Number of rows and columns"
      ]
    },
    {
      "cell_type": "code",
      "execution_count": null,
      "id": "5eaeb71f",
      "metadata": {
        "id": "5eaeb71f",
        "outputId": "1455142d-05d1-4ed6-bc0d-a104bd5adcbe"
      },
      "outputs": [
        {
          "data": {
            "text/plain": [
              "(244, 7)"
            ]
          },
          "execution_count": 6,
          "metadata": {},
          "output_type": "execute_result"
        }
      ],
      "source": [
        "df.shape"
      ]
    },
    {
      "cell_type": "markdown",
      "id": "ecc18f3b",
      "metadata": {
        "id": "ecc18f3b"
      },
      "source": [
        "<br>\n",
        "<div class=\"alert alert-block alert-success\">\n",
        "<b>df.info() </b>| Index, Datatype and Memory information"
      ]
    },
    {
      "cell_type": "code",
      "execution_count": null,
      "id": "04916ea6",
      "metadata": {
        "id": "04916ea6",
        "outputId": "022d6d1c-a6a0-4813-adc0-66b6273204cc"
      },
      "outputs": [
        {
          "name": "stdout",
          "output_type": "stream",
          "text": [
            "<class 'pandas.core.frame.DataFrame'>\n",
            "RangeIndex: 244 entries, 0 to 243\n",
            "Data columns (total 7 columns):\n",
            " #   Column      Non-Null Count  Dtype  \n",
            "---  ------      --------------  -----  \n",
            " 0   total_bill  244 non-null    float64\n",
            " 1   tip         244 non-null    float64\n",
            " 2   sex         244 non-null    object \n",
            " 3   smoker      244 non-null    object \n",
            " 4   day         244 non-null    object \n",
            " 5   time        244 non-null    object \n",
            " 6   size        244 non-null    int64  \n",
            "dtypes: float64(2), int64(1), object(4)\n",
            "memory usage: 13.5+ KB\n"
          ]
        }
      ],
      "source": [
        "df.info()"
      ]
    },
    {
      "cell_type": "markdown",
      "id": "c6e0e1a0",
      "metadata": {
        "id": "c6e0e1a0"
      },
      "source": [
        "<br>\n",
        "<div class=\"alert alert-block alert-success\">\n",
        "<b>df.describe()</b> | Summary statistics for numerical columns"
      ]
    },
    {
      "cell_type": "code",
      "execution_count": null,
      "id": "98d41630",
      "metadata": {
        "id": "98d41630",
        "outputId": "9388fc57-80b4-4932-9b42-97396bf6e442"
      },
      "outputs": [
        {
          "data": {
            "text/html": [
              "<div>\n",
              "<style scoped>\n",
              "    .dataframe tbody tr th:only-of-type {\n",
              "        vertical-align: middle;\n",
              "    }\n",
              "\n",
              "    .dataframe tbody tr th {\n",
              "        vertical-align: top;\n",
              "    }\n",
              "\n",
              "    .dataframe thead th {\n",
              "        text-align: right;\n",
              "    }\n",
              "</style>\n",
              "<table border=\"1\" class=\"dataframe\">\n",
              "  <thead>\n",
              "    <tr style=\"text-align: right;\">\n",
              "      <th></th>\n",
              "      <th>total_bill</th>\n",
              "      <th>tip</th>\n",
              "      <th>size</th>\n",
              "    </tr>\n",
              "  </thead>\n",
              "  <tbody>\n",
              "    <tr>\n",
              "      <th>count</th>\n",
              "      <td>244.000000</td>\n",
              "      <td>244.000000</td>\n",
              "      <td>244.000000</td>\n",
              "    </tr>\n",
              "    <tr>\n",
              "      <th>mean</th>\n",
              "      <td>19.785943</td>\n",
              "      <td>2.998279</td>\n",
              "      <td>2.569672</td>\n",
              "    </tr>\n",
              "    <tr>\n",
              "      <th>std</th>\n",
              "      <td>8.902412</td>\n",
              "      <td>1.383638</td>\n",
              "      <td>0.951100</td>\n",
              "    </tr>\n",
              "    <tr>\n",
              "      <th>min</th>\n",
              "      <td>3.070000</td>\n",
              "      <td>1.000000</td>\n",
              "      <td>1.000000</td>\n",
              "    </tr>\n",
              "    <tr>\n",
              "      <th>25%</th>\n",
              "      <td>13.347500</td>\n",
              "      <td>2.000000</td>\n",
              "      <td>2.000000</td>\n",
              "    </tr>\n",
              "    <tr>\n",
              "      <th>50%</th>\n",
              "      <td>17.795000</td>\n",
              "      <td>2.900000</td>\n",
              "      <td>2.000000</td>\n",
              "    </tr>\n",
              "    <tr>\n",
              "      <th>75%</th>\n",
              "      <td>24.127500</td>\n",
              "      <td>3.562500</td>\n",
              "      <td>3.000000</td>\n",
              "    </tr>\n",
              "    <tr>\n",
              "      <th>max</th>\n",
              "      <td>50.810000</td>\n",
              "      <td>10.000000</td>\n",
              "      <td>6.000000</td>\n",
              "    </tr>\n",
              "  </tbody>\n",
              "</table>\n",
              "</div>"
            ],
            "text/plain": [
              "       total_bill         tip        size\n",
              "count  244.000000  244.000000  244.000000\n",
              "mean    19.785943    2.998279    2.569672\n",
              "std      8.902412    1.383638    0.951100\n",
              "min      3.070000    1.000000    1.000000\n",
              "25%     13.347500    2.000000    2.000000\n",
              "50%     17.795000    2.900000    2.000000\n",
              "75%     24.127500    3.562500    3.000000\n",
              "max     50.810000   10.000000    6.000000"
            ]
          },
          "execution_count": 8,
          "metadata": {},
          "output_type": "execute_result"
        }
      ],
      "source": [
        "df.describe()"
      ]
    },
    {
      "cell_type": "markdown",
      "id": "ea224148",
      "metadata": {
        "id": "ea224148"
      },
      "source": [
        "<br>\n",
        "<div class=\"alert alert-block alert-success\">\n",
        "<b>df.describe(include='O')</b>|statistical summary of object column"
      ]
    },
    {
      "cell_type": "code",
      "execution_count": null,
      "id": "d84ab36b",
      "metadata": {
        "id": "d84ab36b",
        "outputId": "83769c36-e02f-4a4e-b823-b0908508ce85"
      },
      "outputs": [
        {
          "data": {
            "text/html": [
              "<div>\n",
              "<style scoped>\n",
              "    .dataframe tbody tr th:only-of-type {\n",
              "        vertical-align: middle;\n",
              "    }\n",
              "\n",
              "    .dataframe tbody tr th {\n",
              "        vertical-align: top;\n",
              "    }\n",
              "\n",
              "    .dataframe thead th {\n",
              "        text-align: right;\n",
              "    }\n",
              "</style>\n",
              "<table border=\"1\" class=\"dataframe\">\n",
              "  <thead>\n",
              "    <tr style=\"text-align: right;\">\n",
              "      <th></th>\n",
              "      <th>sex</th>\n",
              "      <th>smoker</th>\n",
              "      <th>day</th>\n",
              "      <th>time</th>\n",
              "    </tr>\n",
              "  </thead>\n",
              "  <tbody>\n",
              "    <tr>\n",
              "      <th>count</th>\n",
              "      <td>244</td>\n",
              "      <td>244</td>\n",
              "      <td>244</td>\n",
              "      <td>244</td>\n",
              "    </tr>\n",
              "    <tr>\n",
              "      <th>unique</th>\n",
              "      <td>2</td>\n",
              "      <td>2</td>\n",
              "      <td>4</td>\n",
              "      <td>2</td>\n",
              "    </tr>\n",
              "    <tr>\n",
              "      <th>top</th>\n",
              "      <td>Male</td>\n",
              "      <td>No</td>\n",
              "      <td>Sat</td>\n",
              "      <td>Dinner</td>\n",
              "    </tr>\n",
              "    <tr>\n",
              "      <th>freq</th>\n",
              "      <td>157</td>\n",
              "      <td>151</td>\n",
              "      <td>87</td>\n",
              "      <td>176</td>\n",
              "    </tr>\n",
              "  </tbody>\n",
              "</table>\n",
              "</div>"
            ],
            "text/plain": [
              "         sex smoker  day    time\n",
              "count    244    244  244     244\n",
              "unique     2      2    4       2\n",
              "top     Male     No  Sat  Dinner\n",
              "freq     157    151   87     176"
            ]
          },
          "execution_count": 9,
          "metadata": {},
          "output_type": "execute_result"
        }
      ],
      "source": [
        "df.describe(include='O')"
      ]
    },
    {
      "cell_type": "markdown",
      "id": "74f929bc",
      "metadata": {
        "id": "74f929bc"
      },
      "source": [
        "<br>\n",
        "<div class=\" alert alert-block alert-success\">\n",
        "<b>df.value_counts(dropna=False)</b> | View unique values and counts"
      ]
    },
    {
      "cell_type": "code",
      "execution_count": null,
      "id": "cf5a9038",
      "metadata": {
        "id": "cf5a9038",
        "outputId": "6994d06f-6c78-4b5e-fbde-783164386621"
      },
      "outputs": [
        {
          "data": {
            "text/plain": [
              "total_bill  tip    sex     smoker  day   time    size\n",
              "13.00       2.00   Female  Yes     Thur  Lunch   2       2\n",
              "3.07        1.00   Female  Yes     Sat   Dinner  1       1\n",
              "22.23       5.00   Male    No      Sun   Dinner  2       1\n",
              "20.69       2.45   Female  No      Sat   Dinner  4       1\n",
              "            5.00   Male    No      Sun   Dinner  5       1\n",
              "                                                        ..\n",
              "15.53       3.00   Male    Yes     Sat   Dinner  2       1\n",
              "15.69       1.50   Male    Yes     Sun   Dinner  2       1\n",
              "            3.00   Male    Yes     Sat   Dinner  3       1\n",
              "15.77       2.23   Female  No      Sat   Dinner  2       1\n",
              "50.81       10.00  Male    Yes     Sat   Dinner  3       1\n",
              "Length: 243, dtype: int64"
            ]
          },
          "execution_count": 10,
          "metadata": {},
          "output_type": "execute_result"
        }
      ],
      "source": [
        "df.value_counts(dropna=False)"
      ]
    },
    {
      "cell_type": "markdown",
      "id": "68e725fa",
      "metadata": {
        "id": "68e725fa"
      },
      "source": [
        "##### 3."
      ]
    },
    {
      "cell_type": "markdown",
      "id": "5c63e192",
      "metadata": {
        "id": "5c63e192"
      },
      "source": [
        "###  <span style='background:#D7A9E3FF'> **SELECTING**</span>"
      ]
    },
    {
      "cell_type": "markdown",
      "id": "800696bc",
      "metadata": {
        "id": "800696bc"
      },
      "source": [
        "\n",
        "<div class=\" alert alert-block alert-success\">\n",
        "Use these commands to select a specific subset of your data"
      ]
    },
    {
      "cell_type": "markdown",
      "id": "9ba76c54",
      "metadata": {
        "id": "9ba76c54"
      },
      "source": [
        "<br>\n",
        "<div class=\" alert alert-block alert-success\">\n",
        "<b>df[col] </b>| Returns column with label col as Series"
      ]
    },
    {
      "cell_type": "code",
      "execution_count": null,
      "id": "0625cf4a",
      "metadata": {
        "id": "0625cf4a",
        "outputId": "50da241c-57a5-4a9d-9196-b73a2b9054bd"
      },
      "outputs": [
        {
          "data": {
            "text/plain": [
              "0    1.01\n",
              "1    1.66\n",
              "2    3.50\n",
              "3    3.31\n",
              "4    3.61\n",
              "Name: tip, dtype: float64"
            ]
          },
          "execution_count": 11,
          "metadata": {},
          "output_type": "execute_result"
        }
      ],
      "source": [
        "df['tip'].head()"
      ]
    },
    {
      "cell_type": "markdown",
      "id": "a60e610c",
      "metadata": {
        "id": "a60e610c"
      },
      "source": [
        "<br>\n",
        "<div class=\" alert alert-block alert-success\">\n",
        "<b>df[[col1, col2]] </b>| Returns columns as a new DataFrame"
      ]
    },
    {
      "cell_type": "code",
      "execution_count": null,
      "id": "e17df5ec",
      "metadata": {
        "id": "e17df5ec",
        "outputId": "81fa503d-87e8-4fa1-c7bf-025c74a01b7f"
      },
      "outputs": [
        {
          "data": {
            "text/html": [
              "<div>\n",
              "<style scoped>\n",
              "    .dataframe tbody tr th:only-of-type {\n",
              "        vertical-align: middle;\n",
              "    }\n",
              "\n",
              "    .dataframe tbody tr th {\n",
              "        vertical-align: top;\n",
              "    }\n",
              "\n",
              "    .dataframe thead th {\n",
              "        text-align: right;\n",
              "    }\n",
              "</style>\n",
              "<table border=\"1\" class=\"dataframe\">\n",
              "  <thead>\n",
              "    <tr style=\"text-align: right;\">\n",
              "      <th></th>\n",
              "      <th>tip</th>\n",
              "      <th>day</th>\n",
              "    </tr>\n",
              "  </thead>\n",
              "  <tbody>\n",
              "    <tr>\n",
              "      <th>239</th>\n",
              "      <td>5.92</td>\n",
              "      <td>Sat</td>\n",
              "    </tr>\n",
              "    <tr>\n",
              "      <th>240</th>\n",
              "      <td>2.00</td>\n",
              "      <td>Sat</td>\n",
              "    </tr>\n",
              "    <tr>\n",
              "      <th>241</th>\n",
              "      <td>2.00</td>\n",
              "      <td>Sat</td>\n",
              "    </tr>\n",
              "    <tr>\n",
              "      <th>242</th>\n",
              "      <td>1.75</td>\n",
              "      <td>Sat</td>\n",
              "    </tr>\n",
              "    <tr>\n",
              "      <th>243</th>\n",
              "      <td>3.00</td>\n",
              "      <td>Thur</td>\n",
              "    </tr>\n",
              "  </tbody>\n",
              "</table>\n",
              "</div>"
            ],
            "text/plain": [
              "      tip   day\n",
              "239  5.92   Sat\n",
              "240  2.00   Sat\n",
              "241  2.00   Sat\n",
              "242  1.75   Sat\n",
              "243  3.00  Thur"
            ]
          },
          "execution_count": 12,
          "metadata": {},
          "output_type": "execute_result"
        }
      ],
      "source": [
        "df[['tip','day']].tail()"
      ]
    },
    {
      "cell_type": "markdown",
      "id": "3bc428ba",
      "metadata": {
        "id": "3bc428ba"
      },
      "source": [
        "<br>\n",
        "<div class=\" alert alert-block alert-success\">\n",
        "<b>df.iloc[[row_index],[column_name]]</b> | Selection by position"
      ]
    },
    {
      "cell_type": "code",
      "execution_count": null,
      "id": "bd4ea893",
      "metadata": {
        "id": "bd4ea893",
        "outputId": "b7a0a2d9-bd11-4803-8c4f-4c41be201a79"
      },
      "outputs": [
        {
          "data": {
            "text/html": [
              "<div>\n",
              "<style scoped>\n",
              "    .dataframe tbody tr th:only-of-type {\n",
              "        vertical-align: middle;\n",
              "    }\n",
              "\n",
              "    .dataframe tbody tr th {\n",
              "        vertical-align: top;\n",
              "    }\n",
              "\n",
              "    .dataframe thead th {\n",
              "        text-align: right;\n",
              "    }\n",
              "</style>\n",
              "<table border=\"1\" class=\"dataframe\">\n",
              "  <thead>\n",
              "    <tr style=\"text-align: right;\">\n",
              "      <th></th>\n",
              "      <th>total_bill</th>\n",
              "      <th>tip</th>\n",
              "      <th>sex</th>\n",
              "    </tr>\n",
              "  </thead>\n",
              "  <tbody>\n",
              "    <tr>\n",
              "      <th>0</th>\n",
              "      <td>16.99</td>\n",
              "      <td>1.01</td>\n",
              "      <td>Female</td>\n",
              "    </tr>\n",
              "    <tr>\n",
              "      <th>1</th>\n",
              "      <td>10.34</td>\n",
              "      <td>1.66</td>\n",
              "      <td>Male</td>\n",
              "    </tr>\n",
              "    <tr>\n",
              "      <th>2</th>\n",
              "      <td>21.01</td>\n",
              "      <td>3.50</td>\n",
              "      <td>Male</td>\n",
              "    </tr>\n",
              "    <tr>\n",
              "      <th>3</th>\n",
              "      <td>23.68</td>\n",
              "      <td>3.31</td>\n",
              "      <td>Male</td>\n",
              "    </tr>\n",
              "    <tr>\n",
              "      <th>4</th>\n",
              "      <td>24.59</td>\n",
              "      <td>3.61</td>\n",
              "      <td>Female</td>\n",
              "    </tr>\n",
              "  </tbody>\n",
              "</table>\n",
              "</div>"
            ],
            "text/plain": [
              "   total_bill   tip     sex\n",
              "0       16.99  1.01  Female\n",
              "1       10.34  1.66    Male\n",
              "2       21.01  3.50    Male\n",
              "3       23.68  3.31    Male\n",
              "4       24.59  3.61  Female"
            ]
          },
          "execution_count": 13,
          "metadata": {},
          "output_type": "execute_result"
        }
      ],
      "source": [
        "df.iloc[0:5,0:3]"
      ]
    },
    {
      "cell_type": "markdown",
      "id": "8f943b00",
      "metadata": {
        "id": "8f943b00"
      },
      "source": [
        "<br>\n",
        "<div class=\" alert alert-block alert-success\">\n",
        "<b>df.loc['index_one','column_name'] </b>| Selection by name of indexname and columname"
      ]
    },
    {
      "cell_type": "code",
      "execution_count": null,
      "id": "a80a56d4",
      "metadata": {
        "id": "a80a56d4",
        "outputId": "1b8a56c2-b78d-4709-a8fc-2c786932ec0d"
      },
      "outputs": [
        {
          "data": {
            "text/html": [
              "<div>\n",
              "<style scoped>\n",
              "    .dataframe tbody tr th:only-of-type {\n",
              "        vertical-align: middle;\n",
              "    }\n",
              "\n",
              "    .dataframe tbody tr th {\n",
              "        vertical-align: top;\n",
              "    }\n",
              "\n",
              "    .dataframe thead th {\n",
              "        text-align: right;\n",
              "    }\n",
              "</style>\n",
              "<table border=\"1\" class=\"dataframe\">\n",
              "  <thead>\n",
              "    <tr style=\"text-align: right;\">\n",
              "      <th></th>\n",
              "      <th>total_bill</th>\n",
              "      <th>tip</th>\n",
              "      <th>sex</th>\n",
              "    </tr>\n",
              "  </thead>\n",
              "  <tbody>\n",
              "    <tr>\n",
              "      <th>0</th>\n",
              "      <td>16.99</td>\n",
              "      <td>1.01</td>\n",
              "      <td>Female</td>\n",
              "    </tr>\n",
              "    <tr>\n",
              "      <th>1</th>\n",
              "      <td>10.34</td>\n",
              "      <td>1.66</td>\n",
              "      <td>Male</td>\n",
              "    </tr>\n",
              "    <tr>\n",
              "      <th>2</th>\n",
              "      <td>21.01</td>\n",
              "      <td>3.50</td>\n",
              "      <td>Male</td>\n",
              "    </tr>\n",
              "    <tr>\n",
              "      <th>3</th>\n",
              "      <td>23.68</td>\n",
              "      <td>3.31</td>\n",
              "      <td>Male</td>\n",
              "    </tr>\n",
              "    <tr>\n",
              "      <th>4</th>\n",
              "      <td>24.59</td>\n",
              "      <td>3.61</td>\n",
              "      <td>Female</td>\n",
              "    </tr>\n",
              "    <tr>\n",
              "      <th>5</th>\n",
              "      <td>25.29</td>\n",
              "      <td>4.71</td>\n",
              "      <td>Male</td>\n",
              "    </tr>\n",
              "  </tbody>\n",
              "</table>\n",
              "</div>"
            ],
            "text/plain": [
              "   total_bill   tip     sex\n",
              "0       16.99  1.01  Female\n",
              "1       10.34  1.66    Male\n",
              "2       21.01  3.50    Male\n",
              "3       23.68  3.31    Male\n",
              "4       24.59  3.61  Female\n",
              "5       25.29  4.71    Male"
            ]
          },
          "execution_count": 14,
          "metadata": {},
          "output_type": "execute_result"
        }
      ],
      "source": [
        "df.loc[0:5,'total_bill':'sex']"
      ]
    },
    {
      "cell_type": "markdown",
      "id": "0f2b3060",
      "metadata": {
        "id": "0f2b3060"
      },
      "source": [
        "##### 4."
      ]
    },
    {
      "cell_type": "markdown",
      "id": "abf7e37a",
      "metadata": {
        "id": "abf7e37a"
      },
      "source": [
        "### <span style='background:#D7A9E3FF'> **STATISTICS**</span>"
      ]
    },
    {
      "cell_type": "markdown",
      "id": "5a4ffc64",
      "metadata": {
        "id": "5a4ffc64"
      },
      "source": [
        "<br>\n",
        "<div class=\" alert alert-block alert-success\">\n",
        "Use these commands to perform various statistical tests. (These can all be applied to a series as well.)"
      ]
    },
    {
      "cell_type": "markdown",
      "id": "f9eea4bb",
      "metadata": {
        "id": "f9eea4bb"
      },
      "source": [
        "<br>\n",
        "<div class=\" alert alert-block alert-success\">\n",
        "<b> df.column_name.sum() :</b> gives sum of all values in dataframe/series"
      ]
    },
    {
      "cell_type": "code",
      "execution_count": null,
      "id": "3f13a646",
      "metadata": {
        "id": "3f13a646",
        "outputId": "476a776d-fef3-470a-cf7a-b3c21028b221"
      },
      "outputs": [
        {
          "data": {
            "text/plain": [
              "4827.77"
            ]
          },
          "execution_count": 15,
          "metadata": {},
          "output_type": "execute_result"
        }
      ],
      "source": [
        "df.total_bill.sum()"
      ]
    },
    {
      "cell_type": "markdown",
      "id": "e0ad1e95",
      "metadata": {
        "id": "e0ad1e95"
      },
      "source": [
        "<br>\n",
        "<div class=\" alert alert-block alert-success\">\n",
        "<b>df.describe()</b> | Summary statistics for numerical columns"
      ]
    },
    {
      "cell_type": "code",
      "execution_count": null,
      "id": "9c054322",
      "metadata": {
        "id": "9c054322",
        "outputId": "7cebf57d-8b20-48b8-924d-b9f9b3a8ea4d"
      },
      "outputs": [
        {
          "data": {
            "text/html": [
              "<div>\n",
              "<style scoped>\n",
              "    .dataframe tbody tr th:only-of-type {\n",
              "        vertical-align: middle;\n",
              "    }\n",
              "\n",
              "    .dataframe tbody tr th {\n",
              "        vertical-align: top;\n",
              "    }\n",
              "\n",
              "    .dataframe thead th {\n",
              "        text-align: right;\n",
              "    }\n",
              "</style>\n",
              "<table border=\"1\" class=\"dataframe\">\n",
              "  <thead>\n",
              "    <tr style=\"text-align: right;\">\n",
              "      <th></th>\n",
              "      <th>total_bill</th>\n",
              "      <th>tip</th>\n",
              "      <th>size</th>\n",
              "    </tr>\n",
              "  </thead>\n",
              "  <tbody>\n",
              "    <tr>\n",
              "      <th>count</th>\n",
              "      <td>244.000000</td>\n",
              "      <td>244.000000</td>\n",
              "      <td>244.000000</td>\n",
              "    </tr>\n",
              "    <tr>\n",
              "      <th>mean</th>\n",
              "      <td>19.785943</td>\n",
              "      <td>2.998279</td>\n",
              "      <td>2.569672</td>\n",
              "    </tr>\n",
              "    <tr>\n",
              "      <th>std</th>\n",
              "      <td>8.902412</td>\n",
              "      <td>1.383638</td>\n",
              "      <td>0.951100</td>\n",
              "    </tr>\n",
              "    <tr>\n",
              "      <th>min</th>\n",
              "      <td>3.070000</td>\n",
              "      <td>1.000000</td>\n",
              "      <td>1.000000</td>\n",
              "    </tr>\n",
              "    <tr>\n",
              "      <th>25%</th>\n",
              "      <td>13.347500</td>\n",
              "      <td>2.000000</td>\n",
              "      <td>2.000000</td>\n",
              "    </tr>\n",
              "    <tr>\n",
              "      <th>50%</th>\n",
              "      <td>17.795000</td>\n",
              "      <td>2.900000</td>\n",
              "      <td>2.000000</td>\n",
              "    </tr>\n",
              "    <tr>\n",
              "      <th>75%</th>\n",
              "      <td>24.127500</td>\n",
              "      <td>3.562500</td>\n",
              "      <td>3.000000</td>\n",
              "    </tr>\n",
              "    <tr>\n",
              "      <th>max</th>\n",
              "      <td>50.810000</td>\n",
              "      <td>10.000000</td>\n",
              "      <td>6.000000</td>\n",
              "    </tr>\n",
              "  </tbody>\n",
              "</table>\n",
              "</div>"
            ],
            "text/plain": [
              "       total_bill         tip        size\n",
              "count  244.000000  244.000000  244.000000\n",
              "mean    19.785943    2.998279    2.569672\n",
              "std      8.902412    1.383638    0.951100\n",
              "min      3.070000    1.000000    1.000000\n",
              "25%     13.347500    2.000000    2.000000\n",
              "50%     17.795000    2.900000    2.000000\n",
              "75%     24.127500    3.562500    3.000000\n",
              "max     50.810000   10.000000    6.000000"
            ]
          },
          "execution_count": 16,
          "metadata": {},
          "output_type": "execute_result"
        }
      ],
      "source": [
        "df.describe()"
      ]
    },
    {
      "cell_type": "markdown",
      "id": "deaf90cd",
      "metadata": {
        "id": "deaf90cd"
      },
      "source": [
        "<br>\n",
        "<div class=\" alert alert-block alert-success\">\n",
        "<b>df.mean()</b> | Returns the mean of all columns"
      ]
    },
    {
      "cell_type": "code",
      "execution_count": null,
      "id": "4c9a8968",
      "metadata": {
        "id": "4c9a8968",
        "outputId": "7fca5f43-1cf1-499e-e18a-42ea5d1abb10"
      },
      "outputs": [
        {
          "data": {
            "text/plain": [
              "total_bill    19.785943\n",
              "tip            2.998279\n",
              "size           2.569672\n",
              "dtype: float64"
            ]
          },
          "execution_count": 17,
          "metadata": {},
          "output_type": "execute_result"
        }
      ],
      "source": [
        "df.mean(numeric_only=True)"
      ]
    },
    {
      "cell_type": "markdown",
      "id": "3f57c7e0",
      "metadata": {
        "id": "3f57c7e0"
      },
      "source": [
        "<br>\n",
        "<div class=\" alert alert-block alert-success\">\n",
        "<b>df.corr()</b> | Returns the correlation between columns in a DataFrame"
      ]
    },
    {
      "cell_type": "code",
      "execution_count": null,
      "id": "feed1ead",
      "metadata": {
        "id": "feed1ead",
        "outputId": "ad751d71-30d5-4175-a57a-0b920dc28b92"
      },
      "outputs": [
        {
          "data": {
            "text/html": [
              "<div>\n",
              "<style scoped>\n",
              "    .dataframe tbody tr th:only-of-type {\n",
              "        vertical-align: middle;\n",
              "    }\n",
              "\n",
              "    .dataframe tbody tr th {\n",
              "        vertical-align: top;\n",
              "    }\n",
              "\n",
              "    .dataframe thead th {\n",
              "        text-align: right;\n",
              "    }\n",
              "</style>\n",
              "<table border=\"1\" class=\"dataframe\">\n",
              "  <thead>\n",
              "    <tr style=\"text-align: right;\">\n",
              "      <th></th>\n",
              "      <th>total_bill</th>\n",
              "      <th>tip</th>\n",
              "      <th>size</th>\n",
              "    </tr>\n",
              "  </thead>\n",
              "  <tbody>\n",
              "    <tr>\n",
              "      <th>total_bill</th>\n",
              "      <td>1.000000</td>\n",
              "      <td>0.675734</td>\n",
              "      <td>0.598315</td>\n",
              "    </tr>\n",
              "    <tr>\n",
              "      <th>tip</th>\n",
              "      <td>0.675734</td>\n",
              "      <td>1.000000</td>\n",
              "      <td>0.489299</td>\n",
              "    </tr>\n",
              "    <tr>\n",
              "      <th>size</th>\n",
              "      <td>0.598315</td>\n",
              "      <td>0.489299</td>\n",
              "      <td>1.000000</td>\n",
              "    </tr>\n",
              "  </tbody>\n",
              "</table>\n",
              "</div>"
            ],
            "text/plain": [
              "            total_bill       tip      size\n",
              "total_bill    1.000000  0.675734  0.598315\n",
              "tip           0.675734  1.000000  0.489299\n",
              "size          0.598315  0.489299  1.000000"
            ]
          },
          "execution_count": 18,
          "metadata": {},
          "output_type": "execute_result"
        }
      ],
      "source": [
        "df.corr()"
      ]
    },
    {
      "cell_type": "markdown",
      "id": "545175da",
      "metadata": {
        "id": "545175da"
      },
      "source": [
        "<br>\n",
        "<div class=\" alert alert-block alert-success\">\n",
        "<b>df.count()</b> | Returns the number of non-null values in each DataFrame column"
      ]
    },
    {
      "cell_type": "code",
      "execution_count": null,
      "id": "cbbd3a99",
      "metadata": {
        "id": "cbbd3a99",
        "outputId": "bd6e2fe1-08a9-4a29-ee7b-4ec8dfc68448"
      },
      "outputs": [
        {
          "data": {
            "text/plain": [
              "total_bill    244\n",
              "tip           244\n",
              "sex           244\n",
              "smoker        244\n",
              "day           244\n",
              "time          244\n",
              "size          244\n",
              "dtype: int64"
            ]
          },
          "execution_count": 19,
          "metadata": {},
          "output_type": "execute_result"
        }
      ],
      "source": [
        "df.count()"
      ]
    },
    {
      "cell_type": "markdown",
      "id": "3ebc98c8",
      "metadata": {
        "id": "3ebc98c8"
      },
      "source": [
        "<br>\n",
        "<div class=\" alert alert-block alert-success\">\n",
        "<b>df.max()</b> | Returns the highest value in each column"
      ]
    },
    {
      "cell_type": "code",
      "execution_count": null,
      "id": "695466c2",
      "metadata": {
        "id": "695466c2",
        "outputId": "ab893f8b-b7b1-424b-f382-1935e4697f2a"
      },
      "outputs": [
        {
          "data": {
            "text/plain": [
              "total_bill    50.81\n",
              "tip            10.0\n",
              "sex            Male\n",
              "smoker          Yes\n",
              "day            Thur\n",
              "time          Lunch\n",
              "size              6\n",
              "dtype: object"
            ]
          },
          "execution_count": 20,
          "metadata": {},
          "output_type": "execute_result"
        }
      ],
      "source": [
        "df.max()"
      ]
    },
    {
      "cell_type": "markdown",
      "id": "74ec3716",
      "metadata": {
        "id": "74ec3716"
      },
      "source": [
        "<br>\n",
        "<div class=\" alert alert-block alert-success\">\n",
        "<b>df.min()</b> | Returns the lowest value in each column"
      ]
    },
    {
      "cell_type": "code",
      "execution_count": null,
      "id": "5d83a68a",
      "metadata": {
        "id": "5d83a68a",
        "outputId": "33eb0df2-76e8-47b8-8016-898b4a7de641"
      },
      "outputs": [
        {
          "data": {
            "text/plain": [
              "total_bill      3.07\n",
              "tip              1.0\n",
              "sex           Female\n",
              "smoker            No\n",
              "day              Fri\n",
              "time          Dinner\n",
              "size               1\n",
              "dtype: object"
            ]
          },
          "execution_count": 21,
          "metadata": {},
          "output_type": "execute_result"
        }
      ],
      "source": [
        "df.min()"
      ]
    },
    {
      "cell_type": "markdown",
      "id": "8d82ea7c",
      "metadata": {
        "id": "8d82ea7c"
      },
      "source": [
        "<br>\n",
        "<div class=\" alert alert-block alert-success\">\n",
        "<b>df.median()</b> | Returns the median of each column"
      ]
    },
    {
      "cell_type": "code",
      "execution_count": null,
      "id": "7f8b0d67",
      "metadata": {
        "id": "7f8b0d67",
        "outputId": "5a647b99-ccd4-4417-cae1-3f87fa6b8ab4"
      },
      "outputs": [
        {
          "data": {
            "text/plain": [
              "total_bill    17.795\n",
              "tip            2.900\n",
              "size           2.000\n",
              "dtype: float64"
            ]
          },
          "execution_count": 22,
          "metadata": {},
          "output_type": "execute_result"
        }
      ],
      "source": [
        "df.median(numeric_only=True)"
      ]
    },
    {
      "cell_type": "markdown",
      "id": "789f9470",
      "metadata": {
        "id": "789f9470"
      },
      "source": [
        "<br>\n",
        "<div class=\" alert alert-block alert-success\">\n",
        "<b>df.std()</b>| Returns the standard deviation of each column\n"
      ]
    },
    {
      "cell_type": "code",
      "execution_count": null,
      "id": "6ae5cdcc",
      "metadata": {
        "id": "6ae5cdcc",
        "outputId": "6e69efb8-17d6-46e7-d1bb-2a569c03a408"
      },
      "outputs": [
        {
          "data": {
            "text/plain": [
              "total_bill    8.902412\n",
              "tip           1.383638\n",
              "size          0.951100\n",
              "dtype: float64"
            ]
          },
          "execution_count": 23,
          "metadata": {},
          "output_type": "execute_result"
        }
      ],
      "source": [
        "df.std(numeric_only=True)"
      ]
    },
    {
      "cell_type": "markdown",
      "id": "960ac17f",
      "metadata": {
        "id": "960ac17f"
      },
      "source": [
        "##### 5."
      ]
    },
    {
      "cell_type": "markdown",
      "id": "830eae32",
      "metadata": {
        "id": "830eae32"
      },
      "source": [
        "### <span style='background:#D7A9E3FF'> **FILTER,SORT AND GROUPBY**</span>"
      ]
    },
    {
      "cell_type": "markdown",
      "id": "9ea6a0d8",
      "metadata": {
        "id": "9ea6a0d8"
      },
      "source": [
        "<br>\n",
        "<div class=\" alert alert-block alert-success\">\n",
        "Use these commands to filter, sort, and group your data."
      ]
    },
    {
      "cell_type": "markdown",
      "id": "6f70e474",
      "metadata": {
        "id": "6f70e474"
      },
      "source": [
        "<br>\n",
        "<div class=\" alert alert-block alert-success\">\n",
        "<b>nlargest(n) or nsmallest(n) :</b>\n",
        "In some cases, we do not have a specific range for filtering but just need the largest or smallest values.\n",
        "The nlargest and nsmallest functions allow for selecting rows that have the largest or smallest values in a column, respectively."
      ]
    },
    {
      "cell_type": "code",
      "execution_count": null,
      "id": "6901e4e9",
      "metadata": {
        "id": "6901e4e9",
        "outputId": "445a2c46-fc12-4880-c2d0-e81e5f676cee"
      },
      "outputs": [
        {
          "data": {
            "text/html": [
              "<div>\n",
              "<style scoped>\n",
              "    .dataframe tbody tr th:only-of-type {\n",
              "        vertical-align: middle;\n",
              "    }\n",
              "\n",
              "    .dataframe tbody tr th {\n",
              "        vertical-align: top;\n",
              "    }\n",
              "\n",
              "    .dataframe thead th {\n",
              "        text-align: right;\n",
              "    }\n",
              "</style>\n",
              "<table border=\"1\" class=\"dataframe\">\n",
              "  <thead>\n",
              "    <tr style=\"text-align: right;\">\n",
              "      <th></th>\n",
              "      <th>total_bill</th>\n",
              "      <th>tip</th>\n",
              "      <th>sex</th>\n",
              "      <th>smoker</th>\n",
              "      <th>day</th>\n",
              "      <th>time</th>\n",
              "      <th>size</th>\n",
              "    </tr>\n",
              "  </thead>\n",
              "  <tbody>\n",
              "    <tr>\n",
              "      <th>170</th>\n",
              "      <td>50.81</td>\n",
              "      <td>10.00</td>\n",
              "      <td>Male</td>\n",
              "      <td>Yes</td>\n",
              "      <td>Sat</td>\n",
              "      <td>Dinner</td>\n",
              "      <td>3</td>\n",
              "    </tr>\n",
              "    <tr>\n",
              "      <th>212</th>\n",
              "      <td>48.33</td>\n",
              "      <td>9.00</td>\n",
              "      <td>Male</td>\n",
              "      <td>No</td>\n",
              "      <td>Sat</td>\n",
              "      <td>Dinner</td>\n",
              "      <td>4</td>\n",
              "    </tr>\n",
              "    <tr>\n",
              "      <th>59</th>\n",
              "      <td>48.27</td>\n",
              "      <td>6.73</td>\n",
              "      <td>Male</td>\n",
              "      <td>No</td>\n",
              "      <td>Sat</td>\n",
              "      <td>Dinner</td>\n",
              "      <td>4</td>\n",
              "    </tr>\n",
              "    <tr>\n",
              "      <th>156</th>\n",
              "      <td>48.17</td>\n",
              "      <td>5.00</td>\n",
              "      <td>Male</td>\n",
              "      <td>No</td>\n",
              "      <td>Sun</td>\n",
              "      <td>Dinner</td>\n",
              "      <td>6</td>\n",
              "    </tr>\n",
              "    <tr>\n",
              "      <th>182</th>\n",
              "      <td>45.35</td>\n",
              "      <td>3.50</td>\n",
              "      <td>Male</td>\n",
              "      <td>Yes</td>\n",
              "      <td>Sun</td>\n",
              "      <td>Dinner</td>\n",
              "      <td>3</td>\n",
              "    </tr>\n",
              "  </tbody>\n",
              "</table>\n",
              "</div>"
            ],
            "text/plain": [
              "     total_bill    tip   sex smoker  day    time  size\n",
              "170       50.81  10.00  Male    Yes  Sat  Dinner     3\n",
              "212       48.33   9.00  Male     No  Sat  Dinner     4\n",
              "59        48.27   6.73  Male     No  Sat  Dinner     4\n",
              "156       48.17   5.00  Male     No  Sun  Dinner     6\n",
              "182       45.35   3.50  Male    Yes  Sun  Dinner     3"
            ]
          },
          "execution_count": 24,
          "metadata": {},
          "output_type": "execute_result"
        }
      ],
      "source": [
        "df.nlargest(5, 'total_bill')"
      ]
    },
    {
      "cell_type": "code",
      "execution_count": null,
      "id": "a8de3eee",
      "metadata": {
        "id": "a8de3eee",
        "outputId": "4ee6d2e3-f0e7-4233-a71d-1fd6d4d6d80b"
      },
      "outputs": [
        {
          "data": {
            "text/html": [
              "<div>\n",
              "<style scoped>\n",
              "    .dataframe tbody tr th:only-of-type {\n",
              "        vertical-align: middle;\n",
              "    }\n",
              "\n",
              "    .dataframe tbody tr th {\n",
              "        vertical-align: top;\n",
              "    }\n",
              "\n",
              "    .dataframe thead th {\n",
              "        text-align: right;\n",
              "    }\n",
              "</style>\n",
              "<table border=\"1\" class=\"dataframe\">\n",
              "  <thead>\n",
              "    <tr style=\"text-align: right;\">\n",
              "      <th></th>\n",
              "      <th>total_bill</th>\n",
              "      <th>tip</th>\n",
              "      <th>sex</th>\n",
              "      <th>smoker</th>\n",
              "      <th>day</th>\n",
              "      <th>time</th>\n",
              "      <th>size</th>\n",
              "    </tr>\n",
              "  </thead>\n",
              "  <tbody>\n",
              "    <tr>\n",
              "      <th>67</th>\n",
              "      <td>3.07</td>\n",
              "      <td>1.00</td>\n",
              "      <td>Female</td>\n",
              "      <td>Yes</td>\n",
              "      <td>Sat</td>\n",
              "      <td>Dinner</td>\n",
              "      <td>1</td>\n",
              "    </tr>\n",
              "    <tr>\n",
              "      <th>92</th>\n",
              "      <td>5.75</td>\n",
              "      <td>1.00</td>\n",
              "      <td>Female</td>\n",
              "      <td>Yes</td>\n",
              "      <td>Fri</td>\n",
              "      <td>Dinner</td>\n",
              "      <td>2</td>\n",
              "    </tr>\n",
              "    <tr>\n",
              "      <th>111</th>\n",
              "      <td>7.25</td>\n",
              "      <td>1.00</td>\n",
              "      <td>Female</td>\n",
              "      <td>No</td>\n",
              "      <td>Sat</td>\n",
              "      <td>Dinner</td>\n",
              "      <td>1</td>\n",
              "    </tr>\n",
              "    <tr>\n",
              "      <th>172</th>\n",
              "      <td>7.25</td>\n",
              "      <td>5.15</td>\n",
              "      <td>Male</td>\n",
              "      <td>Yes</td>\n",
              "      <td>Sun</td>\n",
              "      <td>Dinner</td>\n",
              "      <td>2</td>\n",
              "    </tr>\n",
              "    <tr>\n",
              "      <th>149</th>\n",
              "      <td>7.51</td>\n",
              "      <td>2.00</td>\n",
              "      <td>Male</td>\n",
              "      <td>No</td>\n",
              "      <td>Thur</td>\n",
              "      <td>Lunch</td>\n",
              "      <td>2</td>\n",
              "    </tr>\n",
              "  </tbody>\n",
              "</table>\n",
              "</div>"
            ],
            "text/plain": [
              "     total_bill   tip     sex smoker   day    time  size\n",
              "67         3.07  1.00  Female    Yes   Sat  Dinner     1\n",
              "92         5.75  1.00  Female    Yes   Fri  Dinner     2\n",
              "111        7.25  1.00  Female     No   Sat  Dinner     1\n",
              "172        7.25  5.15    Male    Yes   Sun  Dinner     2\n",
              "149        7.51  2.00    Male     No  Thur   Lunch     2"
            ]
          },
          "execution_count": 25,
          "metadata": {},
          "output_type": "execute_result"
        }
      ],
      "source": [
        "df.nsmallest(5, 'total_bill')"
      ]
    },
    {
      "cell_type": "markdown",
      "id": "86eccaa0",
      "metadata": {
        "id": "86eccaa0"
      },
      "source": [
        "<br>\n",
        "<div class=\" alert alert-block alert-success\">\n",
        "<b>df[df[col] > 0.5] </b>| Rows where the column col is greater than 5 and filtering on the basis of day column."
      ]
    },
    {
      "cell_type": "code",
      "execution_count": null,
      "id": "a4d4b217",
      "metadata": {
        "id": "a4d4b217",
        "outputId": "be9c4ea8-2fd3-4825-bb17-f7edffdde278"
      },
      "outputs": [
        {
          "data": {
            "text/plain": [
              "Sun     8\n",
              "Sat     7\n",
              "Thur    3\n",
              "Name: day, dtype: int64"
            ]
          },
          "execution_count": 26,
          "metadata": {},
          "output_type": "execute_result"
        }
      ],
      "source": [
        "df[df['tip'] > 5].day.value_counts()"
      ]
    },
    {
      "cell_type": "markdown",
      "id": "a7ae68c4",
      "metadata": {
        "id": "a7ae68c4"
      },
      "source": [
        "<br>\n",
        "<div class=\" alert alert-block alert-success\">\n",
        "Multiple logical operators\n",
        "Pandas allows for combining multiple logical operators. For instance, we can apply conditions on both val and val2 columns as below."
      ]
    },
    {
      "cell_type": "markdown",
      "id": "2e917f75",
      "metadata": {
        "id": "2e917f75"
      },
      "source": [
        "<br>\n",
        "<div class=\" alert alert-block alert-success\">\n",
        "<b>df[(df[col] > 5) & (df[col] < 7)] </b>| Rows where 7 > col > 5 and filtering with first 5 largest value of DataFrame with respect to tip column"
      ]
    },
    {
      "cell_type": "code",
      "execution_count": null,
      "id": "674f98d1",
      "metadata": {
        "id": "674f98d1",
        "outputId": "51fc26e3-d802-4f3a-ce2f-57cc9dbf1966"
      },
      "outputs": [
        {
          "data": {
            "text/html": [
              "<div>\n",
              "<style scoped>\n",
              "    .dataframe tbody tr th:only-of-type {\n",
              "        vertical-align: middle;\n",
              "    }\n",
              "\n",
              "    .dataframe tbody tr th {\n",
              "        vertical-align: top;\n",
              "    }\n",
              "\n",
              "    .dataframe thead th {\n",
              "        text-align: right;\n",
              "    }\n",
              "</style>\n",
              "<table border=\"1\" class=\"dataframe\">\n",
              "  <thead>\n",
              "    <tr style=\"text-align: right;\">\n",
              "      <th></th>\n",
              "      <th>total_bill</th>\n",
              "      <th>tip</th>\n",
              "      <th>sex</th>\n",
              "      <th>smoker</th>\n",
              "      <th>day</th>\n",
              "      <th>time</th>\n",
              "      <th>size</th>\n",
              "    </tr>\n",
              "  </thead>\n",
              "  <tbody>\n",
              "    <tr>\n",
              "      <th>59</th>\n",
              "      <td>48.27</td>\n",
              "      <td>6.73</td>\n",
              "      <td>Male</td>\n",
              "      <td>No</td>\n",
              "      <td>Sat</td>\n",
              "      <td>Dinner</td>\n",
              "      <td>4</td>\n",
              "    </tr>\n",
              "    <tr>\n",
              "      <th>141</th>\n",
              "      <td>34.30</td>\n",
              "      <td>6.70</td>\n",
              "      <td>Male</td>\n",
              "      <td>No</td>\n",
              "      <td>Thur</td>\n",
              "      <td>Lunch</td>\n",
              "      <td>6</td>\n",
              "    </tr>\n",
              "    <tr>\n",
              "      <th>183</th>\n",
              "      <td>23.17</td>\n",
              "      <td>6.50</td>\n",
              "      <td>Male</td>\n",
              "      <td>Yes</td>\n",
              "      <td>Sun</td>\n",
              "      <td>Dinner</td>\n",
              "      <td>4</td>\n",
              "    </tr>\n",
              "    <tr>\n",
              "      <th>214</th>\n",
              "      <td>28.17</td>\n",
              "      <td>6.50</td>\n",
              "      <td>Female</td>\n",
              "      <td>Yes</td>\n",
              "      <td>Sat</td>\n",
              "      <td>Dinner</td>\n",
              "      <td>3</td>\n",
              "    </tr>\n",
              "    <tr>\n",
              "      <th>47</th>\n",
              "      <td>32.40</td>\n",
              "      <td>6.00</td>\n",
              "      <td>Male</td>\n",
              "      <td>No</td>\n",
              "      <td>Sun</td>\n",
              "      <td>Dinner</td>\n",
              "      <td>4</td>\n",
              "    </tr>\n",
              "  </tbody>\n",
              "</table>\n",
              "</div>"
            ],
            "text/plain": [
              "     total_bill   tip     sex smoker   day    time  size\n",
              "59        48.27  6.73    Male     No   Sat  Dinner     4\n",
              "141       34.30  6.70    Male     No  Thur   Lunch     6\n",
              "183       23.17  6.50    Male    Yes   Sun  Dinner     4\n",
              "214       28.17  6.50  Female    Yes   Sat  Dinner     3\n",
              "47        32.40  6.00    Male     No   Sun  Dinner     4"
            ]
          },
          "execution_count": 27,
          "metadata": {},
          "output_type": "execute_result"
        }
      ],
      "source": [
        "df[(df['tip'] > 5) & (df['tip'] < 7)].nlargest(5,'tip')"
      ]
    },
    {
      "cell_type": "markdown",
      "id": "d6c5f1c6",
      "metadata": {
        "id": "d6c5f1c6"
      },
      "source": [
        "<div class=\"alert alert-block alert-danger\">\n",
        "<b>& operator :</b> In & operator both the condition should be true"
      ]
    },
    {
      "cell_type": "markdown",
      "id": "2b13580f",
      "metadata": {
        "id": "2b13580f"
      },
      "source": [
        "<br>\n",
        "<div class=\" alert alert-block alert-success\">\n",
        "<b>df[(df[col] > 5) | (df[col] < 7)] </b>| Rows where 7 > col or col > 5 and filtering with first 5 largest value of DataFrame with respect to tip column"
      ]
    },
    {
      "cell_type": "code",
      "execution_count": null,
      "id": "d727612f",
      "metadata": {
        "id": "d727612f",
        "outputId": "7eb05f49-3966-4a35-d385-23f55ccaf515"
      },
      "outputs": [
        {
          "data": {
            "text/html": [
              "<div>\n",
              "<style scoped>\n",
              "    .dataframe tbody tr th:only-of-type {\n",
              "        vertical-align: middle;\n",
              "    }\n",
              "\n",
              "    .dataframe tbody tr th {\n",
              "        vertical-align: top;\n",
              "    }\n",
              "\n",
              "    .dataframe thead th {\n",
              "        text-align: right;\n",
              "    }\n",
              "</style>\n",
              "<table border=\"1\" class=\"dataframe\">\n",
              "  <thead>\n",
              "    <tr style=\"text-align: right;\">\n",
              "      <th></th>\n",
              "      <th>total_bill</th>\n",
              "      <th>tip</th>\n",
              "      <th>sex</th>\n",
              "      <th>smoker</th>\n",
              "      <th>day</th>\n",
              "      <th>time</th>\n",
              "      <th>size</th>\n",
              "    </tr>\n",
              "  </thead>\n",
              "  <tbody>\n",
              "    <tr>\n",
              "      <th>67</th>\n",
              "      <td>3.07</td>\n",
              "      <td>1.00</td>\n",
              "      <td>Female</td>\n",
              "      <td>Yes</td>\n",
              "      <td>Sat</td>\n",
              "      <td>Dinner</td>\n",
              "      <td>1</td>\n",
              "    </tr>\n",
              "    <tr>\n",
              "      <th>92</th>\n",
              "      <td>5.75</td>\n",
              "      <td>1.00</td>\n",
              "      <td>Female</td>\n",
              "      <td>Yes</td>\n",
              "      <td>Fri</td>\n",
              "      <td>Dinner</td>\n",
              "      <td>2</td>\n",
              "    </tr>\n",
              "    <tr>\n",
              "      <th>111</th>\n",
              "      <td>7.25</td>\n",
              "      <td>1.00</td>\n",
              "      <td>Female</td>\n",
              "      <td>No</td>\n",
              "      <td>Sat</td>\n",
              "      <td>Dinner</td>\n",
              "      <td>1</td>\n",
              "    </tr>\n",
              "    <tr>\n",
              "      <th>236</th>\n",
              "      <td>12.60</td>\n",
              "      <td>1.00</td>\n",
              "      <td>Male</td>\n",
              "      <td>Yes</td>\n",
              "      <td>Sat</td>\n",
              "      <td>Dinner</td>\n",
              "      <td>2</td>\n",
              "    </tr>\n",
              "    <tr>\n",
              "      <th>0</th>\n",
              "      <td>16.99</td>\n",
              "      <td>1.01</td>\n",
              "      <td>Female</td>\n",
              "      <td>No</td>\n",
              "      <td>Sun</td>\n",
              "      <td>Dinner</td>\n",
              "      <td>2</td>\n",
              "    </tr>\n",
              "  </tbody>\n",
              "</table>\n",
              "</div>"
            ],
            "text/plain": [
              "     total_bill   tip     sex smoker  day    time  size\n",
              "67         3.07  1.00  Female    Yes  Sat  Dinner     1\n",
              "92         5.75  1.00  Female    Yes  Fri  Dinner     2\n",
              "111        7.25  1.00  Female     No  Sat  Dinner     1\n",
              "236       12.60  1.00    Male    Yes  Sat  Dinner     2\n",
              "0         16.99  1.01  Female     No  Sun  Dinner     2"
            ]
          },
          "execution_count": 28,
          "metadata": {},
          "output_type": "execute_result"
        }
      ],
      "source": [
        "df[(df['tip'] > 5) | (df['tip'] < 7)].nsmallest(5,'tip')"
      ]
    },
    {
      "cell_type": "markdown",
      "id": "696cd185",
      "metadata": {
        "id": "696cd185"
      },
      "source": [
        "<div class=\"alert alert-block alert-danger\">\n",
        "<b>| operator :</b> In |(or) operator is used when atleast one condition needs to be True"
      ]
    },
    {
      "cell_type": "markdown",
      "id": "0d159a2a",
      "metadata": {
        "id": "0d159a2a"
      },
      "source": [
        "<br>\n",
        "<div class=\" alert alert-block alert-success\">\n",
        "<b>df.sort_values(col1)</b> | Sort values by col1 in ascending order"
      ]
    },
    {
      "cell_type": "code",
      "execution_count": null,
      "id": "c97a0b01",
      "metadata": {
        "id": "c97a0b01",
        "outputId": "d470ec3e-7ef0-47a5-eaf3-f280e88fe553"
      },
      "outputs": [
        {
          "data": {
            "text/html": [
              "<div>\n",
              "<style scoped>\n",
              "    .dataframe tbody tr th:only-of-type {\n",
              "        vertical-align: middle;\n",
              "    }\n",
              "\n",
              "    .dataframe tbody tr th {\n",
              "        vertical-align: top;\n",
              "    }\n",
              "\n",
              "    .dataframe thead th {\n",
              "        text-align: right;\n",
              "    }\n",
              "</style>\n",
              "<table border=\"1\" class=\"dataframe\">\n",
              "  <thead>\n",
              "    <tr style=\"text-align: right;\">\n",
              "      <th></th>\n",
              "      <th>total_bill</th>\n",
              "      <th>tip</th>\n",
              "      <th>sex</th>\n",
              "      <th>smoker</th>\n",
              "      <th>day</th>\n",
              "      <th>time</th>\n",
              "      <th>size</th>\n",
              "    </tr>\n",
              "  </thead>\n",
              "  <tbody>\n",
              "    <tr>\n",
              "      <th>67</th>\n",
              "      <td>3.07</td>\n",
              "      <td>1.00</td>\n",
              "      <td>Female</td>\n",
              "      <td>Yes</td>\n",
              "      <td>Sat</td>\n",
              "      <td>Dinner</td>\n",
              "      <td>1</td>\n",
              "    </tr>\n",
              "    <tr>\n",
              "      <th>92</th>\n",
              "      <td>5.75</td>\n",
              "      <td>1.00</td>\n",
              "      <td>Female</td>\n",
              "      <td>Yes</td>\n",
              "      <td>Fri</td>\n",
              "      <td>Dinner</td>\n",
              "      <td>2</td>\n",
              "    </tr>\n",
              "    <tr>\n",
              "      <th>111</th>\n",
              "      <td>7.25</td>\n",
              "      <td>1.00</td>\n",
              "      <td>Female</td>\n",
              "      <td>No</td>\n",
              "      <td>Sat</td>\n",
              "      <td>Dinner</td>\n",
              "      <td>1</td>\n",
              "    </tr>\n",
              "    <tr>\n",
              "      <th>172</th>\n",
              "      <td>7.25</td>\n",
              "      <td>5.15</td>\n",
              "      <td>Male</td>\n",
              "      <td>Yes</td>\n",
              "      <td>Sun</td>\n",
              "      <td>Dinner</td>\n",
              "      <td>2</td>\n",
              "    </tr>\n",
              "    <tr>\n",
              "      <th>149</th>\n",
              "      <td>7.51</td>\n",
              "      <td>2.00</td>\n",
              "      <td>Male</td>\n",
              "      <td>No</td>\n",
              "      <td>Thur</td>\n",
              "      <td>Lunch</td>\n",
              "      <td>2</td>\n",
              "    </tr>\n",
              "    <tr>\n",
              "      <th>...</th>\n",
              "      <td>...</td>\n",
              "      <td>...</td>\n",
              "      <td>...</td>\n",
              "      <td>...</td>\n",
              "      <td>...</td>\n",
              "      <td>...</td>\n",
              "      <td>...</td>\n",
              "    </tr>\n",
              "    <tr>\n",
              "      <th>182</th>\n",
              "      <td>45.35</td>\n",
              "      <td>3.50</td>\n",
              "      <td>Male</td>\n",
              "      <td>Yes</td>\n",
              "      <td>Sun</td>\n",
              "      <td>Dinner</td>\n",
              "      <td>3</td>\n",
              "    </tr>\n",
              "    <tr>\n",
              "      <th>156</th>\n",
              "      <td>48.17</td>\n",
              "      <td>5.00</td>\n",
              "      <td>Male</td>\n",
              "      <td>No</td>\n",
              "      <td>Sun</td>\n",
              "      <td>Dinner</td>\n",
              "      <td>6</td>\n",
              "    </tr>\n",
              "    <tr>\n",
              "      <th>59</th>\n",
              "      <td>48.27</td>\n",
              "      <td>6.73</td>\n",
              "      <td>Male</td>\n",
              "      <td>No</td>\n",
              "      <td>Sat</td>\n",
              "      <td>Dinner</td>\n",
              "      <td>4</td>\n",
              "    </tr>\n",
              "    <tr>\n",
              "      <th>212</th>\n",
              "      <td>48.33</td>\n",
              "      <td>9.00</td>\n",
              "      <td>Male</td>\n",
              "      <td>No</td>\n",
              "      <td>Sat</td>\n",
              "      <td>Dinner</td>\n",
              "      <td>4</td>\n",
              "    </tr>\n",
              "    <tr>\n",
              "      <th>170</th>\n",
              "      <td>50.81</td>\n",
              "      <td>10.00</td>\n",
              "      <td>Male</td>\n",
              "      <td>Yes</td>\n",
              "      <td>Sat</td>\n",
              "      <td>Dinner</td>\n",
              "      <td>3</td>\n",
              "    </tr>\n",
              "  </tbody>\n",
              "</table>\n",
              "<p>244 rows × 7 columns</p>\n",
              "</div>"
            ],
            "text/plain": [
              "     total_bill    tip     sex smoker   day    time  size\n",
              "67         3.07   1.00  Female    Yes   Sat  Dinner     1\n",
              "92         5.75   1.00  Female    Yes   Fri  Dinner     2\n",
              "111        7.25   1.00  Female     No   Sat  Dinner     1\n",
              "172        7.25   5.15    Male    Yes   Sun  Dinner     2\n",
              "149        7.51   2.00    Male     No  Thur   Lunch     2\n",
              "..          ...    ...     ...    ...   ...     ...   ...\n",
              "182       45.35   3.50    Male    Yes   Sun  Dinner     3\n",
              "156       48.17   5.00    Male     No   Sun  Dinner     6\n",
              "59        48.27   6.73    Male     No   Sat  Dinner     4\n",
              "212       48.33   9.00    Male     No   Sat  Dinner     4\n",
              "170       50.81  10.00    Male    Yes   Sat  Dinner     3\n",
              "\n",
              "[244 rows x 7 columns]"
            ]
          },
          "execution_count": 29,
          "metadata": {},
          "output_type": "execute_result"
        }
      ],
      "source": [
        "df.sort_values('total_bill')"
      ]
    },
    {
      "cell_type": "markdown",
      "id": "4d7729bf",
      "metadata": {
        "id": "4d7729bf"
      },
      "source": [
        "<br>\n",
        "<div class=\" alert alert-block alert-success\">\n",
        "<b>df.sort_values(col2,ascending=False)</b> | Sort values by col2 in descending order"
      ]
    },
    {
      "cell_type": "code",
      "execution_count": null,
      "id": "04abc61e",
      "metadata": {
        "id": "04abc61e",
        "outputId": "1b6ee6db-6324-4fc4-a81b-b3172836221b"
      },
      "outputs": [
        {
          "data": {
            "text/html": [
              "<div>\n",
              "<style scoped>\n",
              "    .dataframe tbody tr th:only-of-type {\n",
              "        vertical-align: middle;\n",
              "    }\n",
              "\n",
              "    .dataframe tbody tr th {\n",
              "        vertical-align: top;\n",
              "    }\n",
              "\n",
              "    .dataframe thead th {\n",
              "        text-align: right;\n",
              "    }\n",
              "</style>\n",
              "<table border=\"1\" class=\"dataframe\">\n",
              "  <thead>\n",
              "    <tr style=\"text-align: right;\">\n",
              "      <th></th>\n",
              "      <th>total_bill</th>\n",
              "      <th>tip</th>\n",
              "      <th>sex</th>\n",
              "      <th>smoker</th>\n",
              "      <th>day</th>\n",
              "      <th>time</th>\n",
              "      <th>size</th>\n",
              "    </tr>\n",
              "  </thead>\n",
              "  <tbody>\n",
              "    <tr>\n",
              "      <th>170</th>\n",
              "      <td>50.81</td>\n",
              "      <td>10.00</td>\n",
              "      <td>Male</td>\n",
              "      <td>Yes</td>\n",
              "      <td>Sat</td>\n",
              "      <td>Dinner</td>\n",
              "      <td>3</td>\n",
              "    </tr>\n",
              "    <tr>\n",
              "      <th>212</th>\n",
              "      <td>48.33</td>\n",
              "      <td>9.00</td>\n",
              "      <td>Male</td>\n",
              "      <td>No</td>\n",
              "      <td>Sat</td>\n",
              "      <td>Dinner</td>\n",
              "      <td>4</td>\n",
              "    </tr>\n",
              "    <tr>\n",
              "      <th>59</th>\n",
              "      <td>48.27</td>\n",
              "      <td>6.73</td>\n",
              "      <td>Male</td>\n",
              "      <td>No</td>\n",
              "      <td>Sat</td>\n",
              "      <td>Dinner</td>\n",
              "      <td>4</td>\n",
              "    </tr>\n",
              "    <tr>\n",
              "      <th>156</th>\n",
              "      <td>48.17</td>\n",
              "      <td>5.00</td>\n",
              "      <td>Male</td>\n",
              "      <td>No</td>\n",
              "      <td>Sun</td>\n",
              "      <td>Dinner</td>\n",
              "      <td>6</td>\n",
              "    </tr>\n",
              "    <tr>\n",
              "      <th>182</th>\n",
              "      <td>45.35</td>\n",
              "      <td>3.50</td>\n",
              "      <td>Male</td>\n",
              "      <td>Yes</td>\n",
              "      <td>Sun</td>\n",
              "      <td>Dinner</td>\n",
              "      <td>3</td>\n",
              "    </tr>\n",
              "    <tr>\n",
              "      <th>...</th>\n",
              "      <td>...</td>\n",
              "      <td>...</td>\n",
              "      <td>...</td>\n",
              "      <td>...</td>\n",
              "      <td>...</td>\n",
              "      <td>...</td>\n",
              "      <td>...</td>\n",
              "    </tr>\n",
              "    <tr>\n",
              "      <th>149</th>\n",
              "      <td>7.51</td>\n",
              "      <td>2.00</td>\n",
              "      <td>Male</td>\n",
              "      <td>No</td>\n",
              "      <td>Thur</td>\n",
              "      <td>Lunch</td>\n",
              "      <td>2</td>\n",
              "    </tr>\n",
              "    <tr>\n",
              "      <th>111</th>\n",
              "      <td>7.25</td>\n",
              "      <td>1.00</td>\n",
              "      <td>Female</td>\n",
              "      <td>No</td>\n",
              "      <td>Sat</td>\n",
              "      <td>Dinner</td>\n",
              "      <td>1</td>\n",
              "    </tr>\n",
              "    <tr>\n",
              "      <th>172</th>\n",
              "      <td>7.25</td>\n",
              "      <td>5.15</td>\n",
              "      <td>Male</td>\n",
              "      <td>Yes</td>\n",
              "      <td>Sun</td>\n",
              "      <td>Dinner</td>\n",
              "      <td>2</td>\n",
              "    </tr>\n",
              "    <tr>\n",
              "      <th>92</th>\n",
              "      <td>5.75</td>\n",
              "      <td>1.00</td>\n",
              "      <td>Female</td>\n",
              "      <td>Yes</td>\n",
              "      <td>Fri</td>\n",
              "      <td>Dinner</td>\n",
              "      <td>2</td>\n",
              "    </tr>\n",
              "    <tr>\n",
              "      <th>67</th>\n",
              "      <td>3.07</td>\n",
              "      <td>1.00</td>\n",
              "      <td>Female</td>\n",
              "      <td>Yes</td>\n",
              "      <td>Sat</td>\n",
              "      <td>Dinner</td>\n",
              "      <td>1</td>\n",
              "    </tr>\n",
              "  </tbody>\n",
              "</table>\n",
              "<p>244 rows × 7 columns</p>\n",
              "</div>"
            ],
            "text/plain": [
              "     total_bill    tip     sex smoker   day    time  size\n",
              "170       50.81  10.00    Male    Yes   Sat  Dinner     3\n",
              "212       48.33   9.00    Male     No   Sat  Dinner     4\n",
              "59        48.27   6.73    Male     No   Sat  Dinner     4\n",
              "156       48.17   5.00    Male     No   Sun  Dinner     6\n",
              "182       45.35   3.50    Male    Yes   Sun  Dinner     3\n",
              "..          ...    ...     ...    ...   ...     ...   ...\n",
              "149        7.51   2.00    Male     No  Thur   Lunch     2\n",
              "111        7.25   1.00  Female     No   Sat  Dinner     1\n",
              "172        7.25   5.15    Male    Yes   Sun  Dinner     2\n",
              "92         5.75   1.00  Female    Yes   Fri  Dinner     2\n",
              "67         3.07   1.00  Female    Yes   Sat  Dinner     1\n",
              "\n",
              "[244 rows x 7 columns]"
            ]
          },
          "execution_count": 30,
          "metadata": {},
          "output_type": "execute_result"
        }
      ],
      "source": [
        "df.sort_values('total_bill',ascending=False)"
      ]
    },
    {
      "cell_type": "markdown",
      "id": "afe19d35",
      "metadata": {
        "id": "afe19d35"
      },
      "source": [
        "<br>\n",
        "<div class=\" alert alert-block alert-success\">\n",
        "<b>df.sort_index(col)</b> | sort values on the basis of index"
      ]
    },
    {
      "cell_type": "code",
      "execution_count": null,
      "id": "f78029c2",
      "metadata": {
        "id": "f78029c2",
        "outputId": "6261908b-1fa1-4190-f0c9-87f317dae728"
      },
      "outputs": [
        {
          "data": {
            "text/html": [
              "<div>\n",
              "<style scoped>\n",
              "    .dataframe tbody tr th:only-of-type {\n",
              "        vertical-align: middle;\n",
              "    }\n",
              "\n",
              "    .dataframe tbody tr th {\n",
              "        vertical-align: top;\n",
              "    }\n",
              "\n",
              "    .dataframe thead th {\n",
              "        text-align: right;\n",
              "    }\n",
              "</style>\n",
              "<table border=\"1\" class=\"dataframe\">\n",
              "  <thead>\n",
              "    <tr style=\"text-align: right;\">\n",
              "      <th></th>\n",
              "      <th>total_bill</th>\n",
              "      <th>tip</th>\n",
              "      <th>sex</th>\n",
              "      <th>smoker</th>\n",
              "      <th>day</th>\n",
              "      <th>time</th>\n",
              "      <th>size</th>\n",
              "    </tr>\n",
              "  </thead>\n",
              "  <tbody>\n",
              "    <tr>\n",
              "      <th>243</th>\n",
              "      <td>18.78</td>\n",
              "      <td>3.00</td>\n",
              "      <td>Female</td>\n",
              "      <td>No</td>\n",
              "      <td>Thur</td>\n",
              "      <td>Dinner</td>\n",
              "      <td>2</td>\n",
              "    </tr>\n",
              "    <tr>\n",
              "      <th>242</th>\n",
              "      <td>17.82</td>\n",
              "      <td>1.75</td>\n",
              "      <td>Male</td>\n",
              "      <td>No</td>\n",
              "      <td>Sat</td>\n",
              "      <td>Dinner</td>\n",
              "      <td>2</td>\n",
              "    </tr>\n",
              "    <tr>\n",
              "      <th>241</th>\n",
              "      <td>22.67</td>\n",
              "      <td>2.00</td>\n",
              "      <td>Male</td>\n",
              "      <td>Yes</td>\n",
              "      <td>Sat</td>\n",
              "      <td>Dinner</td>\n",
              "      <td>2</td>\n",
              "    </tr>\n",
              "    <tr>\n",
              "      <th>240</th>\n",
              "      <td>27.18</td>\n",
              "      <td>2.00</td>\n",
              "      <td>Female</td>\n",
              "      <td>Yes</td>\n",
              "      <td>Sat</td>\n",
              "      <td>Dinner</td>\n",
              "      <td>2</td>\n",
              "    </tr>\n",
              "    <tr>\n",
              "      <th>239</th>\n",
              "      <td>29.03</td>\n",
              "      <td>5.92</td>\n",
              "      <td>Male</td>\n",
              "      <td>No</td>\n",
              "      <td>Sat</td>\n",
              "      <td>Dinner</td>\n",
              "      <td>3</td>\n",
              "    </tr>\n",
              "    <tr>\n",
              "      <th>...</th>\n",
              "      <td>...</td>\n",
              "      <td>...</td>\n",
              "      <td>...</td>\n",
              "      <td>...</td>\n",
              "      <td>...</td>\n",
              "      <td>...</td>\n",
              "      <td>...</td>\n",
              "    </tr>\n",
              "    <tr>\n",
              "      <th>4</th>\n",
              "      <td>24.59</td>\n",
              "      <td>3.61</td>\n",
              "      <td>Female</td>\n",
              "      <td>No</td>\n",
              "      <td>Sun</td>\n",
              "      <td>Dinner</td>\n",
              "      <td>4</td>\n",
              "    </tr>\n",
              "    <tr>\n",
              "      <th>3</th>\n",
              "      <td>23.68</td>\n",
              "      <td>3.31</td>\n",
              "      <td>Male</td>\n",
              "      <td>No</td>\n",
              "      <td>Sun</td>\n",
              "      <td>Dinner</td>\n",
              "      <td>2</td>\n",
              "    </tr>\n",
              "    <tr>\n",
              "      <th>2</th>\n",
              "      <td>21.01</td>\n",
              "      <td>3.50</td>\n",
              "      <td>Male</td>\n",
              "      <td>No</td>\n",
              "      <td>Sun</td>\n",
              "      <td>Dinner</td>\n",
              "      <td>3</td>\n",
              "    </tr>\n",
              "    <tr>\n",
              "      <th>1</th>\n",
              "      <td>10.34</td>\n",
              "      <td>1.66</td>\n",
              "      <td>Male</td>\n",
              "      <td>No</td>\n",
              "      <td>Sun</td>\n",
              "      <td>Dinner</td>\n",
              "      <td>3</td>\n",
              "    </tr>\n",
              "    <tr>\n",
              "      <th>0</th>\n",
              "      <td>16.99</td>\n",
              "      <td>1.01</td>\n",
              "      <td>Female</td>\n",
              "      <td>No</td>\n",
              "      <td>Sun</td>\n",
              "      <td>Dinner</td>\n",
              "      <td>2</td>\n",
              "    </tr>\n",
              "  </tbody>\n",
              "</table>\n",
              "<p>244 rows × 7 columns</p>\n",
              "</div>"
            ],
            "text/plain": [
              "     total_bill   tip     sex smoker   day    time  size\n",
              "243       18.78  3.00  Female     No  Thur  Dinner     2\n",
              "242       17.82  1.75    Male     No   Sat  Dinner     2\n",
              "241       22.67  2.00    Male    Yes   Sat  Dinner     2\n",
              "240       27.18  2.00  Female    Yes   Sat  Dinner     2\n",
              "239       29.03  5.92    Male     No   Sat  Dinner     3\n",
              "..          ...   ...     ...    ...   ...     ...   ...\n",
              "4         24.59  3.61  Female     No   Sun  Dinner     4\n",
              "3         23.68  3.31    Male     No   Sun  Dinner     2\n",
              "2         21.01  3.50    Male     No   Sun  Dinner     3\n",
              "1         10.34  1.66    Male     No   Sun  Dinner     3\n",
              "0         16.99  1.01  Female     No   Sun  Dinner     2\n",
              "\n",
              "[244 rows x 7 columns]"
            ]
          },
          "execution_count": 31,
          "metadata": {},
          "output_type": "execute_result"
        }
      ],
      "source": [
        "df.sort_index(ascending=False)"
      ]
    },
    {
      "cell_type": "markdown",
      "id": "c9510f0c",
      "metadata": {
        "id": "c9510f0c"
      },
      "source": [
        "<br>\n",
        "<div class=\" alert alert-block alert-success\">\n",
        "<b>contains :</b>The contains function under the str accessor returns the values that contain a given set of characters."
      ]
    },
    {
      "cell_type": "code",
      "execution_count": null,
      "id": "47f9ddc8",
      "metadata": {
        "id": "47f9ddc8",
        "outputId": "f234aa17-2de1-422f-854b-c92b11ab40d1"
      },
      "outputs": [
        {
          "data": {
            "text/html": [
              "<div>\n",
              "<style scoped>\n",
              "    .dataframe tbody tr th:only-of-type {\n",
              "        vertical-align: middle;\n",
              "    }\n",
              "\n",
              "    .dataframe tbody tr th {\n",
              "        vertical-align: top;\n",
              "    }\n",
              "\n",
              "    .dataframe thead th {\n",
              "        text-align: right;\n",
              "    }\n",
              "</style>\n",
              "<table border=\"1\" class=\"dataframe\">\n",
              "  <thead>\n",
              "    <tr style=\"text-align: right;\">\n",
              "      <th></th>\n",
              "      <th>total_bill</th>\n",
              "      <th>tip</th>\n",
              "      <th>sex</th>\n",
              "      <th>smoker</th>\n",
              "      <th>day</th>\n",
              "      <th>time</th>\n",
              "      <th>size</th>\n",
              "    </tr>\n",
              "  </thead>\n",
              "  <tbody>\n",
              "    <tr>\n",
              "      <th>0</th>\n",
              "      <td>16.99</td>\n",
              "      <td>1.01</td>\n",
              "      <td>Female</td>\n",
              "      <td>No</td>\n",
              "      <td>Sun</td>\n",
              "      <td>Dinner</td>\n",
              "      <td>2</td>\n",
              "    </tr>\n",
              "    <tr>\n",
              "      <th>1</th>\n",
              "      <td>10.34</td>\n",
              "      <td>1.66</td>\n",
              "      <td>Male</td>\n",
              "      <td>No</td>\n",
              "      <td>Sun</td>\n",
              "      <td>Dinner</td>\n",
              "      <td>3</td>\n",
              "    </tr>\n",
              "    <tr>\n",
              "      <th>2</th>\n",
              "      <td>21.01</td>\n",
              "      <td>3.50</td>\n",
              "      <td>Male</td>\n",
              "      <td>No</td>\n",
              "      <td>Sun</td>\n",
              "      <td>Dinner</td>\n",
              "      <td>3</td>\n",
              "    </tr>\n",
              "    <tr>\n",
              "      <th>3</th>\n",
              "      <td>23.68</td>\n",
              "      <td>3.31</td>\n",
              "      <td>Male</td>\n",
              "      <td>No</td>\n",
              "      <td>Sun</td>\n",
              "      <td>Dinner</td>\n",
              "      <td>2</td>\n",
              "    </tr>\n",
              "    <tr>\n",
              "      <th>4</th>\n",
              "      <td>24.59</td>\n",
              "      <td>3.61</td>\n",
              "      <td>Female</td>\n",
              "      <td>No</td>\n",
              "      <td>Sun</td>\n",
              "      <td>Dinner</td>\n",
              "      <td>4</td>\n",
              "    </tr>\n",
              "    <tr>\n",
              "      <th>...</th>\n",
              "      <td>...</td>\n",
              "      <td>...</td>\n",
              "      <td>...</td>\n",
              "      <td>...</td>\n",
              "      <td>...</td>\n",
              "      <td>...</td>\n",
              "      <td>...</td>\n",
              "    </tr>\n",
              "    <tr>\n",
              "      <th>235</th>\n",
              "      <td>10.07</td>\n",
              "      <td>1.25</td>\n",
              "      <td>Male</td>\n",
              "      <td>No</td>\n",
              "      <td>Sat</td>\n",
              "      <td>Dinner</td>\n",
              "      <td>2</td>\n",
              "    </tr>\n",
              "    <tr>\n",
              "      <th>238</th>\n",
              "      <td>35.83</td>\n",
              "      <td>4.67</td>\n",
              "      <td>Female</td>\n",
              "      <td>No</td>\n",
              "      <td>Sat</td>\n",
              "      <td>Dinner</td>\n",
              "      <td>3</td>\n",
              "    </tr>\n",
              "    <tr>\n",
              "      <th>239</th>\n",
              "      <td>29.03</td>\n",
              "      <td>5.92</td>\n",
              "      <td>Male</td>\n",
              "      <td>No</td>\n",
              "      <td>Sat</td>\n",
              "      <td>Dinner</td>\n",
              "      <td>3</td>\n",
              "    </tr>\n",
              "    <tr>\n",
              "      <th>242</th>\n",
              "      <td>17.82</td>\n",
              "      <td>1.75</td>\n",
              "      <td>Male</td>\n",
              "      <td>No</td>\n",
              "      <td>Sat</td>\n",
              "      <td>Dinner</td>\n",
              "      <td>2</td>\n",
              "    </tr>\n",
              "    <tr>\n",
              "      <th>243</th>\n",
              "      <td>18.78</td>\n",
              "      <td>3.00</td>\n",
              "      <td>Female</td>\n",
              "      <td>No</td>\n",
              "      <td>Thur</td>\n",
              "      <td>Dinner</td>\n",
              "      <td>2</td>\n",
              "    </tr>\n",
              "  </tbody>\n",
              "</table>\n",
              "<p>151 rows × 7 columns</p>\n",
              "</div>"
            ],
            "text/plain": [
              "     total_bill   tip     sex smoker   day    time  size\n",
              "0         16.99  1.01  Female     No   Sun  Dinner     2\n",
              "1         10.34  1.66    Male     No   Sun  Dinner     3\n",
              "2         21.01  3.50    Male     No   Sun  Dinner     3\n",
              "3         23.68  3.31    Male     No   Sun  Dinner     2\n",
              "4         24.59  3.61  Female     No   Sun  Dinner     4\n",
              "..          ...   ...     ...    ...   ...     ...   ...\n",
              "235       10.07  1.25    Male     No   Sat  Dinner     2\n",
              "238       35.83  4.67  Female     No   Sat  Dinner     3\n",
              "239       29.03  5.92    Male     No   Sat  Dinner     3\n",
              "242       17.82  1.75    Male     No   Sat  Dinner     2\n",
              "243       18.78  3.00  Female     No  Thur  Dinner     2\n",
              "\n",
              "[151 rows x 7 columns]"
            ]
          },
          "execution_count": 32,
          "metadata": {},
          "output_type": "execute_result"
        }
      ],
      "source": [
        "df[df.smoker.str.contains('o')]"
      ]
    },
    {
      "cell_type": "markdown",
      "id": "2ec20a99",
      "metadata": {
        "id": "2ec20a99"
      },
      "source": [
        "<br>\n",
        "<div class=\" alert alert-block alert-success\">\n",
        "<b>df.groupby(col)</b> | The groupby() method allows you to group your data and execute functions on these groups."
      ]
    },
    {
      "cell_type": "markdown",
      "id": "a0ea6ba1",
      "metadata": {
        "id": "a0ea6ba1"
      },
      "source": [
        "<br>\n",
        "<div class=\" alert alert-block alert-success\">\n",
        "<b>groupby_sex=df[col1].groupby(df[col2])</b> | group data on basis of col2 and apply on col1"
      ]
    },
    {
      "cell_type": "code",
      "execution_count": null,
      "id": "b12162a3",
      "metadata": {
        "id": "b12162a3",
        "outputId": "c33a6242-4806-48a8-9eda-74e10baaa45c"
      },
      "outputs": [
        {
          "data": {
            "text/plain": [
              "<pandas.core.groupby.generic.SeriesGroupBy object at 0x000001994A13E940>"
            ]
          },
          "execution_count": 33,
          "metadata": {},
          "output_type": "execute_result"
        }
      ],
      "source": [
        "groupby_sex=df['tip'].groupby(df['sex'])\n",
        "groupby_sex"
      ]
    },
    {
      "cell_type": "markdown",
      "id": "61ea9136",
      "metadata": {
        "id": "61ea9136"
      },
      "source": [
        "<br>\n",
        "<div class=\" alert alert-block alert-success\">\n",
        "<b>len(groupby_sex)</b> | returns integer value of number of groups created"
      ]
    },
    {
      "cell_type": "code",
      "execution_count": null,
      "id": "7d0b3ed8",
      "metadata": {
        "id": "7d0b3ed8",
        "outputId": "04b015ae-1e20-4414-9f22-b0d912ada717"
      },
      "outputs": [
        {
          "data": {
            "text/plain": [
              "2"
            ]
          },
          "execution_count": 34,
          "metadata": {},
          "output_type": "execute_result"
        }
      ],
      "source": [
        "len(groupby_sex)"
      ]
    },
    {
      "cell_type": "markdown",
      "id": "f930f735",
      "metadata": {
        "id": "f930f735"
      },
      "source": [
        "<br>\n",
        "<div class=\" alert alert-block alert-success\">\n",
        "<b>list(groupby_sex)</b> | To see the groups created"
      ]
    },
    {
      "cell_type": "code",
      "execution_count": null,
      "id": "4b2700d4",
      "metadata": {
        "scrolled": false,
        "id": "4b2700d4",
        "outputId": "29e57592-9537-44a8-e2c1-5def0b140711"
      },
      "outputs": [
        {
          "data": {
            "text/plain": [
              "[('Female',\n",
              "  0      1.01\n",
              "  4      3.61\n",
              "  11     5.00\n",
              "  14     3.02\n",
              "  16     1.67\n",
              "         ... \n",
              "  226    2.00\n",
              "  229    2.88\n",
              "  238    4.67\n",
              "  240    2.00\n",
              "  243    3.00\n",
              "  Name: tip, Length: 87, dtype: float64),\n",
              " ('Male',\n",
              "  1      1.66\n",
              "  2      3.50\n",
              "  3      3.31\n",
              "  5      4.71\n",
              "  6      2.00\n",
              "         ... \n",
              "  236    1.00\n",
              "  237    1.17\n",
              "  239    5.92\n",
              "  241    2.00\n",
              "  242    1.75\n",
              "  Name: tip, Length: 157, dtype: float64)]"
            ]
          },
          "execution_count": 35,
          "metadata": {},
          "output_type": "execute_result"
        }
      ],
      "source": [
        "list(groupby_sex)"
      ]
    },
    {
      "cell_type": "markdown",
      "id": "745a576f",
      "metadata": {
        "id": "745a576f"
      },
      "source": [
        "<br>\n",
        "<div class=\" alert alert-block alert-success\">\n",
        "An aggregate is a function where the values of multiple rows are grouped together to form a single summary value"
      ]
    },
    {
      "cell_type": "code",
      "execution_count": null,
      "id": "ff88f26f",
      "metadata": {
        "id": "ff88f26f",
        "outputId": "5e42e368-f91a-4340-e3c0-2f0dd54f0bb8"
      },
      "outputs": [
        {
          "data": {
            "text/html": [
              "<div>\n",
              "<style scoped>\n",
              "    .dataframe tbody tr th:only-of-type {\n",
              "        vertical-align: middle;\n",
              "    }\n",
              "\n",
              "    .dataframe tbody tr th {\n",
              "        vertical-align: top;\n",
              "    }\n",
              "\n",
              "    .dataframe thead tr th {\n",
              "        text-align: left;\n",
              "    }\n",
              "\n",
              "    .dataframe thead tr:last-of-type th {\n",
              "        text-align: right;\n",
              "    }\n",
              "</style>\n",
              "<table border=\"1\" class=\"dataframe\">\n",
              "  <thead>\n",
              "    <tr>\n",
              "      <th></th>\n",
              "      <th colspan=\"4\" halign=\"left\">tip</th>\n",
              "    </tr>\n",
              "    <tr>\n",
              "      <th></th>\n",
              "      <th>sum</th>\n",
              "      <th>max</th>\n",
              "      <th>min</th>\n",
              "      <th>mean</th>\n",
              "    </tr>\n",
              "    <tr>\n",
              "      <th>sex</th>\n",
              "      <th></th>\n",
              "      <th></th>\n",
              "      <th></th>\n",
              "      <th></th>\n",
              "    </tr>\n",
              "  </thead>\n",
              "  <tbody>\n",
              "    <tr>\n",
              "      <th>Female</th>\n",
              "      <td>246.51</td>\n",
              "      <td>6.5</td>\n",
              "      <td>1.0</td>\n",
              "      <td>2.833448</td>\n",
              "    </tr>\n",
              "    <tr>\n",
              "      <th>Male</th>\n",
              "      <td>485.07</td>\n",
              "      <td>10.0</td>\n",
              "      <td>1.0</td>\n",
              "      <td>3.089618</td>\n",
              "    </tr>\n",
              "  </tbody>\n",
              "</table>\n",
              "</div>"
            ],
            "text/plain": [
              "           tip                     \n",
              "           sum   max  min      mean\n",
              "sex                                \n",
              "Female  246.51   6.5  1.0  2.833448\n",
              "Male    485.07  10.0  1.0  3.089618"
            ]
          },
          "execution_count": 36,
          "metadata": {},
          "output_type": "execute_result"
        }
      ],
      "source": [
        "df.groupby(['sex']).agg({'tip':[\"sum\",\"max\",\"min\",\"mean\"]})"
      ]
    },
    {
      "cell_type": "markdown",
      "id": "28108b30",
      "metadata": {
        "id": "28108b30"
      },
      "source": [
        "##### 6."
      ]
    },
    {
      "cell_type": "markdown",
      "id": "64006b01",
      "metadata": {
        "id": "64006b01"
      },
      "source": [
        "### <span style='background:#D7A9E3FF'> **UPDATE COMMAND**</span>"
      ]
    },
    {
      "cell_type": "markdown",
      "id": "26fcc4d5",
      "metadata": {
        "id": "26fcc4d5"
      },
      "source": [
        "<br>\n",
        "<div class=\" alert alert-block alert-success\">\n",
        "<b>loc & iloc :</b>function can be used to update the value of a row with respect to columns by providing the labels of the columns and the index of the rows."
      ]
    },
    {
      "cell_type": "code",
      "execution_count": null,
      "id": "626e3de3",
      "metadata": {
        "id": "626e3de3",
        "outputId": "60758f31-c861-4fb0-9a45-62cb67e276c5"
      },
      "outputs": [
        {
          "data": {
            "text/html": [
              "<div>\n",
              "<style scoped>\n",
              "    .dataframe tbody tr th:only-of-type {\n",
              "        vertical-align: middle;\n",
              "    }\n",
              "\n",
              "    .dataframe tbody tr th {\n",
              "        vertical-align: top;\n",
              "    }\n",
              "\n",
              "    .dataframe thead th {\n",
              "        text-align: right;\n",
              "    }\n",
              "</style>\n",
              "<table border=\"1\" class=\"dataframe\">\n",
              "  <thead>\n",
              "    <tr style=\"text-align: right;\">\n",
              "      <th></th>\n",
              "      <th>total_bill</th>\n",
              "      <th>tip</th>\n",
              "      <th>sex</th>\n",
              "      <th>smoker</th>\n",
              "      <th>day</th>\n",
              "      <th>time</th>\n",
              "      <th>size</th>\n",
              "    </tr>\n",
              "  </thead>\n",
              "  <tbody>\n",
              "    <tr>\n",
              "      <th>0</th>\n",
              "      <td>16.99</td>\n",
              "      <td>1.01</td>\n",
              "      <td>Female</td>\n",
              "      <td>Yes</td>\n",
              "      <td>Mon</td>\n",
              "      <td>Dinner</td>\n",
              "      <td>2</td>\n",
              "    </tr>\n",
              "    <tr>\n",
              "      <th>1</th>\n",
              "      <td>10.34</td>\n",
              "      <td>1.66</td>\n",
              "      <td>Male</td>\n",
              "      <td>Yes</td>\n",
              "      <td>Mon</td>\n",
              "      <td>Dinner</td>\n",
              "      <td>3</td>\n",
              "    </tr>\n",
              "    <tr>\n",
              "      <th>2</th>\n",
              "      <td>21.01</td>\n",
              "      <td>3.50</td>\n",
              "      <td>Male</td>\n",
              "      <td>Yes</td>\n",
              "      <td>Mon</td>\n",
              "      <td>Dinner</td>\n",
              "      <td>3</td>\n",
              "    </tr>\n",
              "    <tr>\n",
              "      <th>3</th>\n",
              "      <td>23.68</td>\n",
              "      <td>3.31</td>\n",
              "      <td>Male</td>\n",
              "      <td>Yes</td>\n",
              "      <td>Mon</td>\n",
              "      <td>Dinner</td>\n",
              "      <td>2</td>\n",
              "    </tr>\n",
              "    <tr>\n",
              "      <th>4</th>\n",
              "      <td>24.59</td>\n",
              "      <td>3.61</td>\n",
              "      <td>Female</td>\n",
              "      <td>Yes</td>\n",
              "      <td>Mon</td>\n",
              "      <td>Dinner</td>\n",
              "      <td>4</td>\n",
              "    </tr>\n",
              "    <tr>\n",
              "      <th>5</th>\n",
              "      <td>25.29</td>\n",
              "      <td>4.71</td>\n",
              "      <td>Male</td>\n",
              "      <td>Yes</td>\n",
              "      <td>Mon</td>\n",
              "      <td>Dinner</td>\n",
              "      <td>4</td>\n",
              "    </tr>\n",
              "  </tbody>\n",
              "</table>\n",
              "</div>"
            ],
            "text/plain": [
              "   total_bill   tip     sex smoker  day    time  size\n",
              "0       16.99  1.01  Female    Yes  Mon  Dinner     2\n",
              "1       10.34  1.66    Male    Yes  Mon  Dinner     3\n",
              "2       21.01  3.50    Male    Yes  Mon  Dinner     3\n",
              "3       23.68  3.31    Male    Yes  Mon  Dinner     2\n",
              "4       24.59  3.61  Female    Yes  Mon  Dinner     4\n",
              "5       25.29  4.71    Male    Yes  Mon  Dinner     4"
            ]
          },
          "execution_count": 37,
          "metadata": {},
          "output_type": "execute_result"
        }
      ],
      "source": [
        "df.loc[0:5,['smoker','day']] = ['Yes','Mon']\n",
        "df.loc[0:5]"
      ]
    },
    {
      "cell_type": "code",
      "execution_count": null,
      "id": "1538e9f4",
      "metadata": {
        "id": "1538e9f4",
        "outputId": "f2f17128-f7ed-4241-94fe-d1dc97bcb10a"
      },
      "outputs": [
        {
          "data": {
            "text/html": [
              "<div>\n",
              "<style scoped>\n",
              "    .dataframe tbody tr th:only-of-type {\n",
              "        vertical-align: middle;\n",
              "    }\n",
              "\n",
              "    .dataframe tbody tr th {\n",
              "        vertical-align: top;\n",
              "    }\n",
              "\n",
              "    .dataframe thead th {\n",
              "        text-align: right;\n",
              "    }\n",
              "</style>\n",
              "<table border=\"1\" class=\"dataframe\">\n",
              "  <thead>\n",
              "    <tr style=\"text-align: right;\">\n",
              "      <th></th>\n",
              "      <th>total_bill</th>\n",
              "      <th>tip</th>\n",
              "      <th>sex</th>\n",
              "      <th>smoker</th>\n",
              "      <th>day</th>\n",
              "      <th>time</th>\n",
              "      <th>size</th>\n",
              "    </tr>\n",
              "  </thead>\n",
              "  <tbody>\n",
              "    <tr>\n",
              "      <th>0</th>\n",
              "      <td>16.99</td>\n",
              "      <td>1.01</td>\n",
              "      <td>Female</td>\n",
              "      <td>Yes</td>\n",
              "      <td>Mon</td>\n",
              "      <td>Dinner</td>\n",
              "      <td>2</td>\n",
              "    </tr>\n",
              "    <tr>\n",
              "      <th>1</th>\n",
              "      <td>10.34</td>\n",
              "      <td>1.66</td>\n",
              "      <td>Male</td>\n",
              "      <td>Yes</td>\n",
              "      <td>Mon</td>\n",
              "      <td>Dinner</td>\n",
              "      <td>3</td>\n",
              "    </tr>\n",
              "    <tr>\n",
              "      <th>2</th>\n",
              "      <td>21.01</td>\n",
              "      <td>3.50</td>\n",
              "      <td>Male</td>\n",
              "      <td>Yes</td>\n",
              "      <td>Mon</td>\n",
              "      <td>Dinner</td>\n",
              "      <td>3</td>\n",
              "    </tr>\n",
              "    <tr>\n",
              "      <th>3</th>\n",
              "      <td>23.68</td>\n",
              "      <td>3.31</td>\n",
              "      <td>Male</td>\n",
              "      <td>Yes</td>\n",
              "      <td>Mon</td>\n",
              "      <td>Dinner</td>\n",
              "      <td>2</td>\n",
              "    </tr>\n",
              "    <tr>\n",
              "      <th>4</th>\n",
              "      <td>24.59</td>\n",
              "      <td>3.61</td>\n",
              "      <td>Female</td>\n",
              "      <td>Yes</td>\n",
              "      <td>Mon</td>\n",
              "      <td>Dinner</td>\n",
              "      <td>4</td>\n",
              "    </tr>\n",
              "  </tbody>\n",
              "</table>\n",
              "</div>"
            ],
            "text/plain": [
              "   total_bill   tip     sex smoker  day    time  size\n",
              "0       16.99  1.01  Female    Yes  Mon  Dinner     2\n",
              "1       10.34  1.66    Male    Yes  Mon  Dinner     3\n",
              "2       21.01  3.50    Male    Yes  Mon  Dinner     3\n",
              "3       23.68  3.31    Male    Yes  Mon  Dinner     2\n",
              "4       24.59  3.61  Female    Yes  Mon  Dinner     4"
            ]
          },
          "execution_count": 38,
          "metadata": {},
          "output_type": "execute_result"
        }
      ],
      "source": [
        "df.iloc[0:5,3:5]= ['Yes','Mon']\n",
        "df.iloc[0:5]"
      ]
    },
    {
      "cell_type": "markdown",
      "id": "60ee2644",
      "metadata": {
        "id": "60ee2644"
      },
      "source": [
        "<br>\n",
        "<div class=\" alert alert-block alert-success\">\n",
        "<b>replace :</b>This function replaces the origial value of row or column."
      ]
    },
    {
      "cell_type": "code",
      "execution_count": null,
      "id": "5ef71d88",
      "metadata": {
        "id": "5ef71d88",
        "outputId": "d0efc6e2-0548-48da-a9e1-6661e73bbccc"
      },
      "outputs": [
        {
          "data": {
            "text/html": [
              "<div>\n",
              "<style scoped>\n",
              "    .dataframe tbody tr th:only-of-type {\n",
              "        vertical-align: middle;\n",
              "    }\n",
              "\n",
              "    .dataframe tbody tr th {\n",
              "        vertical-align: top;\n",
              "    }\n",
              "\n",
              "    .dataframe thead th {\n",
              "        text-align: right;\n",
              "    }\n",
              "</style>\n",
              "<table border=\"1\" class=\"dataframe\">\n",
              "  <thead>\n",
              "    <tr style=\"text-align: right;\">\n",
              "      <th></th>\n",
              "      <th>total_bill</th>\n",
              "      <th>tip</th>\n",
              "      <th>sex</th>\n",
              "      <th>smoker</th>\n",
              "      <th>day</th>\n",
              "      <th>time</th>\n",
              "      <th>size</th>\n",
              "    </tr>\n",
              "  </thead>\n",
              "  <tbody>\n",
              "    <tr>\n",
              "      <th>0</th>\n",
              "      <td>20.33</td>\n",
              "      <td>1.01</td>\n",
              "      <td>Female</td>\n",
              "      <td>Yes</td>\n",
              "      <td>Mon</td>\n",
              "      <td>Dinner</td>\n",
              "      <td>2</td>\n",
              "    </tr>\n",
              "  </tbody>\n",
              "</table>\n",
              "</div>"
            ],
            "text/plain": [
              "   total_bill   tip     sex smoker  day    time  size\n",
              "0       20.33  1.01  Female    Yes  Mon  Dinner     2"
            ]
          },
          "execution_count": 39,
          "metadata": {},
          "output_type": "execute_result"
        }
      ],
      "source": [
        "df.replace(16.99,\n",
        "           20.33,\n",
        "           inplace=True)\n",
        "df.loc[[0]]"
      ]
    },
    {
      "cell_type": "markdown",
      "id": "de2c1ff4",
      "metadata": {
        "id": "de2c1ff4"
      },
      "source": [
        "<br>\n",
        "<div class=\" alert alert-block alert-success\">\n",
        "<b>rename :</b>renames column."
      ]
    },
    {
      "cell_type": "code",
      "execution_count": null,
      "id": "bd771185",
      "metadata": {
        "id": "bd771185",
        "outputId": "66e2963b-a530-4ba9-8911-9db4e69b69ba"
      },
      "outputs": [
        {
          "data": {
            "text/html": [
              "<div>\n",
              "<style scoped>\n",
              "    .dataframe tbody tr th:only-of-type {\n",
              "        vertical-align: middle;\n",
              "    }\n",
              "\n",
              "    .dataframe tbody tr th {\n",
              "        vertical-align: top;\n",
              "    }\n",
              "\n",
              "    .dataframe thead th {\n",
              "        text-align: right;\n",
              "    }\n",
              "</style>\n",
              "<table border=\"1\" class=\"dataframe\">\n",
              "  <thead>\n",
              "    <tr style=\"text-align: right;\">\n",
              "      <th></th>\n",
              "      <th>total_bill</th>\n",
              "      <th>tip</th>\n",
              "      <th>Gender</th>\n",
              "      <th>smoker</th>\n",
              "      <th>day</th>\n",
              "      <th>time</th>\n",
              "      <th>size</th>\n",
              "    </tr>\n",
              "  </thead>\n",
              "  <tbody>\n",
              "    <tr>\n",
              "      <th>0</th>\n",
              "      <td>20.33</td>\n",
              "      <td>1.01</td>\n",
              "      <td>Female</td>\n",
              "      <td>Yes</td>\n",
              "      <td>Mon</td>\n",
              "      <td>Dinner</td>\n",
              "      <td>2</td>\n",
              "    </tr>\n",
              "    <tr>\n",
              "      <th>1</th>\n",
              "      <td>10.34</td>\n",
              "      <td>1.66</td>\n",
              "      <td>Male</td>\n",
              "      <td>Yes</td>\n",
              "      <td>Mon</td>\n",
              "      <td>Dinner</td>\n",
              "      <td>3</td>\n",
              "    </tr>\n",
              "    <tr>\n",
              "      <th>2</th>\n",
              "      <td>21.01</td>\n",
              "      <td>3.50</td>\n",
              "      <td>Male</td>\n",
              "      <td>Yes</td>\n",
              "      <td>Mon</td>\n",
              "      <td>Dinner</td>\n",
              "      <td>3</td>\n",
              "    </tr>\n",
              "    <tr>\n",
              "      <th>3</th>\n",
              "      <td>23.68</td>\n",
              "      <td>3.31</td>\n",
              "      <td>Male</td>\n",
              "      <td>Yes</td>\n",
              "      <td>Mon</td>\n",
              "      <td>Dinner</td>\n",
              "      <td>2</td>\n",
              "    </tr>\n",
              "    <tr>\n",
              "      <th>4</th>\n",
              "      <td>24.59</td>\n",
              "      <td>3.61</td>\n",
              "      <td>Female</td>\n",
              "      <td>Yes</td>\n",
              "      <td>Mon</td>\n",
              "      <td>Dinner</td>\n",
              "      <td>4</td>\n",
              "    </tr>\n",
              "  </tbody>\n",
              "</table>\n",
              "</div>"
            ],
            "text/plain": [
              "   total_bill   tip  Gender smoker  day    time  size\n",
              "0       20.33  1.01  Female    Yes  Mon  Dinner     2\n",
              "1       10.34  1.66    Male    Yes  Mon  Dinner     3\n",
              "2       21.01  3.50    Male    Yes  Mon  Dinner     3\n",
              "3       23.68  3.31    Male    Yes  Mon  Dinner     2\n",
              "4       24.59  3.61  Female    Yes  Mon  Dinner     4"
            ]
          },
          "execution_count": 40,
          "metadata": {},
          "output_type": "execute_result"
        }
      ],
      "source": [
        "\n",
        "df.rename(columns={'sex': 'Gender'}, inplace=True)\n",
        "df.head(5)"
      ]
    },
    {
      "cell_type": "markdown",
      "id": "d0d80172",
      "metadata": {
        "id": "d0d80172"
      },
      "source": [
        "<br>\n",
        "<div class=\" alert alert-block alert-success\">\n",
        "<b>df[new_colname]=values of new column</b>"
      ]
    },
    {
      "cell_type": "code",
      "execution_count": null,
      "id": "74003668",
      "metadata": {
        "id": "74003668",
        "outputId": "8d21872f-9d49-47b3-f865-8b9890543d18"
      },
      "outputs": [
        {
          "data": {
            "text/html": [
              "<div>\n",
              "<style scoped>\n",
              "    .dataframe tbody tr th:only-of-type {\n",
              "        vertical-align: middle;\n",
              "    }\n",
              "\n",
              "    .dataframe tbody tr th {\n",
              "        vertical-align: top;\n",
              "    }\n",
              "\n",
              "    .dataframe thead th {\n",
              "        text-align: right;\n",
              "    }\n",
              "</style>\n",
              "<table border=\"1\" class=\"dataframe\">\n",
              "  <thead>\n",
              "    <tr style=\"text-align: right;\">\n",
              "      <th></th>\n",
              "      <th>total_bill</th>\n",
              "      <th>tip</th>\n",
              "      <th>Gender</th>\n",
              "      <th>smoker</th>\n",
              "      <th>day</th>\n",
              "      <th>time</th>\n",
              "      <th>size</th>\n",
              "      <th>Total Expence</th>\n",
              "    </tr>\n",
              "  </thead>\n",
              "  <tbody>\n",
              "    <tr>\n",
              "      <th>0</th>\n",
              "      <td>20.33</td>\n",
              "      <td>1.01</td>\n",
              "      <td>Female</td>\n",
              "      <td>Yes</td>\n",
              "      <td>Mon</td>\n",
              "      <td>Dinner</td>\n",
              "      <td>2</td>\n",
              "      <td>21.34</td>\n",
              "    </tr>\n",
              "    <tr>\n",
              "      <th>1</th>\n",
              "      <td>10.34</td>\n",
              "      <td>1.66</td>\n",
              "      <td>Male</td>\n",
              "      <td>Yes</td>\n",
              "      <td>Mon</td>\n",
              "      <td>Dinner</td>\n",
              "      <td>3</td>\n",
              "      <td>12.00</td>\n",
              "    </tr>\n",
              "  </tbody>\n",
              "</table>\n",
              "</div>"
            ],
            "text/plain": [
              "   total_bill   tip  Gender smoker  day    time  size  Total Expence\n",
              "0       20.33  1.01  Female    Yes  Mon  Dinner     2          21.34\n",
              "1       10.34  1.66    Male    Yes  Mon  Dinner     3          12.00"
            ]
          },
          "execution_count": 41,
          "metadata": {},
          "output_type": "execute_result"
        }
      ],
      "source": [
        "df['Total Expence'] = df['total_bill'] + df['tip']\n",
        "df.head(2)"
      ]
    },
    {
      "cell_type": "code",
      "execution_count": null,
      "id": "9e902f79",
      "metadata": {
        "id": "9e902f79",
        "outputId": "b584f53a-55f5-49b4-83db-b6194e527777"
      },
      "outputs": [
        {
          "data": {
            "text/html": [
              "<div>\n",
              "<style scoped>\n",
              "    .dataframe tbody tr th:only-of-type {\n",
              "        vertical-align: middle;\n",
              "    }\n",
              "\n",
              "    .dataframe tbody tr th {\n",
              "        vertical-align: top;\n",
              "    }\n",
              "\n",
              "    .dataframe thead th {\n",
              "        text-align: right;\n",
              "    }\n",
              "</style>\n",
              "<table border=\"1\" class=\"dataframe\">\n",
              "  <thead>\n",
              "    <tr style=\"text-align: right;\">\n",
              "      <th></th>\n",
              "      <th>total_bill</th>\n",
              "      <th>tip</th>\n",
              "      <th>Gender</th>\n",
              "      <th>smoker</th>\n",
              "      <th>day</th>\n",
              "      <th>time</th>\n",
              "      <th>size</th>\n",
              "      <th>Total Expence</th>\n",
              "      <th>new_col</th>\n",
              "    </tr>\n",
              "  </thead>\n",
              "  <tbody>\n",
              "    <tr>\n",
              "      <th>0</th>\n",
              "      <td>20.33</td>\n",
              "      <td>1.01</td>\n",
              "      <td>Female</td>\n",
              "      <td>Yes</td>\n",
              "      <td>Mon</td>\n",
              "      <td>Dinner</td>\n",
              "      <td>2</td>\n",
              "      <td>21.34</td>\n",
              "      <td>0</td>\n",
              "    </tr>\n",
              "    <tr>\n",
              "      <th>1</th>\n",
              "      <td>10.34</td>\n",
              "      <td>1.66</td>\n",
              "      <td>Male</td>\n",
              "      <td>Yes</td>\n",
              "      <td>Mon</td>\n",
              "      <td>Dinner</td>\n",
              "      <td>3</td>\n",
              "      <td>12.00</td>\n",
              "      <td>0</td>\n",
              "    </tr>\n",
              "    <tr>\n",
              "      <th>2</th>\n",
              "      <td>21.01</td>\n",
              "      <td>3.50</td>\n",
              "      <td>Male</td>\n",
              "      <td>Yes</td>\n",
              "      <td>Mon</td>\n",
              "      <td>Dinner</td>\n",
              "      <td>3</td>\n",
              "      <td>24.51</td>\n",
              "      <td>0</td>\n",
              "    </tr>\n",
              "    <tr>\n",
              "      <th>3</th>\n",
              "      <td>23.68</td>\n",
              "      <td>3.31</td>\n",
              "      <td>Male</td>\n",
              "      <td>Yes</td>\n",
              "      <td>Mon</td>\n",
              "      <td>Dinner</td>\n",
              "      <td>2</td>\n",
              "      <td>26.99</td>\n",
              "      <td>0</td>\n",
              "    </tr>\n",
              "    <tr>\n",
              "      <th>4</th>\n",
              "      <td>24.59</td>\n",
              "      <td>3.61</td>\n",
              "      <td>Female</td>\n",
              "      <td>Yes</td>\n",
              "      <td>Mon</td>\n",
              "      <td>Dinner</td>\n",
              "      <td>4</td>\n",
              "      <td>28.20</td>\n",
              "      <td>0</td>\n",
              "    </tr>\n",
              "  </tbody>\n",
              "</table>\n",
              "</div>"
            ],
            "text/plain": [
              "   total_bill   tip  Gender smoker  day    time  size  Total Expence  new_col\n",
              "0       20.33  1.01  Female    Yes  Mon  Dinner     2          21.34        0\n",
              "1       10.34  1.66    Male    Yes  Mon  Dinner     3          12.00        0\n",
              "2       21.01  3.50    Male    Yes  Mon  Dinner     3          24.51        0\n",
              "3       23.68  3.31    Male    Yes  Mon  Dinner     2          26.99        0\n",
              "4       24.59  3.61  Female    Yes  Mon  Dinner     4          28.20        0"
            ]
          },
          "execution_count": 42,
          "metadata": {},
          "output_type": "execute_result"
        }
      ],
      "source": [
        "df['new_col']=0\n",
        "df.head()"
      ]
    },
    {
      "cell_type": "markdown",
      "id": "40fed978",
      "metadata": {
        "id": "40fed978"
      },
      "source": [
        "<br>\n",
        "<div class=\" alert alert-block alert-success\">\n",
        "<b>df.astype(newdata_type)</b> | To change datatype of an column."
      ]
    },
    {
      "cell_type": "code",
      "execution_count": null,
      "id": "204ca75f",
      "metadata": {
        "id": "204ca75f",
        "outputId": "4b56d9b9-1f88-4653-ead1-37ffdae398c3"
      },
      "outputs": [
        {
          "data": {
            "text/plain": [
              "dtype('float64')"
            ]
          },
          "execution_count": 43,
          "metadata": {},
          "output_type": "execute_result"
        }
      ],
      "source": [
        "df['size']=df['size'].astype(float)\n",
        "df['size'].dtype"
      ]
    },
    {
      "cell_type": "markdown",
      "id": "0245a7c9",
      "metadata": {
        "id": "0245a7c9"
      },
      "source": [
        "##### 7."
      ]
    },
    {
      "cell_type": "markdown",
      "id": "43bcd124",
      "metadata": {
        "id": "43bcd124"
      },
      "source": [
        "### <span style='background:#D7A9E3FF'> **HANDLING NULL VALUES AND DROPPING**</span>"
      ]
    },
    {
      "cell_type": "markdown",
      "id": "a6a01db4",
      "metadata": {
        "id": "a6a01db4"
      },
      "source": [
        "<br>\n",
        "<div class=\" alert alert-block alert-success\">\n",
        "<b>df.drop[column_name]</b> | command to drop column"
      ]
    },
    {
      "cell_type": "code",
      "execution_count": null,
      "id": "ee9d3eb3",
      "metadata": {
        "id": "ee9d3eb3",
        "outputId": "d3203e02-677f-4e83-8d42-1b788ac3756d"
      },
      "outputs": [
        {
          "data": {
            "text/html": [
              "<div>\n",
              "<style scoped>\n",
              "    .dataframe tbody tr th:only-of-type {\n",
              "        vertical-align: middle;\n",
              "    }\n",
              "\n",
              "    .dataframe tbody tr th {\n",
              "        vertical-align: top;\n",
              "    }\n",
              "\n",
              "    .dataframe thead th {\n",
              "        text-align: right;\n",
              "    }\n",
              "</style>\n",
              "<table border=\"1\" class=\"dataframe\">\n",
              "  <thead>\n",
              "    <tr style=\"text-align: right;\">\n",
              "      <th></th>\n",
              "      <th>total_bill</th>\n",
              "      <th>tip</th>\n",
              "      <th>Gender</th>\n",
              "      <th>smoker</th>\n",
              "      <th>day</th>\n",
              "      <th>time</th>\n",
              "      <th>size</th>\n",
              "      <th>Total Expence</th>\n",
              "    </tr>\n",
              "  </thead>\n",
              "  <tbody>\n",
              "    <tr>\n",
              "      <th>0</th>\n",
              "      <td>20.33</td>\n",
              "      <td>1.01</td>\n",
              "      <td>Female</td>\n",
              "      <td>Yes</td>\n",
              "      <td>Mon</td>\n",
              "      <td>Dinner</td>\n",
              "      <td>2.0</td>\n",
              "      <td>21.34</td>\n",
              "    </tr>\n",
              "    <tr>\n",
              "      <th>1</th>\n",
              "      <td>10.34</td>\n",
              "      <td>1.66</td>\n",
              "      <td>Male</td>\n",
              "      <td>Yes</td>\n",
              "      <td>Mon</td>\n",
              "      <td>Dinner</td>\n",
              "      <td>3.0</td>\n",
              "      <td>12.00</td>\n",
              "    </tr>\n",
              "    <tr>\n",
              "      <th>2</th>\n",
              "      <td>21.01</td>\n",
              "      <td>3.50</td>\n",
              "      <td>Male</td>\n",
              "      <td>Yes</td>\n",
              "      <td>Mon</td>\n",
              "      <td>Dinner</td>\n",
              "      <td>3.0</td>\n",
              "      <td>24.51</td>\n",
              "    </tr>\n",
              "    <tr>\n",
              "      <th>3</th>\n",
              "      <td>23.68</td>\n",
              "      <td>3.31</td>\n",
              "      <td>Male</td>\n",
              "      <td>Yes</td>\n",
              "      <td>Mon</td>\n",
              "      <td>Dinner</td>\n",
              "      <td>2.0</td>\n",
              "      <td>26.99</td>\n",
              "    </tr>\n",
              "    <tr>\n",
              "      <th>4</th>\n",
              "      <td>24.59</td>\n",
              "      <td>3.61</td>\n",
              "      <td>Female</td>\n",
              "      <td>Yes</td>\n",
              "      <td>Mon</td>\n",
              "      <td>Dinner</td>\n",
              "      <td>4.0</td>\n",
              "      <td>28.20</td>\n",
              "    </tr>\n",
              "  </tbody>\n",
              "</table>\n",
              "</div>"
            ],
            "text/plain": [
              "   total_bill   tip  Gender smoker  day    time  size  Total Expence\n",
              "0       20.33  1.01  Female    Yes  Mon  Dinner   2.0          21.34\n",
              "1       10.34  1.66    Male    Yes  Mon  Dinner   3.0          12.00\n",
              "2       21.01  3.50    Male    Yes  Mon  Dinner   3.0          24.51\n",
              "3       23.68  3.31    Male    Yes  Mon  Dinner   2.0          26.99\n",
              "4       24.59  3.61  Female    Yes  Mon  Dinner   4.0          28.20"
            ]
          },
          "execution_count": 44,
          "metadata": {},
          "output_type": "execute_result"
        }
      ],
      "source": [
        "df.drop('new_col',axis=1,inplace=True)\n",
        "df.head()"
      ]
    },
    {
      "cell_type": "markdown",
      "id": "b5d62219",
      "metadata": {
        "id": "b5d62219"
      },
      "source": [
        "<div class=\"alert alert-block alert-danger\">\n",
        "<b>axis=1:</b>For columns<br>\n",
        "<b>axis=0:</b>For rows<br>\n",
        "<b>inplace=True:</b>To make changes permanent"
      ]
    },
    {
      "cell_type": "markdown",
      "id": "d3c91393",
      "metadata": {
        "id": "d3c91393"
      },
      "source": [
        "<br>\n",
        "<div class=\" alert alert-block alert-success\">\n",
        "<b>df.isnull()</b> | Checks for null Values, Returns Boolean Arrray"
      ]
    },
    {
      "cell_type": "code",
      "execution_count": null,
      "id": "78c6d03f",
      "metadata": {
        "id": "78c6d03f",
        "outputId": "c44579fa-d60d-45e6-985f-a3803af3b54f"
      },
      "outputs": [
        {
          "data": {
            "text/html": [
              "<div>\n",
              "<style scoped>\n",
              "    .dataframe tbody tr th:only-of-type {\n",
              "        vertical-align: middle;\n",
              "    }\n",
              "\n",
              "    .dataframe tbody tr th {\n",
              "        vertical-align: top;\n",
              "    }\n",
              "\n",
              "    .dataframe thead th {\n",
              "        text-align: right;\n",
              "    }\n",
              "</style>\n",
              "<table border=\"1\" class=\"dataframe\">\n",
              "  <thead>\n",
              "    <tr style=\"text-align: right;\">\n",
              "      <th></th>\n",
              "      <th>total_bill</th>\n",
              "      <th>tip</th>\n",
              "      <th>Gender</th>\n",
              "      <th>smoker</th>\n",
              "      <th>day</th>\n",
              "      <th>time</th>\n",
              "      <th>size</th>\n",
              "      <th>Total Expence</th>\n",
              "    </tr>\n",
              "  </thead>\n",
              "  <tbody>\n",
              "    <tr>\n",
              "      <th>0</th>\n",
              "      <td>False</td>\n",
              "      <td>False</td>\n",
              "      <td>False</td>\n",
              "      <td>False</td>\n",
              "      <td>False</td>\n",
              "      <td>False</td>\n",
              "      <td>False</td>\n",
              "      <td>False</td>\n",
              "    </tr>\n",
              "    <tr>\n",
              "      <th>1</th>\n",
              "      <td>False</td>\n",
              "      <td>False</td>\n",
              "      <td>False</td>\n",
              "      <td>False</td>\n",
              "      <td>False</td>\n",
              "      <td>False</td>\n",
              "      <td>False</td>\n",
              "      <td>False</td>\n",
              "    </tr>\n",
              "    <tr>\n",
              "      <th>2</th>\n",
              "      <td>False</td>\n",
              "      <td>False</td>\n",
              "      <td>False</td>\n",
              "      <td>False</td>\n",
              "      <td>False</td>\n",
              "      <td>False</td>\n",
              "      <td>False</td>\n",
              "      <td>False</td>\n",
              "    </tr>\n",
              "    <tr>\n",
              "      <th>3</th>\n",
              "      <td>False</td>\n",
              "      <td>False</td>\n",
              "      <td>False</td>\n",
              "      <td>False</td>\n",
              "      <td>False</td>\n",
              "      <td>False</td>\n",
              "      <td>False</td>\n",
              "      <td>False</td>\n",
              "    </tr>\n",
              "    <tr>\n",
              "      <th>4</th>\n",
              "      <td>False</td>\n",
              "      <td>False</td>\n",
              "      <td>False</td>\n",
              "      <td>False</td>\n",
              "      <td>False</td>\n",
              "      <td>False</td>\n",
              "      <td>False</td>\n",
              "      <td>False</td>\n",
              "    </tr>\n",
              "    <tr>\n",
              "      <th>...</th>\n",
              "      <td>...</td>\n",
              "      <td>...</td>\n",
              "      <td>...</td>\n",
              "      <td>...</td>\n",
              "      <td>...</td>\n",
              "      <td>...</td>\n",
              "      <td>...</td>\n",
              "      <td>...</td>\n",
              "    </tr>\n",
              "    <tr>\n",
              "      <th>239</th>\n",
              "      <td>False</td>\n",
              "      <td>False</td>\n",
              "      <td>False</td>\n",
              "      <td>False</td>\n",
              "      <td>False</td>\n",
              "      <td>False</td>\n",
              "      <td>False</td>\n",
              "      <td>False</td>\n",
              "    </tr>\n",
              "    <tr>\n",
              "      <th>240</th>\n",
              "      <td>False</td>\n",
              "      <td>False</td>\n",
              "      <td>False</td>\n",
              "      <td>False</td>\n",
              "      <td>False</td>\n",
              "      <td>False</td>\n",
              "      <td>False</td>\n",
              "      <td>False</td>\n",
              "    </tr>\n",
              "    <tr>\n",
              "      <th>241</th>\n",
              "      <td>False</td>\n",
              "      <td>False</td>\n",
              "      <td>False</td>\n",
              "      <td>False</td>\n",
              "      <td>False</td>\n",
              "      <td>False</td>\n",
              "      <td>False</td>\n",
              "      <td>False</td>\n",
              "    </tr>\n",
              "    <tr>\n",
              "      <th>242</th>\n",
              "      <td>False</td>\n",
              "      <td>False</td>\n",
              "      <td>False</td>\n",
              "      <td>False</td>\n",
              "      <td>False</td>\n",
              "      <td>False</td>\n",
              "      <td>False</td>\n",
              "      <td>False</td>\n",
              "    </tr>\n",
              "    <tr>\n",
              "      <th>243</th>\n",
              "      <td>False</td>\n",
              "      <td>False</td>\n",
              "      <td>False</td>\n",
              "      <td>False</td>\n",
              "      <td>False</td>\n",
              "      <td>False</td>\n",
              "      <td>False</td>\n",
              "      <td>False</td>\n",
              "    </tr>\n",
              "  </tbody>\n",
              "</table>\n",
              "<p>244 rows × 8 columns</p>\n",
              "</div>"
            ],
            "text/plain": [
              "     total_bill    tip  Gender  smoker    day   time   size  Total Expence\n",
              "0         False  False   False   False  False  False  False          False\n",
              "1         False  False   False   False  False  False  False          False\n",
              "2         False  False   False   False  False  False  False          False\n",
              "3         False  False   False   False  False  False  False          False\n",
              "4         False  False   False   False  False  False  False          False\n",
              "..          ...    ...     ...     ...    ...    ...    ...            ...\n",
              "239       False  False   False   False  False  False  False          False\n",
              "240       False  False   False   False  False  False  False          False\n",
              "241       False  False   False   False  False  False  False          False\n",
              "242       False  False   False   False  False  False  False          False\n",
              "243       False  False   False   False  False  False  False          False\n",
              "\n",
              "[244 rows x 8 columns]"
            ]
          },
          "execution_count": 45,
          "metadata": {},
          "output_type": "execute_result"
        }
      ],
      "source": [
        "df.isnull()"
      ]
    },
    {
      "cell_type": "markdown",
      "id": "5c50977f",
      "metadata": {
        "id": "5c50977f"
      },
      "source": [
        "<br>\n",
        "<div class=\" alert alert-block alert-success\">\n",
        "To know sum of null values column wise use sum()"
      ]
    },
    {
      "cell_type": "code",
      "execution_count": null,
      "id": "c3530ad8",
      "metadata": {
        "id": "c3530ad8",
        "outputId": "33140f2a-7bbc-46dd-aaa3-ba468e98fd62"
      },
      "outputs": [
        {
          "data": {
            "text/plain": [
              "total_bill       0\n",
              "tip              0\n",
              "Gender           0\n",
              "smoker           0\n",
              "day              0\n",
              "time             0\n",
              "size             0\n",
              "Total Expence    0\n",
              "dtype: int64"
            ]
          },
          "execution_count": 46,
          "metadata": {},
          "output_type": "execute_result"
        }
      ],
      "source": [
        "df.isnull().sum()"
      ]
    },
    {
      "cell_type": "markdown",
      "id": "5ef52471",
      "metadata": {
        "id": "5ef52471"
      },
      "source": [
        "<br>\n",
        "<div class=\" alert alert-block alert-success\">\n",
        "<b>df.dropna()</b> | Drop all rows that contain null values"
      ]
    },
    {
      "cell_type": "code",
      "execution_count": null,
      "id": "cf00a491",
      "metadata": {
        "id": "cf00a491",
        "outputId": "455fe7f6-7751-4bba-bc6e-edac4b005679"
      },
      "outputs": [
        {
          "data": {
            "text/html": [
              "<div>\n",
              "<style scoped>\n",
              "    .dataframe tbody tr th:only-of-type {\n",
              "        vertical-align: middle;\n",
              "    }\n",
              "\n",
              "    .dataframe tbody tr th {\n",
              "        vertical-align: top;\n",
              "    }\n",
              "\n",
              "    .dataframe thead th {\n",
              "        text-align: right;\n",
              "    }\n",
              "</style>\n",
              "<table border=\"1\" class=\"dataframe\">\n",
              "  <thead>\n",
              "    <tr style=\"text-align: right;\">\n",
              "      <th></th>\n",
              "      <th>total_bill</th>\n",
              "      <th>tip</th>\n",
              "      <th>Gender</th>\n",
              "      <th>smoker</th>\n",
              "      <th>day</th>\n",
              "      <th>time</th>\n",
              "      <th>size</th>\n",
              "      <th>Total Expence</th>\n",
              "    </tr>\n",
              "  </thead>\n",
              "  <tbody>\n",
              "    <tr>\n",
              "      <th>0</th>\n",
              "      <td>20.33</td>\n",
              "      <td>1.01</td>\n",
              "      <td>Female</td>\n",
              "      <td>Yes</td>\n",
              "      <td>Mon</td>\n",
              "      <td>Dinner</td>\n",
              "      <td>2.0</td>\n",
              "      <td>21.34</td>\n",
              "    </tr>\n",
              "    <tr>\n",
              "      <th>1</th>\n",
              "      <td>10.34</td>\n",
              "      <td>1.66</td>\n",
              "      <td>Male</td>\n",
              "      <td>Yes</td>\n",
              "      <td>Mon</td>\n",
              "      <td>Dinner</td>\n",
              "      <td>3.0</td>\n",
              "      <td>12.00</td>\n",
              "    </tr>\n",
              "    <tr>\n",
              "      <th>2</th>\n",
              "      <td>21.01</td>\n",
              "      <td>3.50</td>\n",
              "      <td>Male</td>\n",
              "      <td>Yes</td>\n",
              "      <td>Mon</td>\n",
              "      <td>Dinner</td>\n",
              "      <td>3.0</td>\n",
              "      <td>24.51</td>\n",
              "    </tr>\n",
              "    <tr>\n",
              "      <th>3</th>\n",
              "      <td>23.68</td>\n",
              "      <td>3.31</td>\n",
              "      <td>Male</td>\n",
              "      <td>Yes</td>\n",
              "      <td>Mon</td>\n",
              "      <td>Dinner</td>\n",
              "      <td>2.0</td>\n",
              "      <td>26.99</td>\n",
              "    </tr>\n",
              "    <tr>\n",
              "      <th>4</th>\n",
              "      <td>24.59</td>\n",
              "      <td>3.61</td>\n",
              "      <td>Female</td>\n",
              "      <td>Yes</td>\n",
              "      <td>Mon</td>\n",
              "      <td>Dinner</td>\n",
              "      <td>4.0</td>\n",
              "      <td>28.20</td>\n",
              "    </tr>\n",
              "    <tr>\n",
              "      <th>...</th>\n",
              "      <td>...</td>\n",
              "      <td>...</td>\n",
              "      <td>...</td>\n",
              "      <td>...</td>\n",
              "      <td>...</td>\n",
              "      <td>...</td>\n",
              "      <td>...</td>\n",
              "      <td>...</td>\n",
              "    </tr>\n",
              "    <tr>\n",
              "      <th>239</th>\n",
              "      <td>29.03</td>\n",
              "      <td>5.92</td>\n",
              "      <td>Male</td>\n",
              "      <td>No</td>\n",
              "      <td>Sat</td>\n",
              "      <td>Dinner</td>\n",
              "      <td>3.0</td>\n",
              "      <td>34.95</td>\n",
              "    </tr>\n",
              "    <tr>\n",
              "      <th>240</th>\n",
              "      <td>27.18</td>\n",
              "      <td>2.00</td>\n",
              "      <td>Female</td>\n",
              "      <td>Yes</td>\n",
              "      <td>Sat</td>\n",
              "      <td>Dinner</td>\n",
              "      <td>2.0</td>\n",
              "      <td>29.18</td>\n",
              "    </tr>\n",
              "    <tr>\n",
              "      <th>241</th>\n",
              "      <td>22.67</td>\n",
              "      <td>2.00</td>\n",
              "      <td>Male</td>\n",
              "      <td>Yes</td>\n",
              "      <td>Sat</td>\n",
              "      <td>Dinner</td>\n",
              "      <td>2.0</td>\n",
              "      <td>24.67</td>\n",
              "    </tr>\n",
              "    <tr>\n",
              "      <th>242</th>\n",
              "      <td>17.82</td>\n",
              "      <td>1.75</td>\n",
              "      <td>Male</td>\n",
              "      <td>No</td>\n",
              "      <td>Sat</td>\n",
              "      <td>Dinner</td>\n",
              "      <td>2.0</td>\n",
              "      <td>19.57</td>\n",
              "    </tr>\n",
              "    <tr>\n",
              "      <th>243</th>\n",
              "      <td>18.78</td>\n",
              "      <td>3.00</td>\n",
              "      <td>Female</td>\n",
              "      <td>No</td>\n",
              "      <td>Thur</td>\n",
              "      <td>Dinner</td>\n",
              "      <td>2.0</td>\n",
              "      <td>21.78</td>\n",
              "    </tr>\n",
              "  </tbody>\n",
              "</table>\n",
              "<p>244 rows × 8 columns</p>\n",
              "</div>"
            ],
            "text/plain": [
              "     total_bill   tip  Gender smoker   day    time  size  Total Expence\n",
              "0         20.33  1.01  Female    Yes   Mon  Dinner   2.0          21.34\n",
              "1         10.34  1.66    Male    Yes   Mon  Dinner   3.0          12.00\n",
              "2         21.01  3.50    Male    Yes   Mon  Dinner   3.0          24.51\n",
              "3         23.68  3.31    Male    Yes   Mon  Dinner   2.0          26.99\n",
              "4         24.59  3.61  Female    Yes   Mon  Dinner   4.0          28.20\n",
              "..          ...   ...     ...    ...   ...     ...   ...            ...\n",
              "239       29.03  5.92    Male     No   Sat  Dinner   3.0          34.95\n",
              "240       27.18  2.00  Female    Yes   Sat  Dinner   2.0          29.18\n",
              "241       22.67  2.00    Male    Yes   Sat  Dinner   2.0          24.67\n",
              "242       17.82  1.75    Male     No   Sat  Dinner   2.0          19.57\n",
              "243       18.78  3.00  Female     No  Thur  Dinner   2.0          21.78\n",
              "\n",
              "[244 rows x 8 columns]"
            ]
          },
          "execution_count": 47,
          "metadata": {},
          "output_type": "execute_result"
        }
      ],
      "source": [
        "df.dropna()"
      ]
    },
    {
      "cell_type": "markdown",
      "id": "bdfbfe34",
      "metadata": {
        "id": "bdfbfe34"
      },
      "source": [
        "<br>\n",
        "<div class=\" alert alert-block alert-success\">\n",
        "<b>df.dropna(axis=1)</b> | Drop all columns that contain null values"
      ]
    },
    {
      "cell_type": "code",
      "execution_count": null,
      "id": "c2a7b3ef",
      "metadata": {
        "id": "c2a7b3ef",
        "outputId": "98ec626b-e9e9-4b3d-cef6-6dde0d27417d"
      },
      "outputs": [
        {
          "data": {
            "text/html": [
              "<div>\n",
              "<style scoped>\n",
              "    .dataframe tbody tr th:only-of-type {\n",
              "        vertical-align: middle;\n",
              "    }\n",
              "\n",
              "    .dataframe tbody tr th {\n",
              "        vertical-align: top;\n",
              "    }\n",
              "\n",
              "    .dataframe thead th {\n",
              "        text-align: right;\n",
              "    }\n",
              "</style>\n",
              "<table border=\"1\" class=\"dataframe\">\n",
              "  <thead>\n",
              "    <tr style=\"text-align: right;\">\n",
              "      <th></th>\n",
              "      <th>total_bill</th>\n",
              "      <th>tip</th>\n",
              "      <th>Gender</th>\n",
              "      <th>smoker</th>\n",
              "      <th>day</th>\n",
              "      <th>time</th>\n",
              "      <th>size</th>\n",
              "      <th>Total Expence</th>\n",
              "    </tr>\n",
              "  </thead>\n",
              "  <tbody>\n",
              "    <tr>\n",
              "      <th>0</th>\n",
              "      <td>20.33</td>\n",
              "      <td>1.01</td>\n",
              "      <td>Female</td>\n",
              "      <td>Yes</td>\n",
              "      <td>Mon</td>\n",
              "      <td>Dinner</td>\n",
              "      <td>2.0</td>\n",
              "      <td>21.34</td>\n",
              "    </tr>\n",
              "    <tr>\n",
              "      <th>1</th>\n",
              "      <td>10.34</td>\n",
              "      <td>1.66</td>\n",
              "      <td>Male</td>\n",
              "      <td>Yes</td>\n",
              "      <td>Mon</td>\n",
              "      <td>Dinner</td>\n",
              "      <td>3.0</td>\n",
              "      <td>12.00</td>\n",
              "    </tr>\n",
              "    <tr>\n",
              "      <th>2</th>\n",
              "      <td>21.01</td>\n",
              "      <td>3.50</td>\n",
              "      <td>Male</td>\n",
              "      <td>Yes</td>\n",
              "      <td>Mon</td>\n",
              "      <td>Dinner</td>\n",
              "      <td>3.0</td>\n",
              "      <td>24.51</td>\n",
              "    </tr>\n",
              "    <tr>\n",
              "      <th>3</th>\n",
              "      <td>23.68</td>\n",
              "      <td>3.31</td>\n",
              "      <td>Male</td>\n",
              "      <td>Yes</td>\n",
              "      <td>Mon</td>\n",
              "      <td>Dinner</td>\n",
              "      <td>2.0</td>\n",
              "      <td>26.99</td>\n",
              "    </tr>\n",
              "    <tr>\n",
              "      <th>4</th>\n",
              "      <td>24.59</td>\n",
              "      <td>3.61</td>\n",
              "      <td>Female</td>\n",
              "      <td>Yes</td>\n",
              "      <td>Mon</td>\n",
              "      <td>Dinner</td>\n",
              "      <td>4.0</td>\n",
              "      <td>28.20</td>\n",
              "    </tr>\n",
              "    <tr>\n",
              "      <th>...</th>\n",
              "      <td>...</td>\n",
              "      <td>...</td>\n",
              "      <td>...</td>\n",
              "      <td>...</td>\n",
              "      <td>...</td>\n",
              "      <td>...</td>\n",
              "      <td>...</td>\n",
              "      <td>...</td>\n",
              "    </tr>\n",
              "    <tr>\n",
              "      <th>239</th>\n",
              "      <td>29.03</td>\n",
              "      <td>5.92</td>\n",
              "      <td>Male</td>\n",
              "      <td>No</td>\n",
              "      <td>Sat</td>\n",
              "      <td>Dinner</td>\n",
              "      <td>3.0</td>\n",
              "      <td>34.95</td>\n",
              "    </tr>\n",
              "    <tr>\n",
              "      <th>240</th>\n",
              "      <td>27.18</td>\n",
              "      <td>2.00</td>\n",
              "      <td>Female</td>\n",
              "      <td>Yes</td>\n",
              "      <td>Sat</td>\n",
              "      <td>Dinner</td>\n",
              "      <td>2.0</td>\n",
              "      <td>29.18</td>\n",
              "    </tr>\n",
              "    <tr>\n",
              "      <th>241</th>\n",
              "      <td>22.67</td>\n",
              "      <td>2.00</td>\n",
              "      <td>Male</td>\n",
              "      <td>Yes</td>\n",
              "      <td>Sat</td>\n",
              "      <td>Dinner</td>\n",
              "      <td>2.0</td>\n",
              "      <td>24.67</td>\n",
              "    </tr>\n",
              "    <tr>\n",
              "      <th>242</th>\n",
              "      <td>17.82</td>\n",
              "      <td>1.75</td>\n",
              "      <td>Male</td>\n",
              "      <td>No</td>\n",
              "      <td>Sat</td>\n",
              "      <td>Dinner</td>\n",
              "      <td>2.0</td>\n",
              "      <td>19.57</td>\n",
              "    </tr>\n",
              "    <tr>\n",
              "      <th>243</th>\n",
              "      <td>18.78</td>\n",
              "      <td>3.00</td>\n",
              "      <td>Female</td>\n",
              "      <td>No</td>\n",
              "      <td>Thur</td>\n",
              "      <td>Dinner</td>\n",
              "      <td>2.0</td>\n",
              "      <td>21.78</td>\n",
              "    </tr>\n",
              "  </tbody>\n",
              "</table>\n",
              "<p>244 rows × 8 columns</p>\n",
              "</div>"
            ],
            "text/plain": [
              "     total_bill   tip  Gender smoker   day    time  size  Total Expence\n",
              "0         20.33  1.01  Female    Yes   Mon  Dinner   2.0          21.34\n",
              "1         10.34  1.66    Male    Yes   Mon  Dinner   3.0          12.00\n",
              "2         21.01  3.50    Male    Yes   Mon  Dinner   3.0          24.51\n",
              "3         23.68  3.31    Male    Yes   Mon  Dinner   2.0          26.99\n",
              "4         24.59  3.61  Female    Yes   Mon  Dinner   4.0          28.20\n",
              "..          ...   ...     ...    ...   ...     ...   ...            ...\n",
              "239       29.03  5.92    Male     No   Sat  Dinner   3.0          34.95\n",
              "240       27.18  2.00  Female    Yes   Sat  Dinner   2.0          29.18\n",
              "241       22.67  2.00    Male    Yes   Sat  Dinner   2.0          24.67\n",
              "242       17.82  1.75    Male     No   Sat  Dinner   2.0          19.57\n",
              "243       18.78  3.00  Female     No  Thur  Dinner   2.0          21.78\n",
              "\n",
              "[244 rows x 8 columns]"
            ]
          },
          "execution_count": 48,
          "metadata": {},
          "output_type": "execute_result"
        }
      ],
      "source": [
        "df.dropna(axis=1)"
      ]
    },
    {
      "cell_type": "markdown",
      "id": "61fd4fe7",
      "metadata": {
        "id": "61fd4fe7"
      },
      "source": [
        "<br>\n",
        "<div class=\" alert alert-block alert-success\">\n",
        "<b>df.dropna(axis=1,thresh=n)</b> | Drop all rows have have less than n non null values"
      ]
    },
    {
      "cell_type": "code",
      "execution_count": null,
      "id": "9f8d3d87",
      "metadata": {
        "id": "9f8d3d87",
        "outputId": "17ad488f-ab4a-4d80-f5e1-a4294f137632"
      },
      "outputs": [
        {
          "data": {
            "text/html": [
              "<div>\n",
              "<style scoped>\n",
              "    .dataframe tbody tr th:only-of-type {\n",
              "        vertical-align: middle;\n",
              "    }\n",
              "\n",
              "    .dataframe tbody tr th {\n",
              "        vertical-align: top;\n",
              "    }\n",
              "\n",
              "    .dataframe thead th {\n",
              "        text-align: right;\n",
              "    }\n",
              "</style>\n",
              "<table border=\"1\" class=\"dataframe\">\n",
              "  <thead>\n",
              "    <tr style=\"text-align: right;\">\n",
              "      <th></th>\n",
              "      <th>total_bill</th>\n",
              "      <th>tip</th>\n",
              "      <th>Gender</th>\n",
              "      <th>smoker</th>\n",
              "      <th>day</th>\n",
              "      <th>time</th>\n",
              "      <th>size</th>\n",
              "      <th>Total Expence</th>\n",
              "    </tr>\n",
              "  </thead>\n",
              "  <tbody>\n",
              "    <tr>\n",
              "      <th>0</th>\n",
              "      <td>20.33</td>\n",
              "      <td>1.01</td>\n",
              "      <td>Female</td>\n",
              "      <td>Yes</td>\n",
              "      <td>Mon</td>\n",
              "      <td>Dinner</td>\n",
              "      <td>2.0</td>\n",
              "      <td>21.34</td>\n",
              "    </tr>\n",
              "    <tr>\n",
              "      <th>1</th>\n",
              "      <td>10.34</td>\n",
              "      <td>1.66</td>\n",
              "      <td>Male</td>\n",
              "      <td>Yes</td>\n",
              "      <td>Mon</td>\n",
              "      <td>Dinner</td>\n",
              "      <td>3.0</td>\n",
              "      <td>12.00</td>\n",
              "    </tr>\n",
              "    <tr>\n",
              "      <th>2</th>\n",
              "      <td>21.01</td>\n",
              "      <td>3.50</td>\n",
              "      <td>Male</td>\n",
              "      <td>Yes</td>\n",
              "      <td>Mon</td>\n",
              "      <td>Dinner</td>\n",
              "      <td>3.0</td>\n",
              "      <td>24.51</td>\n",
              "    </tr>\n",
              "    <tr>\n",
              "      <th>3</th>\n",
              "      <td>23.68</td>\n",
              "      <td>3.31</td>\n",
              "      <td>Male</td>\n",
              "      <td>Yes</td>\n",
              "      <td>Mon</td>\n",
              "      <td>Dinner</td>\n",
              "      <td>2.0</td>\n",
              "      <td>26.99</td>\n",
              "    </tr>\n",
              "    <tr>\n",
              "      <th>4</th>\n",
              "      <td>24.59</td>\n",
              "      <td>3.61</td>\n",
              "      <td>Female</td>\n",
              "      <td>Yes</td>\n",
              "      <td>Mon</td>\n",
              "      <td>Dinner</td>\n",
              "      <td>4.0</td>\n",
              "      <td>28.20</td>\n",
              "    </tr>\n",
              "    <tr>\n",
              "      <th>...</th>\n",
              "      <td>...</td>\n",
              "      <td>...</td>\n",
              "      <td>...</td>\n",
              "      <td>...</td>\n",
              "      <td>...</td>\n",
              "      <td>...</td>\n",
              "      <td>...</td>\n",
              "      <td>...</td>\n",
              "    </tr>\n",
              "    <tr>\n",
              "      <th>239</th>\n",
              "      <td>29.03</td>\n",
              "      <td>5.92</td>\n",
              "      <td>Male</td>\n",
              "      <td>No</td>\n",
              "      <td>Sat</td>\n",
              "      <td>Dinner</td>\n",
              "      <td>3.0</td>\n",
              "      <td>34.95</td>\n",
              "    </tr>\n",
              "    <tr>\n",
              "      <th>240</th>\n",
              "      <td>27.18</td>\n",
              "      <td>2.00</td>\n",
              "      <td>Female</td>\n",
              "      <td>Yes</td>\n",
              "      <td>Sat</td>\n",
              "      <td>Dinner</td>\n",
              "      <td>2.0</td>\n",
              "      <td>29.18</td>\n",
              "    </tr>\n",
              "    <tr>\n",
              "      <th>241</th>\n",
              "      <td>22.67</td>\n",
              "      <td>2.00</td>\n",
              "      <td>Male</td>\n",
              "      <td>Yes</td>\n",
              "      <td>Sat</td>\n",
              "      <td>Dinner</td>\n",
              "      <td>2.0</td>\n",
              "      <td>24.67</td>\n",
              "    </tr>\n",
              "    <tr>\n",
              "      <th>242</th>\n",
              "      <td>17.82</td>\n",
              "      <td>1.75</td>\n",
              "      <td>Male</td>\n",
              "      <td>No</td>\n",
              "      <td>Sat</td>\n",
              "      <td>Dinner</td>\n",
              "      <td>2.0</td>\n",
              "      <td>19.57</td>\n",
              "    </tr>\n",
              "    <tr>\n",
              "      <th>243</th>\n",
              "      <td>18.78</td>\n",
              "      <td>3.00</td>\n",
              "      <td>Female</td>\n",
              "      <td>No</td>\n",
              "      <td>Thur</td>\n",
              "      <td>Dinner</td>\n",
              "      <td>2.0</td>\n",
              "      <td>21.78</td>\n",
              "    </tr>\n",
              "  </tbody>\n",
              "</table>\n",
              "<p>244 rows × 8 columns</p>\n",
              "</div>"
            ],
            "text/plain": [
              "     total_bill   tip  Gender smoker   day    time  size  Total Expence\n",
              "0         20.33  1.01  Female    Yes   Mon  Dinner   2.0          21.34\n",
              "1         10.34  1.66    Male    Yes   Mon  Dinner   3.0          12.00\n",
              "2         21.01  3.50    Male    Yes   Mon  Dinner   3.0          24.51\n",
              "3         23.68  3.31    Male    Yes   Mon  Dinner   2.0          26.99\n",
              "4         24.59  3.61  Female    Yes   Mon  Dinner   4.0          28.20\n",
              "..          ...   ...     ...    ...   ...     ...   ...            ...\n",
              "239       29.03  5.92    Male     No   Sat  Dinner   3.0          34.95\n",
              "240       27.18  2.00  Female    Yes   Sat  Dinner   2.0          29.18\n",
              "241       22.67  2.00    Male    Yes   Sat  Dinner   2.0          24.67\n",
              "242       17.82  1.75    Male     No   Sat  Dinner   2.0          19.57\n",
              "243       18.78  3.00  Female     No  Thur  Dinner   2.0          21.78\n",
              "\n",
              "[244 rows x 8 columns]"
            ]
          },
          "execution_count": 49,
          "metadata": {},
          "output_type": "execute_result"
        }
      ],
      "source": [
        "df.dropna(axis=1,thresh=2)"
      ]
    },
    {
      "cell_type": "markdown",
      "id": "09dbf92f",
      "metadata": {
        "id": "09dbf92f"
      },
      "source": [
        "<br>\n",
        "<div class=\" alert alert-block alert-success\">\n",
        "<b>df.fillna(x)</b> | Replace all null values with x"
      ]
    },
    {
      "cell_type": "code",
      "execution_count": null,
      "id": "a8dddc3a",
      "metadata": {
        "id": "a8dddc3a",
        "outputId": "0e72774d-63f2-4ff0-e1c5-5fa963db6034"
      },
      "outputs": [
        {
          "data": {
            "text/html": [
              "<div>\n",
              "<style scoped>\n",
              "    .dataframe tbody tr th:only-of-type {\n",
              "        vertical-align: middle;\n",
              "    }\n",
              "\n",
              "    .dataframe tbody tr th {\n",
              "        vertical-align: top;\n",
              "    }\n",
              "\n",
              "    .dataframe thead th {\n",
              "        text-align: right;\n",
              "    }\n",
              "</style>\n",
              "<table border=\"1\" class=\"dataframe\">\n",
              "  <thead>\n",
              "    <tr style=\"text-align: right;\">\n",
              "      <th></th>\n",
              "      <th>total_bill</th>\n",
              "      <th>tip</th>\n",
              "      <th>Gender</th>\n",
              "      <th>smoker</th>\n",
              "      <th>day</th>\n",
              "      <th>time</th>\n",
              "      <th>size</th>\n",
              "      <th>Total Expence</th>\n",
              "    </tr>\n",
              "  </thead>\n",
              "  <tbody>\n",
              "    <tr>\n",
              "      <th>0</th>\n",
              "      <td>20.33</td>\n",
              "      <td>1.01</td>\n",
              "      <td>Female</td>\n",
              "      <td>Yes</td>\n",
              "      <td>Mon</td>\n",
              "      <td>Dinner</td>\n",
              "      <td>2.0</td>\n",
              "      <td>21.34</td>\n",
              "    </tr>\n",
              "    <tr>\n",
              "      <th>1</th>\n",
              "      <td>10.34</td>\n",
              "      <td>1.66</td>\n",
              "      <td>Male</td>\n",
              "      <td>Yes</td>\n",
              "      <td>Mon</td>\n",
              "      <td>Dinner</td>\n",
              "      <td>3.0</td>\n",
              "      <td>12.00</td>\n",
              "    </tr>\n",
              "    <tr>\n",
              "      <th>2</th>\n",
              "      <td>21.01</td>\n",
              "      <td>3.50</td>\n",
              "      <td>Male</td>\n",
              "      <td>Yes</td>\n",
              "      <td>Mon</td>\n",
              "      <td>Dinner</td>\n",
              "      <td>3.0</td>\n",
              "      <td>24.51</td>\n",
              "    </tr>\n",
              "    <tr>\n",
              "      <th>3</th>\n",
              "      <td>23.68</td>\n",
              "      <td>3.31</td>\n",
              "      <td>Male</td>\n",
              "      <td>Yes</td>\n",
              "      <td>Mon</td>\n",
              "      <td>Dinner</td>\n",
              "      <td>2.0</td>\n",
              "      <td>26.99</td>\n",
              "    </tr>\n",
              "    <tr>\n",
              "      <th>4</th>\n",
              "      <td>24.59</td>\n",
              "      <td>3.61</td>\n",
              "      <td>Female</td>\n",
              "      <td>Yes</td>\n",
              "      <td>Mon</td>\n",
              "      <td>Dinner</td>\n",
              "      <td>4.0</td>\n",
              "      <td>28.20</td>\n",
              "    </tr>\n",
              "    <tr>\n",
              "      <th>...</th>\n",
              "      <td>...</td>\n",
              "      <td>...</td>\n",
              "      <td>...</td>\n",
              "      <td>...</td>\n",
              "      <td>...</td>\n",
              "      <td>...</td>\n",
              "      <td>...</td>\n",
              "      <td>...</td>\n",
              "    </tr>\n",
              "    <tr>\n",
              "      <th>239</th>\n",
              "      <td>29.03</td>\n",
              "      <td>5.92</td>\n",
              "      <td>Male</td>\n",
              "      <td>No</td>\n",
              "      <td>Sat</td>\n",
              "      <td>Dinner</td>\n",
              "      <td>3.0</td>\n",
              "      <td>34.95</td>\n",
              "    </tr>\n",
              "    <tr>\n",
              "      <th>240</th>\n",
              "      <td>27.18</td>\n",
              "      <td>2.00</td>\n",
              "      <td>Female</td>\n",
              "      <td>Yes</td>\n",
              "      <td>Sat</td>\n",
              "      <td>Dinner</td>\n",
              "      <td>2.0</td>\n",
              "      <td>29.18</td>\n",
              "    </tr>\n",
              "    <tr>\n",
              "      <th>241</th>\n",
              "      <td>22.67</td>\n",
              "      <td>2.00</td>\n",
              "      <td>Male</td>\n",
              "      <td>Yes</td>\n",
              "      <td>Sat</td>\n",
              "      <td>Dinner</td>\n",
              "      <td>2.0</td>\n",
              "      <td>24.67</td>\n",
              "    </tr>\n",
              "    <tr>\n",
              "      <th>242</th>\n",
              "      <td>17.82</td>\n",
              "      <td>1.75</td>\n",
              "      <td>Male</td>\n",
              "      <td>No</td>\n",
              "      <td>Sat</td>\n",
              "      <td>Dinner</td>\n",
              "      <td>2.0</td>\n",
              "      <td>19.57</td>\n",
              "    </tr>\n",
              "    <tr>\n",
              "      <th>243</th>\n",
              "      <td>18.78</td>\n",
              "      <td>3.00</td>\n",
              "      <td>Female</td>\n",
              "      <td>No</td>\n",
              "      <td>Thur</td>\n",
              "      <td>Dinner</td>\n",
              "      <td>2.0</td>\n",
              "      <td>21.78</td>\n",
              "    </tr>\n",
              "  </tbody>\n",
              "</table>\n",
              "<p>244 rows × 8 columns</p>\n",
              "</div>"
            ],
            "text/plain": [
              "     total_bill   tip  Gender smoker   day    time  size  Total Expence\n",
              "0         20.33  1.01  Female    Yes   Mon  Dinner   2.0          21.34\n",
              "1         10.34  1.66    Male    Yes   Mon  Dinner   3.0          12.00\n",
              "2         21.01  3.50    Male    Yes   Mon  Dinner   3.0          24.51\n",
              "3         23.68  3.31    Male    Yes   Mon  Dinner   2.0          26.99\n",
              "4         24.59  3.61  Female    Yes   Mon  Dinner   4.0          28.20\n",
              "..          ...   ...     ...    ...   ...     ...   ...            ...\n",
              "239       29.03  5.92    Male     No   Sat  Dinner   3.0          34.95\n",
              "240       27.18  2.00  Female    Yes   Sat  Dinner   2.0          29.18\n",
              "241       22.67  2.00    Male    Yes   Sat  Dinner   2.0          24.67\n",
              "242       17.82  1.75    Male     No   Sat  Dinner   2.0          19.57\n",
              "243       18.78  3.00  Female     No  Thur  Dinner   2.0          21.78\n",
              "\n",
              "[244 rows x 8 columns]"
            ]
          },
          "execution_count": 50,
          "metadata": {},
          "output_type": "execute_result"
        }
      ],
      "source": [
        "df.fillna(2)"
      ]
    },
    {
      "cell_type": "markdown",
      "id": "4aeed748",
      "metadata": {
        "id": "4aeed748"
      },
      "source": [
        "<br>\n",
        "<div class=\" alert alert-block alert-success\">\n",
        "<b>df.fillna(df.mean())</b> | Replace all null values with the mean (mean can be replaced with almost any function from the statistics module)"
      ]
    },
    {
      "cell_type": "code",
      "execution_count": null,
      "id": "b303a0a5",
      "metadata": {
        "id": "b303a0a5",
        "outputId": "d2b66016-45aa-43bf-c582-0a5fbd1c815c"
      },
      "outputs": [
        {
          "data": {
            "text/html": [
              "<div>\n",
              "<style scoped>\n",
              "    .dataframe tbody tr th:only-of-type {\n",
              "        vertical-align: middle;\n",
              "    }\n",
              "\n",
              "    .dataframe tbody tr th {\n",
              "        vertical-align: top;\n",
              "    }\n",
              "\n",
              "    .dataframe thead th {\n",
              "        text-align: right;\n",
              "    }\n",
              "</style>\n",
              "<table border=\"1\" class=\"dataframe\">\n",
              "  <thead>\n",
              "    <tr style=\"text-align: right;\">\n",
              "      <th></th>\n",
              "      <th>total_bill</th>\n",
              "      <th>tip</th>\n",
              "      <th>Gender</th>\n",
              "      <th>smoker</th>\n",
              "      <th>day</th>\n",
              "      <th>time</th>\n",
              "      <th>size</th>\n",
              "      <th>Total Expence</th>\n",
              "    </tr>\n",
              "  </thead>\n",
              "  <tbody>\n",
              "    <tr>\n",
              "      <th>0</th>\n",
              "      <td>20.33</td>\n",
              "      <td>1.01</td>\n",
              "      <td>Female</td>\n",
              "      <td>Yes</td>\n",
              "      <td>Mon</td>\n",
              "      <td>Dinner</td>\n",
              "      <td>2.0</td>\n",
              "      <td>21.34</td>\n",
              "    </tr>\n",
              "    <tr>\n",
              "      <th>1</th>\n",
              "      <td>10.34</td>\n",
              "      <td>1.66</td>\n",
              "      <td>Male</td>\n",
              "      <td>Yes</td>\n",
              "      <td>Mon</td>\n",
              "      <td>Dinner</td>\n",
              "      <td>3.0</td>\n",
              "      <td>12.00</td>\n",
              "    </tr>\n",
              "    <tr>\n",
              "      <th>2</th>\n",
              "      <td>21.01</td>\n",
              "      <td>3.50</td>\n",
              "      <td>Male</td>\n",
              "      <td>Yes</td>\n",
              "      <td>Mon</td>\n",
              "      <td>Dinner</td>\n",
              "      <td>3.0</td>\n",
              "      <td>24.51</td>\n",
              "    </tr>\n",
              "    <tr>\n",
              "      <th>3</th>\n",
              "      <td>23.68</td>\n",
              "      <td>3.31</td>\n",
              "      <td>Male</td>\n",
              "      <td>Yes</td>\n",
              "      <td>Mon</td>\n",
              "      <td>Dinner</td>\n",
              "      <td>2.0</td>\n",
              "      <td>26.99</td>\n",
              "    </tr>\n",
              "    <tr>\n",
              "      <th>4</th>\n",
              "      <td>24.59</td>\n",
              "      <td>3.61</td>\n",
              "      <td>Female</td>\n",
              "      <td>Yes</td>\n",
              "      <td>Mon</td>\n",
              "      <td>Dinner</td>\n",
              "      <td>4.0</td>\n",
              "      <td>28.20</td>\n",
              "    </tr>\n",
              "    <tr>\n",
              "      <th>...</th>\n",
              "      <td>...</td>\n",
              "      <td>...</td>\n",
              "      <td>...</td>\n",
              "      <td>...</td>\n",
              "      <td>...</td>\n",
              "      <td>...</td>\n",
              "      <td>...</td>\n",
              "      <td>...</td>\n",
              "    </tr>\n",
              "    <tr>\n",
              "      <th>239</th>\n",
              "      <td>29.03</td>\n",
              "      <td>5.92</td>\n",
              "      <td>Male</td>\n",
              "      <td>No</td>\n",
              "      <td>Sat</td>\n",
              "      <td>Dinner</td>\n",
              "      <td>3.0</td>\n",
              "      <td>34.95</td>\n",
              "    </tr>\n",
              "    <tr>\n",
              "      <th>240</th>\n",
              "      <td>27.18</td>\n",
              "      <td>2.00</td>\n",
              "      <td>Female</td>\n",
              "      <td>Yes</td>\n",
              "      <td>Sat</td>\n",
              "      <td>Dinner</td>\n",
              "      <td>2.0</td>\n",
              "      <td>29.18</td>\n",
              "    </tr>\n",
              "    <tr>\n",
              "      <th>241</th>\n",
              "      <td>22.67</td>\n",
              "      <td>2.00</td>\n",
              "      <td>Male</td>\n",
              "      <td>Yes</td>\n",
              "      <td>Sat</td>\n",
              "      <td>Dinner</td>\n",
              "      <td>2.0</td>\n",
              "      <td>24.67</td>\n",
              "    </tr>\n",
              "    <tr>\n",
              "      <th>242</th>\n",
              "      <td>17.82</td>\n",
              "      <td>1.75</td>\n",
              "      <td>Male</td>\n",
              "      <td>No</td>\n",
              "      <td>Sat</td>\n",
              "      <td>Dinner</td>\n",
              "      <td>2.0</td>\n",
              "      <td>19.57</td>\n",
              "    </tr>\n",
              "    <tr>\n",
              "      <th>243</th>\n",
              "      <td>18.78</td>\n",
              "      <td>3.00</td>\n",
              "      <td>Female</td>\n",
              "      <td>No</td>\n",
              "      <td>Thur</td>\n",
              "      <td>Dinner</td>\n",
              "      <td>2.0</td>\n",
              "      <td>21.78</td>\n",
              "    </tr>\n",
              "  </tbody>\n",
              "</table>\n",
              "<p>244 rows × 8 columns</p>\n",
              "</div>"
            ],
            "text/plain": [
              "     total_bill   tip  Gender smoker   day    time  size  Total Expence\n",
              "0         20.33  1.01  Female    Yes   Mon  Dinner   2.0          21.34\n",
              "1         10.34  1.66    Male    Yes   Mon  Dinner   3.0          12.00\n",
              "2         21.01  3.50    Male    Yes   Mon  Dinner   3.0          24.51\n",
              "3         23.68  3.31    Male    Yes   Mon  Dinner   2.0          26.99\n",
              "4         24.59  3.61  Female    Yes   Mon  Dinner   4.0          28.20\n",
              "..          ...   ...     ...    ...   ...     ...   ...            ...\n",
              "239       29.03  5.92    Male     No   Sat  Dinner   3.0          34.95\n",
              "240       27.18  2.00  Female    Yes   Sat  Dinner   2.0          29.18\n",
              "241       22.67  2.00    Male    Yes   Sat  Dinner   2.0          24.67\n",
              "242       17.82  1.75    Male     No   Sat  Dinner   2.0          19.57\n",
              "243       18.78  3.00  Female     No  Thur  Dinner   2.0          21.78\n",
              "\n",
              "[244 rows x 8 columns]"
            ]
          },
          "execution_count": 51,
          "metadata": {},
          "output_type": "execute_result"
        }
      ],
      "source": [
        "df.fillna(df.mean(numeric_only=True))"
      ]
    },
    {
      "cell_type": "markdown",
      "id": "f067db4b",
      "metadata": {
        "id": "f067db4b"
      },
      "source": [
        "##### 8."
      ]
    },
    {
      "cell_type": "markdown",
      "id": "43364d27",
      "metadata": {
        "id": "43364d27"
      },
      "source": [
        "### <span style='background:#D7A9E3FF'> **WORKING WITH DATE AND TIME**</span>"
      ]
    },
    {
      "cell_type": "markdown",
      "id": "c389fb4f",
      "metadata": {
        "id": "c389fb4f"
      },
      "source": [
        "<br>\n",
        "<div class=\" alert alert-block alert-success\">\n",
        "<b>df2['Date']=pd.to_datetime(df2['Date']) </b>| command to change datatype to datetime."
      ]
    },
    {
      "cell_type": "code",
      "execution_count": null,
      "id": "b32e3417",
      "metadata": {
        "id": "b32e3417",
        "outputId": "1b76a4bc-76a6-4f77-9e59-3f2569b92a43"
      },
      "outputs": [
        {
          "name": "stderr",
          "output_type": "stream",
          "text": [
            "C:\\Users\\erapo\\AppData\\Local\\Temp/ipykernel_6068/2309517030.py:5: SettingWithCopyWarning: \n",
            "A value is trying to be set on a copy of a slice from a DataFrame.\n",
            "Try using .loc[row_indexer,col_indexer] = value instead\n",
            "\n",
            "See the caveats in the documentation: https://pandas.pydata.org/pandas-docs/stable/user_guide/indexing.html#returning-a-view-versus-a-copy\n",
            "  df2['Date']=df1['Date']\n"
          ]
        },
        {
          "data": {
            "text/html": [
              "<div>\n",
              "<style scoped>\n",
              "    .dataframe tbody tr th:only-of-type {\n",
              "        vertical-align: middle;\n",
              "    }\n",
              "\n",
              "    .dataframe tbody tr th {\n",
              "        vertical-align: top;\n",
              "    }\n",
              "\n",
              "    .dataframe thead th {\n",
              "        text-align: right;\n",
              "    }\n",
              "</style>\n",
              "<table border=\"1\" class=\"dataframe\">\n",
              "  <thead>\n",
              "    <tr style=\"text-align: right;\">\n",
              "      <th></th>\n",
              "      <th>total_bill</th>\n",
              "      <th>tip</th>\n",
              "      <th>Gender</th>\n",
              "      <th>smoker</th>\n",
              "      <th>day</th>\n",
              "      <th>time</th>\n",
              "      <th>size</th>\n",
              "      <th>Total Expence</th>\n",
              "      <th>Date</th>\n",
              "    </tr>\n",
              "  </thead>\n",
              "  <tbody>\n",
              "    <tr>\n",
              "      <th>0</th>\n",
              "      <td>20.33</td>\n",
              "      <td>1.01</td>\n",
              "      <td>Female</td>\n",
              "      <td>Yes</td>\n",
              "      <td>Mon</td>\n",
              "      <td>Dinner</td>\n",
              "      <td>2.0</td>\n",
              "      <td>21.34</td>\n",
              "      <td>2020-06-13</td>\n",
              "    </tr>\n",
              "    <tr>\n",
              "      <th>1</th>\n",
              "      <td>10.34</td>\n",
              "      <td>1.66</td>\n",
              "      <td>Male</td>\n",
              "      <td>Yes</td>\n",
              "      <td>Mon</td>\n",
              "      <td>Dinner</td>\n",
              "      <td>3.0</td>\n",
              "      <td>12.00</td>\n",
              "      <td>2020-03-27</td>\n",
              "    </tr>\n",
              "    <tr>\n",
              "      <th>2</th>\n",
              "      <td>21.01</td>\n",
              "      <td>3.50</td>\n",
              "      <td>Male</td>\n",
              "      <td>Yes</td>\n",
              "      <td>Mon</td>\n",
              "      <td>Dinner</td>\n",
              "      <td>3.0</td>\n",
              "      <td>24.51</td>\n",
              "      <td>2021-09-22</td>\n",
              "    </tr>\n",
              "    <tr>\n",
              "      <th>3</th>\n",
              "      <td>23.68</td>\n",
              "      <td>3.31</td>\n",
              "      <td>Male</td>\n",
              "      <td>Yes</td>\n",
              "      <td>Mon</td>\n",
              "      <td>Dinner</td>\n",
              "      <td>2.0</td>\n",
              "      <td>26.99</td>\n",
              "      <td>2022-01-01</td>\n",
              "    </tr>\n",
              "    <tr>\n",
              "      <th>4</th>\n",
              "      <td>24.59</td>\n",
              "      <td>3.61</td>\n",
              "      <td>Female</td>\n",
              "      <td>Yes</td>\n",
              "      <td>Mon</td>\n",
              "      <td>Dinner</td>\n",
              "      <td>4.0</td>\n",
              "      <td>28.20</td>\n",
              "      <td>2019-05-16</td>\n",
              "    </tr>\n",
              "  </tbody>\n",
              "</table>\n",
              "</div>"
            ],
            "text/plain": [
              "   total_bill   tip  Gender smoker  day    time  size  Total Expence  \\\n",
              "0       20.33  1.01  Female    Yes  Mon  Dinner   2.0          21.34   \n",
              "1       10.34  1.66    Male    Yes  Mon  Dinner   3.0          12.00   \n",
              "2       21.01  3.50    Male    Yes  Mon  Dinner   3.0          24.51   \n",
              "3       23.68  3.31    Male    Yes  Mon  Dinner   2.0          26.99   \n",
              "4       24.59  3.61  Female    Yes  Mon  Dinner   4.0          28.20   \n",
              "\n",
              "         Date  \n",
              "0  2020-06-13  \n",
              "1  2020-03-27  \n",
              "2  2021-09-22  \n",
              "3  2022-01-01  \n",
              "4  2019-05-16  "
            ]
          },
          "execution_count": 52,
          "metadata": {},
          "output_type": "execute_result"
        }
      ],
      "source": [
        "df1=pd.Series({\n",
        "    'Date':['2020-06-13','2020-03-27','2021-09-22','2022-01-01','2019-05-16']\n",
        "})\n",
        "df2=df.loc[0:4,:]\n",
        "df2['Date']=df1['Date']\n",
        "df2\n"
      ]
    },
    {
      "cell_type": "code",
      "execution_count": null,
      "id": "6553c156",
      "metadata": {
        "scrolled": true,
        "id": "6553c156",
        "outputId": "b65da67a-342d-4a5a-e048-b458880af3ae"
      },
      "outputs": [
        {
          "name": "stderr",
          "output_type": "stream",
          "text": [
            "C:\\Users\\erapo\\AppData\\Local\\Temp/ipykernel_6068/1678922165.py:1: SettingWithCopyWarning: \n",
            "A value is trying to be set on a copy of a slice from a DataFrame.\n",
            "Try using .loc[row_indexer,col_indexer] = value instead\n",
            "\n",
            "See the caveats in the documentation: https://pandas.pydata.org/pandas-docs/stable/user_guide/indexing.html#returning-a-view-versus-a-copy\n",
            "  df2['Date']=pd.to_datetime(df2['Date'])\n"
          ]
        }
      ],
      "source": [
        "df2['Date']=pd.to_datetime(df2['Date'])"
      ]
    },
    {
      "cell_type": "code",
      "execution_count": null,
      "id": "25e819b8",
      "metadata": {
        "id": "25e819b8",
        "outputId": "5dfa7b32-41bc-4e84-a500-9522055d1e7c"
      },
      "outputs": [
        {
          "name": "stdout",
          "output_type": "stream",
          "text": [
            "<class 'pandas.core.frame.DataFrame'>\n",
            "RangeIndex: 5 entries, 0 to 4\n",
            "Data columns (total 9 columns):\n",
            " #   Column         Non-Null Count  Dtype         \n",
            "---  ------         --------------  -----         \n",
            " 0   total_bill     5 non-null      float64       \n",
            " 1   tip            5 non-null      float64       \n",
            " 2   Gender         5 non-null      object        \n",
            " 3   smoker         5 non-null      object        \n",
            " 4   day            5 non-null      object        \n",
            " 5   time           5 non-null      object        \n",
            " 6   size           5 non-null      float64       \n",
            " 7   Total Expence  5 non-null      float64       \n",
            " 8   Date           5 non-null      datetime64[ns]\n",
            "dtypes: datetime64[ns](1), float64(4), object(4)\n",
            "memory usage: 488.0+ bytes\n"
          ]
        }
      ],
      "source": [
        "df2.info()"
      ]
    },
    {
      "cell_type": "markdown",
      "id": "d2c73cb0",
      "metadata": {
        "id": "d2c73cb0"
      },
      "source": [
        "<br>\n",
        "<div class=\" alert alert-block alert-success\">\n",
        "<b>df2['Date'].dt.year</b>| To see only year from dateTime column.<br>\n",
        "<b>df2['Date'].dt.month</b>| To see only year from dateTime column.<br>\n",
        "<b>df2['Date'].dt.day</b>| To see only day from dateTime column.<br>\n",
        "<b>df2['Date'].dt.hour</b>| To see only day from dateTime column.<br>"
      ]
    },
    {
      "cell_type": "code",
      "execution_count": null,
      "id": "26034130",
      "metadata": {
        "id": "26034130",
        "outputId": "9092c78f-c9be-4b0d-b9f3-bbdb7cc8f8a3"
      },
      "outputs": [
        {
          "data": {
            "text/plain": [
              "0    2020\n",
              "1    2020\n",
              "Name: Date, dtype: int64"
            ]
          },
          "execution_count": 55,
          "metadata": {},
          "output_type": "execute_result"
        }
      ],
      "source": [
        "df2['Date'].dt.year.head(2)"
      ]
    },
    {
      "cell_type": "code",
      "execution_count": null,
      "id": "9f359957",
      "metadata": {
        "id": "9f359957",
        "outputId": "94a8b50b-0457-46a7-a1d0-56063e87ab72"
      },
      "outputs": [
        {
          "data": {
            "text/plain": [
              "0    6\n",
              "1    3\n",
              "Name: Date, dtype: int64"
            ]
          },
          "execution_count": 56,
          "metadata": {},
          "output_type": "execute_result"
        }
      ],
      "source": [
        "df2['Date'].dt.month.head(2)"
      ]
    },
    {
      "cell_type": "code",
      "execution_count": null,
      "id": "d1b2326a",
      "metadata": {
        "id": "d1b2326a",
        "outputId": "79783743-cfa0-4d50-b731-657856cb6094"
      },
      "outputs": [
        {
          "data": {
            "text/plain": [
              "0    13\n",
              "1    27\n",
              "Name: Date, dtype: int64"
            ]
          },
          "execution_count": 57,
          "metadata": {},
          "output_type": "execute_result"
        }
      ],
      "source": [
        "df2['Date'].dt.day.head(2)"
      ]
    },
    {
      "cell_type": "code",
      "execution_count": null,
      "id": "2f82400a",
      "metadata": {
        "id": "2f82400a",
        "outputId": "368ae11c-31ab-4292-9f6b-387482858434"
      },
      "outputs": [
        {
          "data": {
            "text/plain": [
              "0    0\n",
              "1    0\n",
              "Name: Date, dtype: int64"
            ]
          },
          "execution_count": 58,
          "metadata": {},
          "output_type": "execute_result"
        }
      ],
      "source": [
        "df2['Date'].dt.hour.head(2)"
      ]
    },
    {
      "cell_type": "markdown",
      "id": "c92feafd",
      "metadata": {
        "id": "c92feafd"
      },
      "source": [
        "<br>\n",
        "<div class=\" alert alert-block alert-success\">\n",
        "comparison operators in datetime"
      ]
    },
    {
      "cell_type": "code",
      "execution_count": null,
      "id": "a9f9a12e",
      "metadata": {
        "id": "a9f9a12e",
        "outputId": "e990cccf-46cf-4efb-880c-2f2bf22edd08"
      },
      "outputs": [
        {
          "data": {
            "text/html": [
              "<div>\n",
              "<style scoped>\n",
              "    .dataframe tbody tr th:only-of-type {\n",
              "        vertical-align: middle;\n",
              "    }\n",
              "\n",
              "    .dataframe tbody tr th {\n",
              "        vertical-align: top;\n",
              "    }\n",
              "\n",
              "    .dataframe thead th {\n",
              "        text-align: right;\n",
              "    }\n",
              "</style>\n",
              "<table border=\"1\" class=\"dataframe\">\n",
              "  <thead>\n",
              "    <tr style=\"text-align: right;\">\n",
              "      <th></th>\n",
              "      <th>total_bill</th>\n",
              "      <th>tip</th>\n",
              "      <th>Gender</th>\n",
              "      <th>smoker</th>\n",
              "      <th>day</th>\n",
              "      <th>time</th>\n",
              "      <th>size</th>\n",
              "      <th>Total Expence</th>\n",
              "      <th>Date</th>\n",
              "    </tr>\n",
              "  </thead>\n",
              "  <tbody>\n",
              "    <tr>\n",
              "      <th>0</th>\n",
              "      <td>20.33</td>\n",
              "      <td>1.01</td>\n",
              "      <td>Female</td>\n",
              "      <td>Yes</td>\n",
              "      <td>Mon</td>\n",
              "      <td>Dinner</td>\n",
              "      <td>2.0</td>\n",
              "      <td>21.34</td>\n",
              "      <td>2020-06-13</td>\n",
              "    </tr>\n",
              "    <tr>\n",
              "      <th>1</th>\n",
              "      <td>10.34</td>\n",
              "      <td>1.66</td>\n",
              "      <td>Male</td>\n",
              "      <td>Yes</td>\n",
              "      <td>Mon</td>\n",
              "      <td>Dinner</td>\n",
              "      <td>3.0</td>\n",
              "      <td>12.00</td>\n",
              "      <td>2020-03-27</td>\n",
              "    </tr>\n",
              "    <tr>\n",
              "      <th>2</th>\n",
              "      <td>21.01</td>\n",
              "      <td>3.50</td>\n",
              "      <td>Male</td>\n",
              "      <td>Yes</td>\n",
              "      <td>Mon</td>\n",
              "      <td>Dinner</td>\n",
              "      <td>3.0</td>\n",
              "      <td>24.51</td>\n",
              "      <td>2021-09-22</td>\n",
              "    </tr>\n",
              "    <tr>\n",
              "      <th>3</th>\n",
              "      <td>23.68</td>\n",
              "      <td>3.31</td>\n",
              "      <td>Male</td>\n",
              "      <td>Yes</td>\n",
              "      <td>Mon</td>\n",
              "      <td>Dinner</td>\n",
              "      <td>2.0</td>\n",
              "      <td>26.99</td>\n",
              "      <td>2022-01-01</td>\n",
              "    </tr>\n",
              "  </tbody>\n",
              "</table>\n",
              "</div>"
            ],
            "text/plain": [
              "   total_bill   tip  Gender smoker  day    time  size  Total Expence  \\\n",
              "0       20.33  1.01  Female    Yes  Mon  Dinner   2.0          21.34   \n",
              "1       10.34  1.66    Male    Yes  Mon  Dinner   3.0          12.00   \n",
              "2       21.01  3.50    Male    Yes  Mon  Dinner   3.0          24.51   \n",
              "3       23.68  3.31    Male    Yes  Mon  Dinner   2.0          26.99   \n",
              "\n",
              "        Date  \n",
              "0 2020-06-13  \n",
              "1 2020-03-27  \n",
              "2 2021-09-22  \n",
              "3 2022-01-01  "
            ]
          },
          "execution_count": 59,
          "metadata": {},
          "output_type": "execute_result"
        }
      ],
      "source": [
        "df2[df2['Date']>'2020']"
      ]
    },
    {
      "cell_type": "code",
      "execution_count": null,
      "id": "42ba159c",
      "metadata": {
        "id": "42ba159c",
        "outputId": "b4db2a34-362d-4cb2-bc99-c5451f24f55c"
      },
      "outputs": [
        {
          "data": {
            "text/html": [
              "<div>\n",
              "<style scoped>\n",
              "    .dataframe tbody tr th:only-of-type {\n",
              "        vertical-align: middle;\n",
              "    }\n",
              "\n",
              "    .dataframe tbody tr th {\n",
              "        vertical-align: top;\n",
              "    }\n",
              "\n",
              "    .dataframe thead th {\n",
              "        text-align: right;\n",
              "    }\n",
              "</style>\n",
              "<table border=\"1\" class=\"dataframe\">\n",
              "  <thead>\n",
              "    <tr style=\"text-align: right;\">\n",
              "      <th></th>\n",
              "      <th>total_bill</th>\n",
              "      <th>tip</th>\n",
              "      <th>Gender</th>\n",
              "      <th>smoker</th>\n",
              "      <th>day</th>\n",
              "      <th>time</th>\n",
              "      <th>size</th>\n",
              "      <th>Total Expence</th>\n",
              "      <th>Date</th>\n",
              "    </tr>\n",
              "  </thead>\n",
              "  <tbody>\n",
              "    <tr>\n",
              "      <th>0</th>\n",
              "      <td>20.33</td>\n",
              "      <td>1.01</td>\n",
              "      <td>Female</td>\n",
              "      <td>Yes</td>\n",
              "      <td>Mon</td>\n",
              "      <td>Dinner</td>\n",
              "      <td>2.0</td>\n",
              "      <td>21.34</td>\n",
              "      <td>2020-06-13</td>\n",
              "    </tr>\n",
              "  </tbody>\n",
              "</table>\n",
              "</div>"
            ],
            "text/plain": [
              "   total_bill   tip  Gender smoker  day    time  size  Total Expence  \\\n",
              "0       20.33  1.01  Female    Yes  Mon  Dinner   2.0          21.34   \n",
              "\n",
              "        Date  \n",
              "0 2020-06-13  "
            ]
          },
          "execution_count": 60,
          "metadata": {},
          "output_type": "execute_result"
        }
      ],
      "source": [
        "df2[df2['Date']=='2020-06-13']"
      ]
    },
    {
      "cell_type": "code",
      "execution_count": null,
      "id": "bb1f24e6",
      "metadata": {
        "id": "bb1f24e6",
        "outputId": "64e2ed25-179f-4cce-98f0-7ef8c5cd5faa"
      },
      "outputs": [
        {
          "data": {
            "text/html": [
              "<div>\n",
              "<style scoped>\n",
              "    .dataframe tbody tr th:only-of-type {\n",
              "        vertical-align: middle;\n",
              "    }\n",
              "\n",
              "    .dataframe tbody tr th {\n",
              "        vertical-align: top;\n",
              "    }\n",
              "\n",
              "    .dataframe thead th {\n",
              "        text-align: right;\n",
              "    }\n",
              "</style>\n",
              "<table border=\"1\" class=\"dataframe\">\n",
              "  <thead>\n",
              "    <tr style=\"text-align: right;\">\n",
              "      <th></th>\n",
              "      <th>total_bill</th>\n",
              "      <th>tip</th>\n",
              "      <th>Gender</th>\n",
              "      <th>smoker</th>\n",
              "      <th>day</th>\n",
              "      <th>time</th>\n",
              "      <th>size</th>\n",
              "      <th>Total Expence</th>\n",
              "      <th>Date</th>\n",
              "    </tr>\n",
              "  </thead>\n",
              "  <tbody>\n",
              "    <tr>\n",
              "      <th>2</th>\n",
              "      <td>21.01</td>\n",
              "      <td>3.50</td>\n",
              "      <td>Male</td>\n",
              "      <td>Yes</td>\n",
              "      <td>Mon</td>\n",
              "      <td>Dinner</td>\n",
              "      <td>3.0</td>\n",
              "      <td>24.51</td>\n",
              "      <td>2021-09-22</td>\n",
              "    </tr>\n",
              "    <tr>\n",
              "      <th>3</th>\n",
              "      <td>23.68</td>\n",
              "      <td>3.31</td>\n",
              "      <td>Male</td>\n",
              "      <td>Yes</td>\n",
              "      <td>Mon</td>\n",
              "      <td>Dinner</td>\n",
              "      <td>2.0</td>\n",
              "      <td>26.99</td>\n",
              "      <td>2022-01-01</td>\n",
              "    </tr>\n",
              "  </tbody>\n",
              "</table>\n",
              "</div>"
            ],
            "text/plain": [
              "   total_bill   tip Gender smoker  day    time  size  Total Expence       Date\n",
              "2       21.01  3.50   Male    Yes  Mon  Dinner   3.0          24.51 2021-09-22\n",
              "3       23.68  3.31   Male    Yes  Mon  Dinner   2.0          26.99 2022-01-01"
            ]
          },
          "execution_count": 61,
          "metadata": {},
          "output_type": "execute_result"
        }
      ],
      "source": [
        "df2[df2['Date'].between('2021','2025')]"
      ]
    },
    {
      "cell_type": "markdown",
      "id": "d006c362",
      "metadata": {
        "id": "d006c362"
      },
      "source": [
        "<br>\n",
        "<div class=\" alert alert-block alert-success\">\n",
        "<b>Subtraction in dateTime columns:</b><br>\n",
        "<b>df[col1]-df[col2]</b> | result being the difference in numbers of days as an integer."
      ]
    },
    {
      "cell_type": "code",
      "execution_count": null,
      "id": "c478de65",
      "metadata": {
        "id": "c478de65",
        "outputId": "52a1ef45-3491-4393-a5ad-8730db859097"
      },
      "outputs": [
        {
          "name": "stderr",
          "output_type": "stream",
          "text": [
            "C:\\Users\\erapo\\AppData\\Local\\Temp/ipykernel_6068/948851519.py:1: SettingWithCopyWarning: \n",
            "A value is trying to be set on a copy of a slice from a DataFrame.\n",
            "Try using .loc[row_indexer,col_indexer] = value instead\n",
            "\n",
            "See the caveats in the documentation: https://pandas.pydata.org/pandas-docs/stable/user_guide/indexing.html#returning-a-view-versus-a-copy\n",
            "  df2['Date2']=['2016-12-09','2018-12-11','2019-12-12','2020-12-14','2017-12-14']\n",
            "C:\\Users\\erapo\\AppData\\Local\\Temp/ipykernel_6068/948851519.py:2: SettingWithCopyWarning: \n",
            "A value is trying to be set on a copy of a slice from a DataFrame.\n",
            "Try using .loc[row_indexer,col_indexer] = value instead\n",
            "\n",
            "See the caveats in the documentation: https://pandas.pydata.org/pandas-docs/stable/user_guide/indexing.html#returning-a-view-versus-a-copy\n",
            "  df2['Date2']=pd.to_datetime(df2['Date2'])\n"
          ]
        }
      ],
      "source": [
        "df2['Date2']=['2016-12-09','2018-12-11','2019-12-12','2020-12-14','2017-12-14']\n",
        "df2['Date2']=pd.to_datetime(df2['Date2'])"
      ]
    },
    {
      "cell_type": "code",
      "execution_count": null,
      "id": "b2cc2498",
      "metadata": {
        "id": "b2cc2498",
        "outputId": "181fff3d-9d26-4878-8261-8ad15ac3e43c"
      },
      "outputs": [
        {
          "data": {
            "text/plain": [
              "0   1282 days\n",
              "1    472 days\n",
              "2    650 days\n",
              "3    383 days\n",
              "4    518 days\n",
              "dtype: timedelta64[ns]"
            ]
          },
          "execution_count": 63,
          "metadata": {},
          "output_type": "execute_result"
        }
      ],
      "source": [
        "df2['Date']-df2['Date2']"
      ]
    },
    {
      "cell_type": "code",
      "execution_count": null,
      "id": "edf9367d",
      "metadata": {
        "id": "edf9367d"
      },
      "outputs": [],
      "source": []
    },
    {
      "cell_type": "code",
      "execution_count": null,
      "id": "a3d6c3cb",
      "metadata": {
        "id": "a3d6c3cb"
      },
      "outputs": [],
      "source": []
    },
    {
      "cell_type": "code",
      "execution_count": null,
      "id": "db62da28",
      "metadata": {
        "id": "db62da28"
      },
      "outputs": [],
      "source": []
    },
    {
      "cell_type": "markdown",
      "id": "2016800a",
      "metadata": {
        "id": "2016800a"
      },
      "source": [
        "##### Matplot"
      ]
    },
    {
      "cell_type": "markdown",
      "id": "1eea06e7",
      "metadata": {
        "id": "1eea06e7"
      },
      "source": [
        "# Matplot"
      ]
    },
    {
      "cell_type": "markdown",
      "id": "a048bfb0",
      "metadata": {
        "id": "a048bfb0"
      },
      "source": [
        "<div class=\"alert alert-block alert-warning\">\n",
        "<b><I>Matplotlib is a python library used to create 2D graphs and plots by using python scripts. It has a module named pyplot which makes things easy for plotting by providing feature to control line styles, font properties, formatting axes etc.\n",
        "</div>"
      ]
    },
    {
      "cell_type": "markdown",
      "id": "831090fb",
      "metadata": {
        "id": "831090fb"
      },
      "source": [
        "##### 9."
      ]
    },
    {
      "cell_type": "markdown",
      "id": "74fea723",
      "metadata": {
        "id": "74fea723"
      },
      "source": [
        "###  <span style='background:#D7A9E3FF;text-align:center;'> **Basic plots** </span>"
      ]
    },
    {
      "cell_type": "markdown",
      "id": "1c276e94",
      "metadata": {
        "id": "1c276e94"
      },
      "source": [
        "<div class=\"alert alert-block alert-info\">\n",
        "    <b>Firstly, we will import the matplot library"
      ]
    },
    {
      "cell_type": "code",
      "execution_count": null,
      "id": "1f2efb5a",
      "metadata": {
        "id": "1f2efb5a"
      },
      "outputs": [],
      "source": [
        "import matplotlib.pyplot as plt"
      ]
    },
    {
      "cell_type": "markdown",
      "id": "eec0f77d",
      "metadata": {
        "id": "eec0f77d"
      },
      "source": [
        "<div class=\"alert alert-block alert-info\">\n",
        "    Lets begin with taking two lists a and b"
      ]
    },
    {
      "cell_type": "code",
      "execution_count": null,
      "id": "2b5dfc45",
      "metadata": {
        "id": "2b5dfc45"
      },
      "outputs": [],
      "source": [
        "a=[25,26,27,28,29,30,31,32,33]\n",
        "b=[23232,25646,28877,32566,36789,40787,44645,48945,53433]"
      ]
    },
    {
      "cell_type": "markdown",
      "id": "8f6808e6",
      "metadata": {
        "id": "8f6808e6"
      },
      "source": [
        "<div class=\"alert alert-block alert-info\">Now,to plot a graph between a and b we need to write the following command where the first argument being the x-axis and the second argument becomes the y-axis"
      ]
    },
    {
      "cell_type": "code",
      "execution_count": null,
      "id": "8c700e88",
      "metadata": {
        "id": "8c700e88",
        "outputId": "e03d1442-1629-403b-d465-494adfe7c973"
      },
      "outputs": [
        {
          "data": {
            "text/plain": [
              "[<matplotlib.lines.Line2D at 0x1994aeca100>]"
            ]
          },
          "execution_count": 66,
          "metadata": {},
          "output_type": "execute_result"
        },
        {
          "data": {
            "image/png": "[encoded data removed]",
            "text/plain": [
              "<Figure size 432x288 with 1 Axes>"
            ]
          },
          "metadata": {
            "needs_background": "light"
          },
          "output_type": "display_data"
        }
      ],
      "source": [
        "plt.plot(b,a)"
      ]
    },
    {
      "cell_type": "markdown",
      "id": "3d47f02e",
      "metadata": {
        "id": "3d47f02e"
      },
      "source": [
        "<div class=\"alert alert-block alert-success\"><b>Further we can label the x-axis , y-axis , set the title for the graph using the following commands"
      ]
    },
    {
      "cell_type": "code",
      "execution_count": null,
      "id": "6b33719c",
      "metadata": {
        "id": "6b33719c",
        "outputId": "b353f72e-5a27-489f-88db-8d8b5ad536cb"
      },
      "outputs": [
        {
          "data": {
            "text/plain": [
              "[<matplotlib.lines.Line2D at 0x1994afc0a60>]"
            ]
          },
          "execution_count": 67,
          "metadata": {},
          "output_type": "execute_result"
        },
        {
          "data": {
            "image/png": "[encoded data removed]",
            "text/plain": [
              "<Figure size 432x288 with 1 Axes>"
            ]
          },
          "metadata": {
            "needs_background": "light"
          },
          "output_type": "display_data"
        }
      ],
      "source": [
        "plt.xlabel(\"Age\")\n",
        "plt.ylabel(\"Salary in USD\")\n",
        "plt.title(\"Median Salary by Age\")\n",
        "plt.plot(b,a)"
      ]
    },
    {
      "cell_type": "markdown",
      "id": "f959f17d",
      "metadata": {
        "id": "f959f17d"
      },
      "source": [
        "##### 10."
      ]
    },
    {
      "cell_type": "markdown",
      "id": "9a7855d3",
      "metadata": {
        "id": "9a7855d3"
      },
      "source": [
        "###  <span style='background:#D7A9E3FF;text-align:center;'>**Plotting Time Related Data** </span>"
      ]
    },
    {
      "cell_type": "markdown",
      "id": "29c61c81",
      "metadata": {
        "id": "29c61c81"
      },
      "source": [
        "<span style= 'background:    #CCCCFF ' > **This functions in matplot library enables us to plot date and time** </span>"
      ]
    },
    {
      "cell_type": "code",
      "execution_count": null,
      "id": "cee797f5",
      "metadata": {
        "id": "cee797f5"
      },
      "outputs": [],
      "source": [
        "import pandas as pd\n",
        "from datetime import datetime , timedelta\n",
        "from matplotlib import pyplot as plt\n",
        "from matplotlib import dates as date"
      ]
    },
    {
      "cell_type": "code",
      "execution_count": null,
      "id": "c375479d",
      "metadata": {
        "id": "c375479d",
        "outputId": "75fa96f1-738d-4c3d-f890-a498479c8e48"
      },
      "outputs": [
        {
          "data": {
            "text/plain": [
              "[<matplotlib.lines.Line2D at 0x1994b042760>]"
            ]
          },
          "execution_count": 69,
          "metadata": {},
          "output_type": "execute_result"
        },
        {
          "data": {
            "image/png": "[encoded data removed]",
            "text/plain": [
              "<Figure size 576x396 with 1 Axes>"
            ]
          },
          "metadata": {},
          "output_type": "display_data"
        }
      ],
      "source": [
        "plt.style.use('seaborn')\n",
        "#Creating a list of dates\n",
        "dates= [\n",
        "    datetime(2019,5,24),\n",
        "    datetime(2019,5,25),\n",
        "    datetime(2019,5,26),\n",
        "    datetime(2019,5,27),\n",
        "    datetime(2019,5,28),\n",
        "    datetime(2019,5,29),\n",
        "    datetime(2019,5,30)\n",
        "]\n",
        "y=[0, 1, 3, 4, 6, 5, 7]\n",
        "plt.plot_date(dates,y)"
      ]
    },
    {
      "cell_type": "markdown",
      "id": "f3e8f634",
      "metadata": {
        "id": "f3e8f634"
      },
      "source": [
        "<span style= 'background: #BAB86C  '> * WE CAN CHANGE THE STYLE OF GRAPH </span>"
      ]
    },
    {
      "cell_type": "code",
      "execution_count": null,
      "id": "3d5c45fa",
      "metadata": {
        "id": "3d5c45fa",
        "outputId": "cf12de54-2b3d-4426-bc85-76867900caf0"
      },
      "outputs": [
        {
          "data": {
            "text/plain": [
              "[<matplotlib.lines.Line2D at 0x1994b0adee0>]"
            ]
          },
          "execution_count": 70,
          "metadata": {},
          "output_type": "execute_result"
        },
        {
          "data": {
            "image/png": "[encoded data removed]",
            "text/plain": [
              "<Figure size 576x396 with 1 Axes>"
            ]
          },
          "metadata": {},
          "output_type": "display_data"
        }
      ],
      "source": [
        "plt.plot_date(dates,y,linestyle='solid')"
      ]
    },
    {
      "cell_type": "markdown",
      "id": "c516dd01",
      "metadata": {
        "id": "c516dd01"
      },
      "source": [
        "##### 11."
      ]
    },
    {
      "cell_type": "markdown",
      "id": "276a00cb",
      "metadata": {
        "id": "276a00cb"
      },
      "source": [
        "###  <span style='background:#D7A9E3FF;text-align:center;'> **Implementation on a dataset** </span>"
      ]
    },
    {
      "cell_type": "markdown",
      "id": "dc1ff413",
      "metadata": {
        "id": "dc1ff413"
      },
      "source": [
        "\n",
        "**HOW TO READ A CSV FILE?**\n",
        "\n",
        "**STEP 1**- Copy the pathname of the csv file from your desktop/downloads.\n",
        "**STEP-2**- import the pandas library to read the csv file using \"pd.read_csv()\" function."
      ]
    },
    {
      "cell_type": "code",
      "execution_count": null,
      "id": "9eb2f28a",
      "metadata": {
        "id": "9eb2f28a"
      },
      "outputs": [],
      "source": [
        "import pandas as pd"
      ]
    },
    {
      "cell_type": "code",
      "execution_count": null,
      "id": "68cf00b4",
      "metadata": {
        "id": "68cf00b4"
      },
      "outputs": [],
      "source": [
        "df=pd.read_csv(\"tips.csv\")"
      ]
    },
    {
      "cell_type": "code",
      "execution_count": null,
      "id": "b879d541",
      "metadata": {
        "id": "b879d541",
        "outputId": "23903e42-3823-486a-aeb7-9ce6549ade80"
      },
      "outputs": [
        {
          "data": {
            "text/html": [
              "<div>\n",
              "<style scoped>\n",
              "    .dataframe tbody tr th:only-of-type {\n",
              "        vertical-align: middle;\n",
              "    }\n",
              "\n",
              "    .dataframe tbody tr th {\n",
              "        vertical-align: top;\n",
              "    }\n",
              "\n",
              "    .dataframe thead th {\n",
              "        text-align: right;\n",
              "    }\n",
              "</style>\n",
              "<table border=\"1\" class=\"dataframe\">\n",
              "  <thead>\n",
              "    <tr style=\"text-align: right;\">\n",
              "      <th></th>\n",
              "      <th>total_bill</th>\n",
              "      <th>tip</th>\n",
              "      <th>sex</th>\n",
              "      <th>smoker</th>\n",
              "      <th>day</th>\n",
              "      <th>time</th>\n",
              "      <th>size</th>\n",
              "    </tr>\n",
              "  </thead>\n",
              "  <tbody>\n",
              "    <tr>\n",
              "      <th>0</th>\n",
              "      <td>16.99</td>\n",
              "      <td>1.01</td>\n",
              "      <td>Female</td>\n",
              "      <td>No</td>\n",
              "      <td>Sun</td>\n",
              "      <td>Dinner</td>\n",
              "      <td>2</td>\n",
              "    </tr>\n",
              "    <tr>\n",
              "      <th>1</th>\n",
              "      <td>10.34</td>\n",
              "      <td>1.66</td>\n",
              "      <td>Male</td>\n",
              "      <td>No</td>\n",
              "      <td>Sun</td>\n",
              "      <td>Dinner</td>\n",
              "      <td>3</td>\n",
              "    </tr>\n",
              "    <tr>\n",
              "      <th>2</th>\n",
              "      <td>21.01</td>\n",
              "      <td>3.50</td>\n",
              "      <td>Male</td>\n",
              "      <td>No</td>\n",
              "      <td>Sun</td>\n",
              "      <td>Dinner</td>\n",
              "      <td>3</td>\n",
              "    </tr>\n",
              "    <tr>\n",
              "      <th>3</th>\n",
              "      <td>23.68</td>\n",
              "      <td>3.31</td>\n",
              "      <td>Male</td>\n",
              "      <td>No</td>\n",
              "      <td>Sun</td>\n",
              "      <td>Dinner</td>\n",
              "      <td>2</td>\n",
              "    </tr>\n",
              "    <tr>\n",
              "      <th>4</th>\n",
              "      <td>24.59</td>\n",
              "      <td>3.61</td>\n",
              "      <td>Female</td>\n",
              "      <td>No</td>\n",
              "      <td>Sun</td>\n",
              "      <td>Dinner</td>\n",
              "      <td>4</td>\n",
              "    </tr>\n",
              "    <tr>\n",
              "      <th>...</th>\n",
              "      <td>...</td>\n",
              "      <td>...</td>\n",
              "      <td>...</td>\n",
              "      <td>...</td>\n",
              "      <td>...</td>\n",
              "      <td>...</td>\n",
              "      <td>...</td>\n",
              "    </tr>\n",
              "    <tr>\n",
              "      <th>239</th>\n",
              "      <td>29.03</td>\n",
              "      <td>5.92</td>\n",
              "      <td>Male</td>\n",
              "      <td>No</td>\n",
              "      <td>Sat</td>\n",
              "      <td>Dinner</td>\n",
              "      <td>3</td>\n",
              "    </tr>\n",
              "    <tr>\n",
              "      <th>240</th>\n",
              "      <td>27.18</td>\n",
              "      <td>2.00</td>\n",
              "      <td>Female</td>\n",
              "      <td>Yes</td>\n",
              "      <td>Sat</td>\n",
              "      <td>Dinner</td>\n",
              "      <td>2</td>\n",
              "    </tr>\n",
              "    <tr>\n",
              "      <th>241</th>\n",
              "      <td>22.67</td>\n",
              "      <td>2.00</td>\n",
              "      <td>Male</td>\n",
              "      <td>Yes</td>\n",
              "      <td>Sat</td>\n",
              "      <td>Dinner</td>\n",
              "      <td>2</td>\n",
              "    </tr>\n",
              "    <tr>\n",
              "      <th>242</th>\n",
              "      <td>17.82</td>\n",
              "      <td>1.75</td>\n",
              "      <td>Male</td>\n",
              "      <td>No</td>\n",
              "      <td>Sat</td>\n",
              "      <td>Dinner</td>\n",
              "      <td>2</td>\n",
              "    </tr>\n",
              "    <tr>\n",
              "      <th>243</th>\n",
              "      <td>18.78</td>\n",
              "      <td>3.00</td>\n",
              "      <td>Female</td>\n",
              "      <td>No</td>\n",
              "      <td>Thur</td>\n",
              "      <td>Dinner</td>\n",
              "      <td>2</td>\n",
              "    </tr>\n",
              "  </tbody>\n",
              "</table>\n",
              "<p>244 rows × 7 columns</p>\n",
              "</div>"
            ],
            "text/plain": [
              "     total_bill   tip     sex smoker   day    time  size\n",
              "0         16.99  1.01  Female     No   Sun  Dinner     2\n",
              "1         10.34  1.66    Male     No   Sun  Dinner     3\n",
              "2         21.01  3.50    Male     No   Sun  Dinner     3\n",
              "3         23.68  3.31    Male     No   Sun  Dinner     2\n",
              "4         24.59  3.61  Female     No   Sun  Dinner     4\n",
              "..          ...   ...     ...    ...   ...     ...   ...\n",
              "239       29.03  5.92    Male     No   Sat  Dinner     3\n",
              "240       27.18  2.00  Female    Yes   Sat  Dinner     2\n",
              "241       22.67  2.00    Male    Yes   Sat  Dinner     2\n",
              "242       17.82  1.75    Male     No   Sat  Dinner     2\n",
              "243       18.78  3.00  Female     No  Thur  Dinner     2\n",
              "\n",
              "[244 rows x 7 columns]"
            ]
          },
          "execution_count": 73,
          "metadata": {},
          "output_type": "execute_result"
        }
      ],
      "source": [
        "df"
      ]
    },
    {
      "cell_type": "markdown",
      "id": "04fff807",
      "metadata": {
        "id": "04fff807"
      },
      "source": [
        "<div class=\"alert alert-block alert-success\"><b>THE CSV FILE HAS BEEN PRINTED"
      ]
    },
    {
      "cell_type": "code",
      "execution_count": null,
      "id": "8feeecae",
      "metadata": {
        "id": "8feeecae",
        "outputId": "5a1f91c6-4db3-40b7-fc03-a535aad82e12"
      },
      "outputs": [
        {
          "data": {
            "text/plain": [
              "[<matplotlib.lines.Line2D at 0x1994c0edaf0>]"
            ]
          },
          "execution_count": 74,
          "metadata": {},
          "output_type": "execute_result"
        },
        {
          "data": {
            "image/png": "[encoded data removed]",
            "text/plain": [
              "<Figure size 576x396 with 1 Axes>"
            ]
          },
          "metadata": {},
          "output_type": "display_data"
        }
      ],
      "source": [
        "a=df[\"day\"]\n",
        "b=df[\"time\"]\n",
        "plt.plot_date(b,a,linestyle='solid')"
      ]
    },
    {
      "cell_type": "markdown",
      "id": "d42a09f9",
      "metadata": {
        "id": "d42a09f9"
      },
      "source": [
        "<div class=\"alert alert-block alert-success\">\n",
        "<span style= 'background: white'> Functions used for graphical representation</span>\n",
        "\n",
        "<b>plt.title()</b>- setting the title of the graph <br>\n",
        "<b>plt.xlabel()</b>- setting the title of the x-axis<br>\n",
        "<b>plt.ylabel()</b>-setting the title of the y-axis"
      ]
    },
    {
      "cell_type": "code",
      "execution_count": null,
      "id": "b7698e03",
      "metadata": {
        "id": "b7698e03"
      },
      "outputs": [],
      "source": [
        "df2=df.head(5)   #Reducing the size of the dataframe to only 5 rows\n",
        "a=df2['total_bill']\n",
        "b=df2['tip']"
      ]
    },
    {
      "cell_type": "code",
      "execution_count": null,
      "id": "320d5298",
      "metadata": {
        "id": "320d5298",
        "outputId": "6a6a0cca-7c2a-47d5-d4c0-231c10287587"
      },
      "outputs": [
        {
          "data": {
            "image/png": "[encoded data removed]",
            "text/plain": [
              "<Figure size 576x396 with 1 Axes>"
            ]
          },
          "metadata": {},
          "output_type": "display_data"
        }
      ],
      "source": [
        "plt.plot(a,b,'--')\n",
        "plt.title(\"FIRST GRAPH\")\n",
        "plt.xlabel('Total_bill')\n",
        "plt.ylabel('Tip')\n",
        "plt.show()"
      ]
    },
    {
      "cell_type": "markdown",
      "id": "b879b1c1",
      "metadata": {
        "id": "b879b1c1"
      },
      "source": [
        "<div class=\"alert alert-block alert-warning\n",
        "            \"><b> NOTE-WE CAN SET THE COLOR OF THE LINE IN THE GRAPH AND ALSO SET THE LINESTYLE BY USING THE FOLLOWING ARGUMENTS IN THE FUNCTION"
      ]
    },
    {
      "cell_type": "code",
      "execution_count": null,
      "id": "5f2e698d",
      "metadata": {
        "id": "5f2e698d",
        "outputId": "c5f274ac-948a-4453-f51d-87d2fdf2a1fc"
      },
      "outputs": [
        {
          "data": {
            "text/plain": [
              "[<matplotlib.lines.Line2D at 0x1994c1a6fa0>]"
            ]
          },
          "execution_count": 77,
          "metadata": {},
          "output_type": "execute_result"
        },
        {
          "data": {
            "image/png": "[encoded data removed]",
            "text/plain": [
              "<Figure size 576x396 with 1 Axes>"
            ]
          },
          "metadata": {},
          "output_type": "display_data"
        }
      ],
      "source": [
        "plt.plot(a,b, linestyle='-',color='#8B008B')"
      ]
    },
    {
      "cell_type": "markdown",
      "id": "895fc3e8",
      "metadata": {
        "id": "895fc3e8"
      },
      "source": [
        "##### 12."
      ]
    },
    {
      "cell_type": "markdown",
      "id": "c09979a2",
      "metadata": {
        "id": "c09979a2"
      },
      "source": [
        "###  <span style='background:#D7A9E3FF;text-align:center;'>Bar Plot</span>"
      ]
    },
    {
      "cell_type": "code",
      "execution_count": null,
      "id": "1fd77831",
      "metadata": {
        "id": "1fd77831",
        "outputId": "555c6eb2-ed86-4abd-8a63-1e0a4f5e198f"
      },
      "outputs": [
        {
          "data": {
            "text/plain": [
              "<BarContainer object of 8 artists>"
            ]
          },
          "execution_count": 78,
          "metadata": {},
          "output_type": "execute_result"
        },
        {
          "data": {
            "image/png": "[encoded data removed]",
            "text/plain": [
              "<Figure size 576x396 with 1 Axes>"
            ]
          },
          "metadata": {},
          "output_type": "display_data"
        }
      ],
      "source": [
        "df3=df.head(8)\n",
        "g=df3['total_bill']\n",
        "h=df3['tip']\n",
        "plt.bar(g,h,color='#045F5F') #using color codes for different colours"
      ]
    },
    {
      "cell_type": "markdown",
      "id": "841ef4f2",
      "metadata": {
        "id": "841ef4f2"
      },
      "source": [
        "##### 13."
      ]
    },
    {
      "cell_type": "markdown",
      "id": "6b0da476",
      "metadata": {
        "id": "6b0da476"
      },
      "source": [
        "###  <span style='background:#D7A9E3FF;text-align:center;'>Histograms</span>"
      ]
    },
    {
      "cell_type": "markdown",
      "id": "28d46cc5",
      "metadata": {
        "id": "28d46cc5"
      },
      "source": [
        "<div class=\"alert alert-info\">A histogram is basically used to represent data provided in a form of some groups.It is accurate method for the graphical representation of numerical data distribution.It is a type of bar plot where X-axis represents the bin ranges while Y-axis gives information about frequency.</div>"
      ]
    },
    {
      "cell_type": "code",
      "execution_count": null,
      "id": "7a038c2b",
      "metadata": {
        "id": "7a038c2b"
      },
      "outputs": [],
      "source": [
        "#using 'fivethirtyeight' for better representation\n",
        "plt.style.use('fivethirtyeight')"
      ]
    },
    {
      "cell_type": "code",
      "execution_count": null,
      "id": "fa31e59e",
      "metadata": {
        "id": "fa31e59e",
        "outputId": "7129460f-7b7e-4f81-e865-4fc3d7915cf2"
      },
      "outputs": [
        {
          "data": {
            "text/plain": [
              "(array([41., 79., 66., 27., 19.,  5.,  4.,  1.,  1.,  1.]),\n",
              " array([ 1. ,  1.9,  2.8,  3.7,  4.6,  5.5,  6.4,  7.3,  8.2,  9.1, 10. ]),\n",
              " <BarContainer object of 10 artists>)"
            ]
          },
          "execution_count": 80,
          "metadata": {},
          "output_type": "execute_result"
        },
        {
          "data": {
            "image/png": "[encoded data removed]",
            "text/plain": [
              "<Figure size 576x396 with 1 Axes>"
            ]
          },
          "metadata": {},
          "output_type": "display_data"
        }
      ],
      "source": [
        "total_bill=df['total_bill']\n",
        "tip=df['tip']\n",
        "\n",
        "#creating title for the plot\n",
        "plt.title('total bill vs tip given ')\n",
        "\n",
        "#labelling X-axis\n",
        "plt.xlabel('tip')\n",
        "\n",
        "#labelling Y-axis\n",
        "plt.ylabel('total bill')\n",
        "\n",
        "#tight layout is used for giving the plot some padding\n",
        "plt.tight_layout()\n",
        "\n",
        "#bins is used for the number of bars required\n",
        "bins=10\n",
        "\n",
        "#creating a histogram\n",
        "plt.hist(tip, bins=bins, edgecolor='black')"
      ]
    },
    {
      "cell_type": "markdown",
      "id": "32439797",
      "metadata": {
        "id": "32439797"
      },
      "source": [
        "<div class=\"alert alert-success\"><b> We can see the distribution in lower regions more"
      ]
    },
    {
      "cell_type": "code",
      "execution_count": null,
      "id": "31389a30",
      "metadata": {
        "scrolled": false,
        "id": "31389a30",
        "outputId": "01a46ff8-8234-4523-d989-f276df44d381"
      },
      "outputs": [
        {
          "data": {
            "text/plain": [
              "(array([85., 76., 51., 20.,  7.,  3.,  0.,  2.]),\n",
              " array([ 1.   ,  2.125,  3.25 ,  4.375,  5.5  ,  6.625,  7.75 ,  8.875,\n",
              "        10.   ]),\n",
              " <BarContainer object of 8 artists>)"
            ]
          },
          "execution_count": 81,
          "metadata": {},
          "output_type": "execute_result"
        },
        {
          "data": {
            "image/png": "[encoded data removed]",
            "text/plain": [
              "<Figure size 576x396 with 1 Axes>"
            ]
          },
          "metadata": {},
          "output_type": "display_data"
        }
      ],
      "source": [
        "plt.title('total bill vs tip given ')\n",
        "plt.xlabel('tip')\n",
        "plt.ylabel('total bill')\n",
        "plt.hist(tip, bins=8, edgecolor='black', log=True)"
      ]
    },
    {
      "cell_type": "markdown",
      "id": "64e55f01",
      "metadata": {
        "id": "64e55f01"
      },
      "source": [
        "<div class=\"alert alert-success\"> <b>=> 'bins'</b> is used to pass either an integer or a list of values. If an integer value is passed the it will just make that number of bins and divide the data into those accordingly.\n",
        "\n",
        "<b>=> 'edgecolor'</b> is to used for better prediction.\n",
        "\n",
        "<b>=> 'log'</b> is used for plotting on a logarithmic scale.</div>"
      ]
    },
    {
      "cell_type": "code",
      "execution_count": null,
      "id": "0f42bed6",
      "metadata": {
        "id": "0f42bed6",
        "outputId": "64bedec1-1163-4058-a6b0-af2d8fc77425"
      },
      "outputs": [
        {
          "data": {
            "text/plain": [
              "2.9982786885245902"
            ]
          },
          "execution_count": 82,
          "metadata": {},
          "output_type": "execute_result"
        }
      ],
      "source": [
        "#finding the mean\n",
        "mean=df['tip'].mean()\n",
        "mean"
      ]
    },
    {
      "cell_type": "code",
      "execution_count": null,
      "id": "0d23067e",
      "metadata": {
        "id": "0d23067e",
        "outputId": "66673e17-51bc-454d-cca8-3b396120bdb3"
      },
      "outputs": [
        {
          "data": {
            "text/plain": [
              "<matplotlib.lines.Line2D at 0x1994c26b4c0>"
            ]
          },
          "execution_count": 83,
          "metadata": {},
          "output_type": "execute_result"
        },
        {
          "data": {
            "image/png": "[encoded data removed]",
            "text/plain": [
              "<Figure size 576x396 with 1 Axes>"
            ]
          },
          "metadata": {},
          "output_type": "display_data"
        }
      ],
      "source": [
        "total_bill=df['total_bill']\n",
        "tip=df['tip']\n",
        "\n",
        "#creating title for the plot\n",
        "plt.title('total bill vs tip given')\n",
        "\n",
        "#labelling X-axis\n",
        "plt.xlabel('tip')\n",
        "\n",
        "#labelling Y-axis\n",
        "plt.ylabel('total_bill')\n",
        "\n",
        "#tight layout is used for giving the plot some padding\n",
        "plt.tight_layout()\n",
        "\n",
        "#'bins' are used for the number of bars required\n",
        "bins=5\n",
        "\n",
        "#creating a histogram\n",
        "plt.hist(tip, bins=bins, edgecolor='black')\n",
        "\n",
        "#vertical line\n",
        "plt.axvline(mean, color='green',linewidth=2)\n",
        "\n",
        "\n",
        "#horizontal line\n",
        "plt.axhline(mean, color='green',linewidth=2)"
      ]
    },
    {
      "cell_type": "markdown",
      "id": "4ac82bf2",
      "metadata": {
        "id": "4ac82bf2"
      },
      "source": [
        "<div class=\"alert alert-success\">=> For adding additional information in the plot, one can plot a vertical line using 'axvline' which stands for 'Axis Vertical Line.\n",
        "\n",
        "=> One can also add color to the vertical line.\n",
        "\n",
        "=> 'linewidth' is used to change the thickness of the vertical line.</div>"
      ]
    },
    {
      "cell_type": "markdown",
      "id": "8182dd77",
      "metadata": {
        "id": "8182dd77"
      },
      "source": [
        "##### 14."
      ]
    },
    {
      "cell_type": "markdown",
      "id": "7ed130f1",
      "metadata": {
        "id": "7ed130f1"
      },
      "source": [
        "###  <span style='background:#D7A9E3FF;text-align:center;'>Scatter Plot</span>"
      ]
    },
    {
      "cell_type": "markdown",
      "id": "042168c4",
      "metadata": {
        "id": "042168c4"
      },
      "source": [
        "<div class=\"alert alert-info\">A scatter plot is a diagram where each value in the data set is represented by a dot.</div>"
      ]
    },
    {
      "cell_type": "code",
      "execution_count": null,
      "id": "993fea3e",
      "metadata": {
        "id": "993fea3e"
      },
      "outputs": [],
      "source": [
        "plt.style.use('seaborn')"
      ]
    },
    {
      "cell_type": "code",
      "execution_count": null,
      "id": "80f847da",
      "metadata": {
        "scrolled": false,
        "id": "80f847da",
        "outputId": "4f1409b8-1512-4c47-8d67-3c5437005727"
      },
      "outputs": [
        {
          "data": {
            "text/plain": [
              "Text(0, 0.5, 'tips')"
            ]
          },
          "execution_count": 85,
          "metadata": {},
          "output_type": "execute_result"
        },
        {
          "data": {
            "image/png": "[encoded data removed]",
            "text/plain": [
              "<Figure size 576x396 with 1 Axes>"
            ]
          },
          "metadata": {},
          "output_type": "display_data"
        }
      ],
      "source": [
        "plt.scatter(total_bill,tip,color='red',edgecolor='black', linewidth=0.5)\n",
        "plt.title('Scatter Plot ')\n",
        "plt.xlabel('total bill')\n",
        "plt.ylabel('tips')"
      ]
    },
    {
      "cell_type": "markdown",
      "id": "fe9d7802",
      "metadata": {
        "id": "fe9d7802"
      },
      "source": [
        "<div class=\"alert alert-success\"><b>Here we can see that density of data is very well visualized</div>"
      ]
    },
    {
      "cell_type": "markdown",
      "id": "bb7fe1c5",
      "metadata": {
        "id": "bb7fe1c5"
      },
      "source": [
        "##### 15."
      ]
    },
    {
      "cell_type": "markdown",
      "id": "0abb7663",
      "metadata": {
        "id": "0abb7663"
      },
      "source": [
        "###  <span style='background:#D7A9E3FF;text-align:center;'>Pie Chart</span>"
      ]
    },
    {
      "cell_type": "markdown",
      "id": "f144f9a6",
      "metadata": {
        "id": "f144f9a6"
      },
      "source": [
        "<div class=\"alert alert-warning\">\n",
        "    <b>A diagram consisting of a circle divided into parts to show the size of particular parts in relation to the whole"
      ]
    },
    {
      "cell_type": "code",
      "execution_count": null,
      "id": "7f26a750",
      "metadata": {
        "id": "7f26a750",
        "outputId": "bc7fe2a3-4566-42fb-8f77-da85e3a9c469"
      },
      "outputs": [
        {
          "data": {
            "text/plain": [
              "No     151\n",
              "Yes     93\n",
              "Name: smoker, dtype: int64"
            ]
          },
          "execution_count": 86,
          "metadata": {},
          "output_type": "execute_result"
        }
      ],
      "source": [
        "tips = pd.read_csv(\"tips.csv\")\n",
        "# value_counts() function returns object containing counts of unique values\n",
        "tips['smoker'].value_counts()"
      ]
    },
    {
      "cell_type": "code",
      "execution_count": null,
      "id": "ca677b1f",
      "metadata": {
        "id": "ca677b1f",
        "outputId": "908349a9-d954-4cc2-9cb5-1974ef27c349"
      },
      "outputs": [
        {
          "data": {
            "text/plain": [
              "[151, 93]"
            ]
          },
          "execution_count": 87,
          "metadata": {},
          "output_type": "execute_result"
        }
      ],
      "source": [
        "# storing the values in form of a list\n",
        "values = [151 , 93]\n",
        "values"
      ]
    },
    {
      "cell_type": "code",
      "execution_count": null,
      "id": "11568ec6",
      "metadata": {
        "id": "11568ec6",
        "outputId": "91fdf31f-2010-453d-e663-3e334df2537d"
      },
      "outputs": [
        {
          "data": {
            "image/png": "[encoded data removed]",
            "text/plain": [
              "<Figure size 576x396 with 1 Axes>"
            ]
          },
          "metadata": {},
          "output_type": "display_data"
        }
      ],
      "source": [
        "# Labels are a kind of naming that can be applied to any node in the graph.\n",
        "values = [151 ,93]\n",
        "labels = ['no','yes']\n",
        "plt.pie(values , labels = labels)\n",
        "# plt.title() is used to add title to our pie chart\n",
        "plt.title(\"Pie chart for smoker\")\n",
        "# plt.show() is necessary to display the plot\n",
        "plt.show()"
      ]
    },
    {
      "cell_type": "code",
      "execution_count": null,
      "id": "808fa545",
      "metadata": {
        "id": "808fa545",
        "outputId": "bac86891-a765-4029-c2e0-e7a2ec3f5801"
      },
      "outputs": [
        {
          "data": {
            "image/png": "[encoded data removed]",
            "text/plain": [
              "<Figure size 576x396 with 1 Axes>"
            ]
          },
          "metadata": {},
          "output_type": "display_data"
        }
      ],
      "source": [
        "values = [151 ,93]\n",
        "labels = ['no','yes']\n",
        "# wedgeprops = The wedges in the pie chart can be given a border\n",
        "plt.pie(values , labels = labels,wedgeprops ={'edgecolor':'black'})\n",
        "plt.title(\"Pie chart for smoker\")\n",
        "plt.show()"
      ]
    },
    {
      "cell_type": "code",
      "execution_count": null,
      "id": "be5fd1ef",
      "metadata": {
        "id": "be5fd1ef",
        "outputId": "58c5a3f9-019d-478a-e47b-fc450299e631"
      },
      "outputs": [
        {
          "data": {
            "image/png": "[encoded data removed]",
            "text/plain": [
              "<Figure size 576x396 with 1 Axes>"
            ]
          },
          "metadata": {},
          "output_type": "display_data"
        }
      ],
      "source": [
        "values = [151 ,93]\n",
        "labels = ['no','yes']\n",
        "# colors attribute is used to change the color of the pie chart\n",
        "colors = ['green','blue']\n",
        "plt.pie(values , labels = labels,colors = colors,wedgeprops ={'edgecolor':'black'})\n",
        "plt.title(\"Pie chart for smoker\")\n",
        "plt.show()"
      ]
    },
    {
      "cell_type": "code",
      "execution_count": null,
      "id": "1ae95da6",
      "metadata": {
        "scrolled": true,
        "id": "1ae95da6",
        "outputId": "b92d59b9-6d39-4b54-936d-cc8021409ccf"
      },
      "outputs": [
        {
          "data": {
            "image/png": "[encoded data removed]",
            "text/plain": [
              "<Figure size 576x396 with 1 Axes>"
            ]
          },
          "metadata": {},
          "output_type": "display_data"
        }
      ],
      "source": [
        "values = [151 ,93]\n",
        "labels = ['no','yes']\n",
        "colors = ['green','blue']\n",
        "# To explode a pie chart means to make one of the wedges of the pie chart to stand out.\n",
        "# Here 0.1 means the distance by which the wedge will stand out\n",
        "explode = [0,0.1]\n",
        "plt.pie(values , labels = labels,colors = colors,explode = explode, wedgeprops ={'edgecolor':'black'})\n",
        "plt.title(\"Pie chart for smoker\")\n",
        "plt.show()"
      ]
    },
    {
      "cell_type": "markdown",
      "id": "dab7c59d",
      "metadata": {
        "id": "dab7c59d"
      },
      "source": [
        "<div class=\"alert alert-success\"><b>This was a step by representation of how the pie chart can be analysed and decorated step by step"
      ]
    },
    {
      "cell_type": "markdown",
      "id": "d7c248f1",
      "metadata": {
        "id": "d7c248f1"
      },
      "source": [
        "##### 16."
      ]
    },
    {
      "cell_type": "markdown",
      "id": "3b8f2745",
      "metadata": {
        "id": "3b8f2745"
      },
      "source": [
        "###  <span style='background:#D7A9E3FF;text-align:center;'>Stack Plot\n",
        "</span>"
      ]
    },
    {
      "cell_type": "markdown",
      "id": "15ffa838",
      "metadata": {
        "id": "15ffa838"
      },
      "source": [
        "<div class=\"alert alert-warning\"><b>\n",
        "Stackplot is used to draw a stacked area plot. It displays the complete data for visualization. It shows each part stacked onto one another and how each part makes the complete figure.\n",
        "\n",
        "A stacked graph is useful for looking at changes in, for example, expenditures added up over time, across several products or services"
      ]
    },
    {
      "cell_type": "code",
      "execution_count": null,
      "id": "5844ee5a",
      "metadata": {
        "id": "5844ee5a",
        "outputId": "8a601ba8-a2a2-4b0c-f23d-e4d8110e9a83"
      },
      "outputs": [
        {
          "data": {
            "image/png": "[encoded data removed]",
            "text/plain": [
              "<Figure size 576x396 with 1 Axes>"
            ]
          },
          "metadata": {},
          "output_type": "display_data"
        }
      ],
      "source": [
        "# sort_values can sort the data frame in any order\n",
        "# head funtion is used to get the first n rows\n",
        "tips = tips.sort_values('tip').head(10)\n",
        "plt.stackplot(tips['tip'],tips['total_bill'],tips['size'],labels=labels)\n",
        "# Adding Labels to our stack plot\n",
        "labels = ['tip','total_bill','size']\n",
        "plt.title(\"Stack Plot\")\n",
        "# A legend is an area describing the elements of the graph.\n",
        "plt.legend()\n",
        "plt.show()\n"
      ]
    },
    {
      "cell_type": "code",
      "execution_count": null,
      "id": "0345ae72",
      "metadata": {
        "scrolled": false,
        "id": "0345ae72",
        "outputId": "c860d3d9-931f-4dbf-c11d-f5771025b3b6"
      },
      "outputs": [
        {
          "data": {
            "image/png": "[encoded data removed]",
            "text/plain": [
              "<Figure size 576x396 with 1 Axes>"
            ]
          },
          "metadata": {},
          "output_type": "display_data"
        }
      ],
      "source": [
        "# Adding colors to our stack plot\n",
        "colors = ['blue','Red','Yellow']\n",
        "plt.stackplot(tips['tip'],tips['total_bill'],tips['size'],labels=labels,colors = colors)\n",
        "plt.title(\"Stack Plot\")\n",
        "# shifting the legend by giving the location where loc=location\n",
        "plt.legend(loc = 'upper left')\n",
        "plt.show()"
      ]
    },
    {
      "cell_type": "markdown",
      "id": "8b807b7a",
      "metadata": {
        "id": "8b807b7a"
      },
      "source": [
        "<br>"
      ]
    },
    {
      "cell_type": "markdown",
      "id": "5e948e80",
      "metadata": {
        "id": "5e948e80"
      },
      "source": [
        "<br>"
      ]
    },
    {
      "cell_type": "markdown",
      "id": "f69abcab",
      "metadata": {
        "id": "f69abcab"
      },
      "source": [
        "<br>"
      ]
    },
    {
      "cell_type": "markdown",
      "id": "68df5e80",
      "metadata": {
        "id": "68df5e80"
      },
      "source": [
        "# Seaborn\n"
      ]
    },
    {
      "cell_type": "markdown",
      "id": "722abf74",
      "metadata": {
        "id": "722abf74"
      },
      "source": [
        "##### 17."
      ]
    },
    {
      "cell_type": "markdown",
      "id": "0e6cbecd",
      "metadata": {
        "id": "0e6cbecd"
      },
      "source": [
        "### <span style='background:#D7A9E3FF'>Basic plots"
      ]
    },
    {
      "cell_type": "markdown",
      "id": "776dc0ce",
      "metadata": {
        "id": "776dc0ce"
      },
      "source": [
        "<div class=\"alert alert-block alert-success\">\n",
        "<i> Importing the required libraries </i>"
      ]
    },
    {
      "cell_type": "code",
      "execution_count": null,
      "id": "c988a5c7",
      "metadata": {
        "id": "c988a5c7"
      },
      "outputs": [],
      "source": [
        "import matplotlib.pyplot as plt\n",
        "import numpy as np\n",
        "import pandas as pd\n",
        "import seaborn as sns"
      ]
    },
    {
      "cell_type": "markdown",
      "id": "371d4eea",
      "metadata": {
        "id": "371d4eea"
      },
      "source": [
        "<div class=\"alert alert-block alert-success\">\n",
        "<i> Loading the iris dataset from seaborn </i>"
      ]
    },
    {
      "cell_type": "markdown",
      "id": "160c4284",
      "metadata": {
        "id": "160c4284"
      },
      "source": [
        "<div class=\"alert alert-block alert-danger\">\n",
        "<b> Note : sns.load_dataset is only used for loading or importing the dataset if present in seaborn library otherwise use pandas read csv method"
      ]
    },
    {
      "cell_type": "code",
      "execution_count": null,
      "id": "4dcd25df",
      "metadata": {
        "id": "4dcd25df"
      },
      "outputs": [],
      "source": [
        "iris = sns.load_dataset(\"iris\")"
      ]
    },
    {
      "cell_type": "markdown",
      "id": "37af6603",
      "metadata": {
        "id": "37af6603"
      },
      "source": [
        "<div class=\"alert alert-block alert-success\">\n",
        "<i> Checking the first 5 values of the dataset using the head function </i>"
      ]
    },
    {
      "cell_type": "code",
      "execution_count": null,
      "id": "6ad7643c",
      "metadata": {
        "id": "6ad7643c",
        "outputId": "40d8b219-96d5-4b9d-894c-4392bea1da84"
      },
      "outputs": [
        {
          "data": {
            "text/html": [
              "<div>\n",
              "<style scoped>\n",
              "    .dataframe tbody tr th:only-of-type {\n",
              "        vertical-align: middle;\n",
              "    }\n",
              "\n",
              "    .dataframe tbody tr th {\n",
              "        vertical-align: top;\n",
              "    }\n",
              "\n",
              "    .dataframe thead th {\n",
              "        text-align: right;\n",
              "    }\n",
              "</style>\n",
              "<table border=\"1\" class=\"dataframe\">\n",
              "  <thead>\n",
              "    <tr style=\"text-align: right;\">\n",
              "      <th></th>\n",
              "      <th>sepal_length</th>\n",
              "      <th>sepal_width</th>\n",
              "      <th>petal_length</th>\n",
              "      <th>petal_width</th>\n",
              "      <th>species</th>\n",
              "    </tr>\n",
              "  </thead>\n",
              "  <tbody>\n",
              "    <tr>\n",
              "      <th>0</th>\n",
              "      <td>5.1</td>\n",
              "      <td>3.5</td>\n",
              "      <td>1.4</td>\n",
              "      <td>0.2</td>\n",
              "      <td>setosa</td>\n",
              "    </tr>\n",
              "    <tr>\n",
              "      <th>1</th>\n",
              "      <td>4.9</td>\n",
              "      <td>3.0</td>\n",
              "      <td>1.4</td>\n",
              "      <td>0.2</td>\n",
              "      <td>setosa</td>\n",
              "    </tr>\n",
              "    <tr>\n",
              "      <th>2</th>\n",
              "      <td>4.7</td>\n",
              "      <td>3.2</td>\n",
              "      <td>1.3</td>\n",
              "      <td>0.2</td>\n",
              "      <td>setosa</td>\n",
              "    </tr>\n",
              "    <tr>\n",
              "      <th>3</th>\n",
              "      <td>4.6</td>\n",
              "      <td>3.1</td>\n",
              "      <td>1.5</td>\n",
              "      <td>0.2</td>\n",
              "      <td>setosa</td>\n",
              "    </tr>\n",
              "    <tr>\n",
              "      <th>4</th>\n",
              "      <td>5.0</td>\n",
              "      <td>3.6</td>\n",
              "      <td>1.4</td>\n",
              "      <td>0.2</td>\n",
              "      <td>setosa</td>\n",
              "    </tr>\n",
              "  </tbody>\n",
              "</table>\n",
              "</div>"
            ],
            "text/plain": [
              "   sepal_length  sepal_width  petal_length  petal_width species\n",
              "0           5.1          3.5           1.4          0.2  setosa\n",
              "1           4.9          3.0           1.4          0.2  setosa\n",
              "2           4.7          3.2           1.3          0.2  setosa\n",
              "3           4.6          3.1           1.5          0.2  setosa\n",
              "4           5.0          3.6           1.4          0.2  setosa"
            ]
          },
          "execution_count": 96,
          "metadata": {},
          "output_type": "execute_result"
        }
      ],
      "source": [
        "iris.head()"
      ]
    },
    {
      "cell_type": "markdown",
      "id": "fd9eb09e",
      "metadata": {
        "id": "fd9eb09e"
      },
      "source": [
        "<div class=\"alert alert-block alert-success\">\n",
        "<i> Seperating/Splitting the dataset into two seperate dataframes by the type of species </i>"
      ]
    },
    {
      "cell_type": "code",
      "execution_count": null,
      "id": "d09e5589",
      "metadata": {
        "id": "d09e5589"
      },
      "outputs": [],
      "source": [
        "setosa=iris.loc[iris.species== \"setosa\"]\n",
        "virginica = iris.loc[iris.species == \"virginica\"]"
      ]
    },
    {
      "cell_type": "markdown",
      "id": "50365105",
      "metadata": {
        "id": "50365105"
      },
      "source": [
        "##### 18."
      ]
    },
    {
      "cell_type": "markdown",
      "id": "9225af5e",
      "metadata": {
        "id": "9225af5e"
      },
      "source": [
        "### <span style='background:#D7A9E3FF'>Histogram and Density Plots"
      ]
    },
    {
      "cell_type": "markdown",
      "id": "30bfdf74",
      "metadata": {
        "id": "30bfdf74"
      },
      "source": [
        "<div class=\"alert alert-block alert-success\">\n",
        "<i> Here we are plotting a histogram which is generally used for representing the distribution of the data </i><br>\n",
        "<i> To plot a histogram of a particular feature select that feature/column and then use the hist() function"
      ]
    },
    {
      "cell_type": "code",
      "execution_count": null,
      "id": "da229771",
      "metadata": {
        "id": "da229771",
        "outputId": "121dc54a-81e4-4a1e-f253-0861533b6aca"
      },
      "outputs": [
        {
          "data": {
            "text/plain": [
              "<AxesSubplot:ylabel='Frequency'>"
            ]
          },
          "execution_count": 98,
          "metadata": {},
          "output_type": "execute_result"
        },
        {
          "data": {
            "image/png": "[encoded data removed]",
            "text/plain": [
              "<Figure size 576x396 with 1 Axes>"
            ]
          },
          "metadata": {},
          "output_type": "display_data"
        }
      ],
      "source": [
        "setosa.sepal_length.plot.hist()"
      ]
    },
    {
      "cell_type": "markdown",
      "id": "55b8aa82",
      "metadata": {
        "id": "55b8aa82"
      },
      "source": [
        "<div class=\"alert alert-block alert-success\">\n",
        "<i> Here we are plotting a KDE plot (kernel density estimate) </i><br>\n",
        "<i> A kernel density estimate (KDE) plot is a method for visualizing the distribution of observations in a dataset, analogous to a histogram. KDE represents the data using a continuous probability density curve."
      ]
    },
    {
      "cell_type": "markdown",
      "id": "e823a4ae",
      "metadata": {
        "id": "e823a4ae"
      },
      "source": [
        "<div class=\"alert alert-block alert-info\">\n",
        "<i> We can plot the KDE plot using the kdeplot function present in the seaborn library , Firstly specify the x axis or y axis or both i.e the data of which column or feature you want to represent , <b>shade</b> parameter has been used for filling the plot with the color specified in the <b>color</b> parameter"
      ]
    },
    {
      "cell_type": "code",
      "execution_count": null,
      "id": "0ac90d9f",
      "metadata": {
        "id": "0ac90d9f",
        "outputId": "94d9557b-39ac-4e14-e8f6-7dd727195e84"
      },
      "outputs": [
        {
          "data": {
            "text/plain": [
              "<AxesSubplot:xlabel='sepal_length', ylabel='Density'>"
            ]
          },
          "execution_count": 99,
          "metadata": {},
          "output_type": "execute_result"
        },
        {
          "data": {
            "image/png": "[encoded data removed]",
            "text/plain": [
              "<Figure size 576x396 with 1 Axes>"
            ]
          },
          "metadata": {},
          "output_type": "display_data"
        }
      ],
      "source": [
        "sns.kdeplot(\n",
        "    setosa.sepal_length, shade=True, color=\"r\")"
      ]
    },
    {
      "cell_type": "markdown",
      "id": "5202b410",
      "metadata": {
        "id": "5202b410"
      },
      "source": [
        "<div class=\"alert alert-block alert-success\">\n",
        "<i> Similar to histograms be have histplots whose use ia almost the same as histogram but here we have seperate bins which represents the number of observations that fall under each bin"
      ]
    },
    {
      "cell_type": "markdown",
      "id": "89800565",
      "metadata": {
        "id": "89800565"
      },
      "source": [
        "<div class=\"alert alert-block alert-info\">\n",
        "<i> To plot a histplot use the histplot function of the seaborn library and set the paramenters accordingly, here setting kde = True will also plot a distribution curve over the histplot"
      ]
    },
    {
      "cell_type": "code",
      "execution_count": null,
      "id": "660a1262",
      "metadata": {
        "id": "660a1262",
        "outputId": "a094308a-54e4-41ad-960c-d6e6ce82cefd"
      },
      "outputs": [
        {
          "data": {
            "text/plain": [
              "<AxesSubplot:xlabel='sepal_length', ylabel='Count'>"
            ]
          },
          "execution_count": 100,
          "metadata": {},
          "output_type": "execute_result"
        },
        {
          "data": {
            "image/png": "[encoded data removed]",
            "text/plain": [
              "<Figure size 576x396 with 1 Axes>"
            ]
          },
          "metadata": {},
          "output_type": "display_data"
        }
      ],
      "source": [
        "sns.histplot(iris.sepal_length, kde=True)"
      ]
    },
    {
      "cell_type": "code",
      "execution_count": null,
      "id": "db1af481",
      "metadata": {
        "id": "db1af481",
        "outputId": "93cc2e8a-7dce-44ca-c4ff-6faccbd1f4c9"
      },
      "outputs": [
        {
          "data": {
            "text/plain": [
              "<AxesSubplot:xlabel='sepal_length', ylabel='Count'>"
            ]
          },
          "execution_count": 101,
          "metadata": {},
          "output_type": "execute_result"
        },
        {
          "data": {
            "image/png": "[encoded data removed]",
            "text/plain": [
              "<Figure size 576x396 with 1 Axes>"
            ]
          },
          "metadata": {},
          "output_type": "display_data"
        }
      ],
      "source": [
        "sns.histplot(\n",
        "    iris.sepal_length, kde=True, color=\"r\")\n",
        "sns.histplot(\n",
        "    iris.sepal_width, kde=True,color=\"b\")"
      ]
    },
    {
      "cell_type": "markdown",
      "id": "21c5ce05",
      "metadata": {
        "id": "21c5ce05"
      },
      "source": [
        "##### 19."
      ]
    },
    {
      "cell_type": "markdown",
      "id": "47590f07",
      "metadata": {
        "id": "47590f07"
      },
      "source": [
        "### <span style='background:#D7A9E3FF'>Pairplots"
      ]
    },
    {
      "cell_type": "markdown",
      "id": "97dded36",
      "metadata": {
        "id": "97dded36"
      },
      "source": [
        "<div class=\"alert alert-block alert-success\">\n",
        "<i>Below is a pairplot in which shows a pairwise relationships in a dataset. The pairplot function creates a grid of Axes such that each variable in data will by shared in the y-axis across a single row and in the x-axis across a single column"
      ]
    },
    {
      "cell_type": "markdown",
      "id": "ec62402f",
      "metadata": {
        "id": "ec62402f"
      },
      "source": [
        "<div class=\"alert alert-block alert-info\">\n",
        "<i> The parameter 'hue' is basically used to show different categories through different colours making the plot more interactive, engaging and more understandable."
      ]
    },
    {
      "cell_type": "code",
      "execution_count": null,
      "id": "8de64cdf",
      "metadata": {
        "id": "8de64cdf",
        "outputId": "ffea1288-c635-4835-e511-96ce44b4af1b"
      },
      "outputs": [
        {
          "data": {
            "text/plain": [
              "<seaborn.axisgrid.PairGrid at 0x1994d559ac0>"
            ]
          },
          "execution_count": 102,
          "metadata": {},
          "output_type": "execute_result"
        },
        {
          "data": {
            "image/png": "[encoded data removed]",
            "text/plain": [
              "<Figure size 799.125x720 with 20 Axes>"
            ]
          },
          "metadata": {},
          "output_type": "display_data"
        }
      ],
      "source": [
        "sns.pairplot(iris, hue='species')"
      ]
    },
    {
      "cell_type": "markdown",
      "id": "db8a4e9c",
      "metadata": {
        "id": "db8a4e9c"
      },
      "source": [
        "##### 20."
      ]
    },
    {
      "cell_type": "markdown",
      "id": "0cd38dd9",
      "metadata": {
        "id": "0cd38dd9"
      },
      "source": [
        "### <span style='background:#D7A9E3FF'>Box Plots"
      ]
    },
    {
      "cell_type": "markdown",
      "id": "a429d395",
      "metadata": {
        "id": "a429d395"
      },
      "source": [
        "<div class=\"alert alert-block alert-success\">\n",
        "<i> A Box plot is a plot which is generally used to identify the outliers in the dataset. Outliers are basically those datapoints which lie far away from the normal range of the data we have"
      ]
    },
    {
      "cell_type": "markdown",
      "id": "49d30579",
      "metadata": {
        "id": "49d30579"
      },
      "source": [
        "<div class=\"alert alert-block alert-info\">\n",
        "<i> To plot a box plot we can either use catplot function and inside specify the parameter kind as box as shown below or use sns.boxplot as well . We have to specify the x , y and the data parameter for specifying the x axis labels , y axis lables and the dataframe from which we are extracting the data"
      ]
    },
    {
      "cell_type": "code",
      "execution_count": null,
      "id": "31368f76",
      "metadata": {
        "id": "31368f76",
        "outputId": "42fc3dd9-f12f-4479-8ec1-5d2db1b76b87"
      },
      "outputs": [
        {
          "data": {
            "image/png": "[encoded data removed]",
            "text/plain": [
              "<Figure size 360x360 with 1 Axes>"
            ]
          },
          "metadata": {},
          "output_type": "display_data"
        }
      ],
      "source": [
        "tips = pd.read_csv(\"tips.csv\")\n",
        "with sns.axes_style(style='ticks'):\n",
        "    g = sns.catplot(x=\"day\", y=\"total_bill\", data=tips, kind=\"box\")\n",
        "    g.set_axis_labels(\"Day\", \"Total Account\")"
      ]
    },
    {
      "cell_type": "markdown",
      "id": "268d41ad",
      "metadata": {
        "id": "268d41ad"
      },
      "source": [
        "##### 21."
      ]
    },
    {
      "cell_type": "markdown",
      "id": "96a492a0",
      "metadata": {
        "id": "96a492a0"
      },
      "source": [
        "### <span style='background:#D7A9E3FF'>Joint plot"
      ]
    },
    {
      "cell_type": "markdown",
      "id": "f736044b",
      "metadata": {
        "id": "f736044b"
      },
      "source": [
        "<div class=\"alert alert-block alert-success\">\n",
        "<i> A Joint Plot is basically a type of graph which is used to plot a univariate and multivariate graph on the same plot."
      ]
    },
    {
      "cell_type": "markdown",
      "id": "ab111fb7",
      "metadata": {
        "id": "ab111fb7"
      },
      "source": [
        "<div class=\"alert alert-block alert-info\">\n",
        "<i> To plot a Joint Plot use the joinplot present in the seaborn library and as we have seen earlier specify the x and y axis accoridingly. Here we can see that there is a scatter plot between \"tip\" and \"total_bill\" and two histplots specifying the count and the distribution of the tips and total_bill."
      ]
    },
    {
      "cell_type": "code",
      "execution_count": null,
      "id": "8f39e30b",
      "metadata": {
        "scrolled": false,
        "id": "8f39e30b",
        "outputId": "7987ee15-0b89-4ee4-c01e-750221694f9d"
      },
      "outputs": [
        {
          "data": {
            "image/png": "[encoded data removed]",
            "text/plain": [
              "<Figure size 432x432 with 3 Axes>"
            ]
          },
          "metadata": {},
          "output_type": "display_data"
        }
      ],
      "source": [
        "sns.jointplot(x=\"total_bill\", y=\"tip\", data=tips,kind='reg');"
      ]
    },
    {
      "cell_type": "markdown",
      "id": "12d12e1d",
      "metadata": {
        "id": "12d12e1d"
      },
      "source": [
        "# <code style=\"background:white;color:red\">                         Thankyou\n",
        "    "
      ]
    }
  ],
  "metadata": {
    "kernelspec": {
      "display_name": "Python 3 (ipykernel)",
      "language": "python",
      "name": "python3"
    },
    "language_info": {
      "codemirror_mode": {
        "name": "ipython",
        "version": 3
      },
      "file_extension": ".py",
      "mimetype": "text/x-python",
      "name": "python",
      "nbconvert_exporter": "python",
      "pygments_lexer": "ipython3",
      "version": "3.9.7"
    },
    "colab": {
      "provenance": [],
      "collapsed_sections": [
        "5b56a738",
        "4fba44ce",
        "5c63e192",
        "abf7e37a",
        "830eae32",
        "64006b01",
        "43bcd124",
        "43364d27",
        "74fea723",
        "9a7855d3",
        "276a00cb",
        "c09979a2",
        "6b0da476",
        "7ed130f1",
        "0abb7663",
        "3b8f2745",
        "0e6cbecd",
        "9225af5e",
        "47590f07",
        "0cd38dd9",
        "96a492a0"
      ]
    }
  },
  "nbformat": 4,
  "nbformat_minor": 5
}